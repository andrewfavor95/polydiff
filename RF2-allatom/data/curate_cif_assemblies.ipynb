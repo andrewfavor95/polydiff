{
 "cells": [
  {
   "cell_type": "markdown",
   "id": "fa493aad-1992-46c3-921b-2fc9790ec7e0",
   "metadata": {},
   "source": [
    "# Curate PDB assemblies from CIF \n",
    "2023-2-11\n",
    "\n",
    "This notebook curates datasets of assemblies that may contain multiple protein chains and multiple ligand chains. These are intended to be used in phase 3 of training of the fold & dock 3 model.\n",
    "\n",
    "The code below does:\n",
    "\n",
    "1. Data curation, consisting of the following steps:\n",
    "\n",
    " - Ivan's CIFUtils parser is used to process all PDB entries downloaded in mmCIF format in Dec 2022. (During training, only examples from before 2020-04-30 are used)\n",
    " - Make a list of all small-molecule ligands, defined as sets of tuples (chain ID, residue number) with chain type \"nonpoly\" and containing covalent bonds to each other. Each of these \"query\" ligands will be the basis of a training example. Also identify if the ligand has covalent bonds to a protein chain.\n",
    " - Remove a manually chosen set of non-biological ligands (based on residue name)\n",
    " - Remove PDB ID / ligand name combinations that are not listed in PDBBind/BioLiP, to avoid low quality training examples. This removes 60-75% of ligands, so may be worth revisiting to see if some of the excluded examples are worth including in training.\n",
    " - Associate each query ligand with nearby protein and ligand chains. The protein chain with the most contacts is the \"main\" chain for this training example and its sequence is used for various filtering and merging operations later.\n",
    " - Exclude examples with protein chain similarity to Astex and CASF2016 examples, so we can use these sets for evaluation. We don't take ligand similarity into account.\n",
    " - Various filtering steps to avoid errors during featurization & training:\n",
    "   - Remove covalent protein-ligand bonds that seem non-biological (O-O, F-F, -H2O, etc)\n",
    "   - Remove examples where ligands are <1A from a protein atom\n",
    "   - Remove examples where protein chains have a different number of residues from their pre-computed MSAs (these are mistakes during MSA curation).\n",
    "   - Remove nucleic acid chains (these can be added back later, avoiding for now to simplify data loaders)\n",
    "   - Label ligands with # of atoms. These are used to filter ligands larger than the crop size to control GPU memory usage\n",
    "   \n",
    "2. Dataset splitting. We make different mutually exclusive datasets with chemically/technically different ligands to control the proportions seen during training:\n",
    "\n",
    " - Protein / organic ligands (sm_compl)\n",
    " - Protein / metal ions (metal_compl)\n",
    " - Protein / multi-residue ligands (sm_compl_multi)\n",
    " - Protein / covalent ligands (sm_compl_covale)\n",
    " - Protein / ligand assemblies (more than 1 protein or ligand chain) (sm_compl_asmb)\n",
    "\n",
    "3. Make a strict validation set for the protein / organic ligands where ligands with tanimoto similarity > 0.85 to the training set are removed."
   ]
  },
  {
   "cell_type": "markdown",
   "id": "ac815afb-7f49-409d-8351-e717b342d434",
   "metadata": {},
   "source": [
    "## Imports"
   ]
  },
  {
   "cell_type": "code",
   "execution_count": 1,
   "id": "ff355bca-e5c8-4ea3-8154-74b175a3e677",
   "metadata": {},
   "outputs": [],
   "source": [
    "import sys, os, glob, pickle, gzip\n",
    "import numpy as np\n",
    "import pandas as pd\n",
    "import seaborn as sns"
   ]
  },
  {
   "cell_type": "code",
   "execution_count": 2,
   "id": "9ea0e370-16ea-452d-b082-ea36816f31ba",
   "metadata": {},
   "outputs": [],
   "source": [
    "script_dir = os.getcwd()"
   ]
  },
  {
   "cell_type": "code",
   "execution_count": 3,
   "id": "a461e15a-0942-4390-9c84-13b3c94993b4",
   "metadata": {},
   "outputs": [],
   "source": [
    "sys.path.insert(0,script_dir+'/../')\n",
    "sys.path.insert(0,script_dir+'/../rf2aa/')\n",
    "import analysis_util\n",
    "from parsers import *\n",
    "from util import is_atom"
   ]
  },
  {
   "cell_type": "code",
   "execution_count": 4,
   "id": "33aa495b-2ba7-416b-923b-18bc5fa006ac",
   "metadata": {},
   "outputs": [],
   "source": [
    "from curation_utils import *"
   ]
  },
  {
   "cell_type": "markdown",
   "id": "8f29c5ae-7801-43ca-a05f-553e4a3db97a",
   "metadata": {},
   "source": [
    "## Pre-parse Ivan's dataset"
   ]
  },
  {
   "cell_type": "code",
   "execution_count": 3,
   "id": "5c8d15b4-5a4f-45eb-8282-f767d002b980",
   "metadata": {},
   "outputs": [
    {
     "name": "stderr",
     "output_type": "stream",
     "text": [
      "/software/conda/envs/dlchem/lib/python3.9/site-packages/tqdm/auto.py:22: TqdmWarning: IProgress not found. Please update jupyter and ipywidgets. See https://ipywidgets.readthedocs.io/en/stable/user_install.html\n",
      "  from .autonotebook import tqdm as notebook_tqdm\n"
     ]
    }
   ],
   "source": [
    "sys.path.insert(0,'/home/jue/git/chemnet/arch.22-10-28/')\n",
    "sys.path.insert(0,'/home/jue/git/chemnet/arch.22-10-28/pdb/')\n",
    "import cifutils"
   ]
  },
  {
   "cell_type": "code",
   "execution_count": 4,
   "id": "4f684f53-d232-46d3-8038-726f1150e80e",
   "metadata": {},
   "outputs": [],
   "source": [
    "Parser = cifutils.CIFParser()"
   ]
  },
  {
   "cell_type": "code",
   "execution_count": 5,
   "id": "ff4aae12-db73-47a9-99e8-bd91ef99dba6",
   "metadata": {},
   "outputs": [],
   "source": [
    "basedir = '/databases/rcsb/cif/'"
   ]
  },
  {
   "cell_type": "code",
   "execution_count": 6,
   "id": "58bfe3a0-1a4e-40fd-afaf-87de182ae668",
   "metadata": {},
   "outputs": [],
   "source": [
    "subdirs =  glob.glob(basedir+'/*/')"
   ]
  },
  {
   "cell_type": "code",
   "execution_count": 7,
   "id": "aa2da442-ea51-4981-9ba6-e82bec7e6b73",
   "metadata": {},
   "outputs": [
    {
     "data": {
      "text/plain": [
       "1060"
      ]
     },
     "execution_count": 7,
     "metadata": {},
     "output_type": "execute_result"
    }
   ],
   "source": [
    "len(subdirs)"
   ]
  },
  {
   "cell_type": "code",
   "execution_count": 8,
   "id": "667bc7d0-d74f-430c-a984-d29310e11435",
   "metadata": {},
   "outputs": [],
   "source": [
    "filenames = []"
   ]
  },
  {
   "cell_type": "code",
   "execution_count": 9,
   "id": "8b5b5606-9cd7-44cf-86b0-07778a5908e9",
   "metadata": {},
   "outputs": [],
   "source": [
    "for subdir in subdirs:\n",
    "    filenames += glob.glob(subdir+'/*.cif.gz')    "
   ]
  },
  {
   "cell_type": "code",
   "execution_count": 10,
   "id": "c61b95a6-deef-43c3-8447-02141b459579",
   "metadata": {},
   "outputs": [
    {
     "data": {
      "text/plain": [
       "202197"
      ]
     },
     "execution_count": 10,
     "metadata": {},
     "output_type": "execute_result"
    }
   ],
   "source": [
    "len(filenames)"
   ]
  },
  {
   "cell_type": "code",
   "execution_count": 11,
   "id": "c5d590cf-705b-4035-9231-645b00d36533",
   "metadata": {},
   "outputs": [],
   "source": [
    "with open('all_rcsb_cif.txt','w') as outf:\n",
    "    for fn in filenames:\n",
    "        print(fn, file=outf)"
   ]
  },
  {
   "cell_type": "code",
   "execution_count": 12,
   "id": "bcf25ded-cc2f-48f5-aaa8-a7ff6cb4d3c7",
   "metadata": {},
   "outputs": [],
   "source": [
    "filenames = [line.strip() for line in open('all_rcsb_cif.txt').readlines()]"
   ]
  },
  {
   "cell_type": "code",
   "execution_count": 13,
   "id": "6997048b-7c01-40b1-b6e3-ee26c4e06db6",
   "metadata": {},
   "outputs": [],
   "source": [
    "istart = 0\n",
    "num = 1"
   ]
  },
  {
   "cell_type": "code",
   "execution_count": 15,
   "id": "3ae72db2-0cae-42de-a8cb-7614ed331623",
   "metadata": {
    "tags": []
   },
   "outputs": [],
   "source": [
    "for fn in filenames[istart:istart+num]:\n",
    "    try:\n",
    "        chains,asmb,covale,modres = Parser.parse(fn)\n",
    "        outfn = fn.replace('/databases/rcsb/cif/','/projects/ml/RF2_allatom/rcsb/pkl_v2/')\n",
    "        outfn = outfn.replace('.cif.gz','.pkl.gz')\n",
    "        outdir = os.path.dirname(outfn)\n",
    "        os.makedirs(outdir, exist_ok=True)\n",
    "        pickle.dump((chains,asmb,covale,modres),gzip.open(outfn,'wb'))\n",
    "    except Exception as e:\n",
    "        print(fn)\n",
    "        print(repr(e))"
   ]
  },
  {
   "cell_type": "markdown",
   "id": "348d9468-b819-471f-8121-1a532c3b3fab",
   "metadata": {},
   "source": [
    "Put the above code into a python script so it can be run in parallel on many nodes to process the full dataset"
   ]
  },
  {
   "cell_type": "markdown",
   "id": "08af1a27-20b2-41cf-91c8-7743bc3fb163",
   "metadata": {},
   "source": [
    "Generate a list of commands to run"
   ]
  },
  {
   "cell_type": "code",
   "execution_count": 14,
   "id": "e91c3438-116d-4313-a8b0-66fb9aa39e32",
   "metadata": {},
   "outputs": [],
   "source": [
    "num = 500"
   ]
  },
  {
   "cell_type": "code",
   "execution_count": 15,
   "id": "85683246-6f1d-42a5-9ab4-2f81cfa33bab",
   "metadata": {},
   "outputs": [],
   "source": [
    "with open('cmds_parse_cifs.txt','w') as outf:\n",
    "    for istart in range(0, len(filenames), num):\n",
    "        print(f'source activate dlchem; python parse_cifs.py -istart {istart} -num {num}',\n",
    "              file=outf)"
   ]
  },
  {
   "cell_type": "code",
   "execution_count": 30,
   "id": "6fa14d46-381d-4a6f-85db-97a703a33257",
   "metadata": {},
   "outputs": [],
   "source": [
    "filenames = glob.glob('/projects/ml/RF2_allatom/rcsb/pkl_v2/*/*.pkl.gz')"
   ]
  },
  {
   "cell_type": "code",
   "execution_count": 31,
   "id": "9feb7d22-1e0b-428f-a12c-14514f0c07de",
   "metadata": {},
   "outputs": [
    {
     "data": {
      "text/plain": [
       "202183"
      ]
     },
     "execution_count": 31,
     "metadata": {},
     "output_type": "execute_result"
    }
   ],
   "source": [
    "len(filenames)"
   ]
  },
  {
   "cell_type": "markdown",
   "id": "4f2896e9-8206-4789-83be-70f04fdb17b5",
   "metadata": {},
   "source": [
    "## Get ligands\n",
    "Use Ivan's parsed cif data structures to identify ligands (\"nonpoly\" residues) and save a list with information about them."
   ]
  },
  {
   "cell_type": "code",
   "execution_count": 5,
   "id": "63a21bb3-cbf8-4fbe-a1b2-2a4f91917191",
   "metadata": {},
   "outputs": [],
   "source": [
    "import time, pickle, gzip"
   ]
  },
  {
   "cell_type": "code",
   "execution_count": 25,
   "id": "1ac0bedc-abe4-4e0e-bb32-e57284fea595",
   "metadata": {},
   "outputs": [],
   "source": [
    "cif_files = glob.glob('/projects/ml/RF2_allatom/rcsb/pkl/*/*.pkl.gz')"
   ]
  },
  {
   "cell_type": "code",
   "execution_count": 26,
   "id": "0a53052f-1b36-4f49-b7ec-a9185084fe22",
   "metadata": {},
   "outputs": [
    {
     "data": {
      "text/plain": [
       "202183"
      ]
     },
     "execution_count": 26,
     "metadata": {},
     "output_type": "execute_result"
    }
   ],
   "source": [
    "len(cif_files)"
   ]
  },
  {
   "cell_type": "code",
   "execution_count": 27,
   "id": "546a8dee-727e-49ef-84ca-2ffe9af55a13",
   "metadata": {},
   "outputs": [],
   "source": [
    "from collections import Counter"
   ]
  },
  {
   "cell_type": "code",
   "execution_count": 28,
   "id": "0e802086-b79b-4bf5-9f39-cc4b856dc9be",
   "metadata": {},
   "outputs": [],
   "source": [
    "from importlib import reload\n",
    "import curation_utils\n",
    "reload(curation_utils)\n",
    "from curation_utils import *"
   ]
  },
  {
   "cell_type": "code",
   "execution_count": 37,
   "id": "007981ff-5bc8-4f8c-a5c6-d24469ab130b",
   "metadata": {
    "tags": []
   },
   "outputs": [],
   "source": [
    "records = []\n",
    "ct = 0\n",
    "start_time = time.time()\n",
    "\n",
    "for fn in cif_files:\n",
    "    try:                                                                                              \n",
    "        pdbid = os.path.basename(fn).replace('.pkl.gz','')\n",
    "        chains, asmb, covale, modres = pickle.load(gzip.open(fn))\n",
    "\n",
    "        ligands, lig_covale = get_ligands(chains, covale)\n",
    "\n",
    "        # add ligands in order of assembly\n",
    "        # this will make loading & filtering later more efficient\n",
    "        for i_a in asmb:\n",
    "            for lig, lcovale in zip(ligands,lig_covale):\n",
    "                ligand_chids = set([res[0] for res in lig])\n",
    "\n",
    "                if not ligand_chids.issubset(set([x[0] for x in asmb[i_a]])):\n",
    "                    continue\n",
    "\n",
    "                records.append(dict(\n",
    "                    PDBID=pdbid,\n",
    "                    LIGAND=lig,\n",
    "                    ASSEMBLY=i_a,\n",
    "                    COVALENT=lcovale,\n",
    "                ))\n",
    "    except Exception as e:\n",
    "        print(e)\n",
    "    \n",
    "    ct += 1\n",
    "    if ct % 100 == 0:\n",
    "        print(ct, time.time()-start_time)\n",
    "    \n",
    "    if any([len(lcovale)>0 for lcovale in lig_covale]): break"
   ]
  },
  {
   "cell_type": "code",
   "execution_count": 32,
   "id": "95c45cb5-a89a-4dd6-ace1-549ae1f32977",
   "metadata": {},
   "outputs": [],
   "source": [
    "df = pd.DataFrame.from_records(records)"
   ]
  },
  {
   "cell_type": "markdown",
   "id": "e8bc143f-16d9-42ba-a9a3-37a8806d35b8",
   "metadata": {},
   "source": [
    "Put the above code into a python script so it can be run in parallel on many nodes to process the full dataset\n",
    "\n",
    "Generate a list of commands to run"
   ]
  },
  {
   "cell_type": "code",
   "execution_count": 10,
   "id": "b63e847e-47fb-4812-8a52-f98176c69780",
   "metadata": {},
   "outputs": [],
   "source": [
    "num = 500"
   ]
  },
  {
   "cell_type": "code",
   "execution_count": 19,
   "id": "2775f3f6-453e-46fa-871a-357d8cfeb2ee",
   "metadata": {},
   "outputs": [
    {
     "name": "stdout",
     "output_type": "stream",
     "text": [
      "results_get_ligands/ligands21500.csv\n",
      "results_get_ligands/ligands22000.csv\n",
      "results_get_ligands/ligands22500.csv\n",
      "results_get_ligands/ligands46000.csv\n",
      "results_get_ligands/ligands49000.csv\n",
      "results_get_ligands/ligands57000.csv\n",
      "results_get_ligands/ligands62500.csv\n",
      "results_get_ligands/ligands70000.csv\n",
      "results_get_ligands/ligands111000.csv\n",
      "results_get_ligands/ligands115000.csv\n",
      "results_get_ligands/ligands131000.csv\n",
      "results_get_ligands/ligands140500.csv\n",
      "results_get_ligands/ligands168500.csv\n",
      "results_get_ligands/ligands193500.csv\n"
     ]
    }
   ],
   "source": [
    "with open('cmds_get_ligands.txt','w') as outf:\n",
    "    for istart in range(0, len(cif_files), num):\n",
    "        fn = f'results_get_ligands/ligands{istart}.csv'\n",
    "        if not os.path.exists(fn):\n",
    "            print(f'source activate dlchem; python get_ligands.py -istart {istart} -num {num}',\n",
    "                  file=outf)"
   ]
  },
  {
   "cell_type": "markdown",
   "id": "667218d6-9d3e-402e-802b-5890f0e6ff90",
   "metadata": {},
   "source": [
    "Compile the final list"
   ]
  },
  {
   "cell_type": "code",
   "execution_count": 9,
   "id": "d84d8c67-7d95-4324-8a19-d823ad935a33",
   "metadata": {},
   "outputs": [
    {
     "data": {
      "text/plain": [
       "201835"
      ]
     },
     "execution_count": 9,
     "metadata": {},
     "output_type": "execute_result"
    }
   ],
   "source": [
    "len(cif_files)"
   ]
  },
  {
   "cell_type": "code",
   "execution_count": 20,
   "id": "ccfc5828-9dc3-4d51-b30a-ad737bf9fc53",
   "metadata": {
    "tags": []
   },
   "outputs": [],
   "source": [
    "for i in range(0,len(cif_files),num):\n",
    "    fn = f'results_get_ligands/ligands{i}.csv'\n",
    "    if not os.path.exists(fn):\n",
    "        print(fn)"
   ]
  },
  {
   "cell_type": "code",
   "execution_count": 21,
   "id": "62e42de7-fe75-4a56-be22-a9c92825ee0b",
   "metadata": {
    "tags": []
   },
   "outputs": [],
   "source": [
    "df = pd.concat([pd.read_csv(f'results_get_ligands/ligands{i}.csv',index_col=0) \n",
    "                for i in range(0,len(cif_files),num)])"
   ]
  },
  {
   "cell_type": "code",
   "execution_count": 22,
   "id": "8b93c0b6-d959-466e-998e-db4b5a01d90b",
   "metadata": {},
   "outputs": [
    {
     "data": {
      "text/plain": [
       "(1961071, 4)"
      ]
     },
     "execution_count": 22,
     "metadata": {},
     "output_type": "execute_result"
    }
   ],
   "source": [
    "df.shape"
   ]
  },
  {
   "cell_type": "code",
   "execution_count": 23,
   "id": "53b84674-91d9-4fc8-b385-04b39a10a99c",
   "metadata": {},
   "outputs": [],
   "source": [
    "df.to_csv('ligands.csv',index=None)"
   ]
  },
  {
   "cell_type": "markdown",
   "id": "59664d4f-e0cf-4c85-bbb3-dcf27880b530",
   "metadata": {},
   "source": [
    "## Filter non-bio ligands\n",
    "\n",
    "Remove these \"non-biological\" ligands. Previously curated by Gyu Rie and Linna, from `/home/gyurie/mpnn_ligand/bad_lig_list`. They were trying to exclude metal ions so I add these back, based on this list from the BioLiP website (extracted from the url when you click on their link for \"PDB entries with metals\")\n",
    "\n",
    "Rohith and I added PO4, because these examples are numerous and poorly predicted"
   ]
  },
  {
   "cell_type": "code",
   "execution_count": 24,
   "id": "d8018ef1-39aa-43fd-b078-29d2f1f99331",
   "metadata": {},
   "outputs": [],
   "source": [
    "biolip_list = ['NUC','ZN','CA','MG','III','MN','FE','CU','SF4','FE2','CO','FES','GOL','NA',  \n",
    "            'CL','K','CU1','GOL','XE','NO2','EDO','NI','BR','CD','O','CS','NO','TL','HG','UNL','KR',\n",
    "            'SR','RB','F','AG','AR','U','AU','MO','SE','GD','YB','VX','SM','LI','RE','N','W','OS','HO','PI']\n",
    "LA_list = ['EDO','PG4','OGA','SO4','HEZ','FEO','CL','DMS','ACT','MPD','GOL' ,'NH2','CUA','SIW','PGW','IOD','BR','3NI','ZRW','78M','UNX','nan']\n",
    "rohith = ['MES','CCN','PO4']\n",
    "metals = ['LA','NI','3CO','K','CR','ZN','CD','PD','TB','YT3','OS','EU','NA','RB','W','YB','HO3',\n",
    "          'CE','MN','TL','LI','MN3','AU3','AU','EU3','AL','3NI','FE2','PT','FE','CA','AG','CU1',\n",
    "          'LU','HG','CO','SR','MG','PB','CS','GA','BA','SM','SB','CU','MO','CU2']"
   ]
  },
  {
   "cell_type": "code",
   "execution_count": 25,
   "id": "f1947114-148d-4dcf-8dd8-77db7f0bf693",
   "metadata": {},
   "outputs": [],
   "source": [
    "exclude = set(biolip_list+LA_list+rohith)-set(metals)"
   ]
  },
  {
   "cell_type": "code",
   "execution_count": 35,
   "id": "eb60ebe2-dca2-431a-af4a-155d124cb71d",
   "metadata": {},
   "outputs": [],
   "source": [
    "df = pd.read_csv('ligands.csv')"
   ]
  },
  {
   "cell_type": "code",
   "execution_count": 30,
   "id": "7bc7551d-199c-4dea-9e79-1a2307101d7c",
   "metadata": {},
   "outputs": [],
   "source": [
    "df['LIGAND'] = df['LIGAND'].apply(lambda x: eval(x))"
   ]
  },
  {
   "cell_type": "code",
   "execution_count": 31,
   "id": "fcd88574-53d1-427b-8d52-48acb482b8ab",
   "metadata": {},
   "outputs": [
    {
     "data": {
      "text/plain": [
       "(1961071, 4)"
      ]
     },
     "execution_count": 31,
     "metadata": {},
     "output_type": "execute_result"
    }
   ],
   "source": [
    "df.shape"
   ]
  },
  {
   "cell_type": "code",
   "execution_count": 32,
   "id": "a5fc9efb-e11d-4e97-9785-ed651a8a48fa",
   "metadata": {},
   "outputs": [],
   "source": [
    "df_filt = df[~df['LIGAND'].apply(lambda x: x[0][2] in exclude)]"
   ]
  },
  {
   "cell_type": "code",
   "execution_count": 33,
   "id": "2b449e16-2dfe-4170-b792-e18897c7d229",
   "metadata": {},
   "outputs": [
    {
     "data": {
      "text/plain": [
       "(1497746, 4)"
      ]
     },
     "execution_count": 33,
     "metadata": {},
     "output_type": "execute_result"
    }
   ],
   "source": [
    "df_filt.shape"
   ]
  },
  {
   "cell_type": "code",
   "execution_count": 34,
   "id": "aaf77a5f-bae7-422e-921f-29b1e2561166",
   "metadata": {},
   "outputs": [],
   "source": [
    "df_filt.to_csv('ligands_filt.csv',index=None)"
   ]
  },
  {
   "cell_type": "markdown",
   "id": "871a0fbb-0f5f-404a-a11a-7f404a173e08",
   "metadata": {},
   "source": [
    "## Download PDBBind / BioLiP\n",
    "2022-12-13\n",
    "\n",
    "These are curated lists of biologically relevant ligands"
   ]
  },
  {
   "cell_type": "markdown",
   "id": "d0a64708-4bc0-46e2-a166-de858b7686f4",
   "metadata": {},
   "source": [
    "### PDBBind"
   ]
  },
  {
   "cell_type": "code",
   "execution_count": 54,
   "id": "0bd99c3f-f842-4227-919c-5ffaeb1a57fc",
   "metadata": {},
   "outputs": [],
   "source": [
    "import re\n",
    "from collections import OrderedDict"
   ]
  },
  {
   "cell_type": "code",
   "execution_count": 55,
   "id": "08e6032b-9ed7-424d-8266-3a6f544c54c2",
   "metadata": {},
   "outputs": [],
   "source": [
    "lig_re = re.compile('\\((.*?)\\)')"
   ]
  },
  {
   "cell_type": "code",
   "execution_count": 56,
   "id": "eeea4b8d-5cb2-4d5d-bbc6-1550e599b3d0",
   "metadata": {},
   "outputs": [],
   "source": [
    "records = []\n",
    "with open('/home/jue/dev/rfaa/index/INDEX_general_PL.2020') as f:\n",
    "    lines = f.readlines()\n",
    "    for line in lines:\n",
    "        if not line.startswith('#'):\n",
    "            tokens = line.split('//')\n",
    "            desc = tokens[1]\n",
    "            ligand = lig_re.findall(desc)[0]\n",
    "            tokens = tokens[0].split()\n",
    "            records.append(OrderedDict(\n",
    "                pdb=tokens[0],\n",
    "                resolution=tokens[1],\n",
    "                year=tokens[2],\n",
    "                affinity=tokens[3],\n",
    "                ligand=ligand,\n",
    "                description=desc\n",
    "            ))"
   ]
  },
  {
   "cell_type": "code",
   "execution_count": 57,
   "id": "28129d47-50c3-440e-abe5-c85be791a725",
   "metadata": {},
   "outputs": [],
   "source": [
    "pdbbind = pd.DataFrame.from_records(records)"
   ]
  },
  {
   "cell_type": "code",
   "execution_count": 58,
   "id": "0f3338e3-5a3c-4b96-b4f3-22e9d62726a5",
   "metadata": {},
   "outputs": [
    {
     "data": {
      "text/plain": [
       "(19443, 6)"
      ]
     },
     "execution_count": 58,
     "metadata": {},
     "output_type": "execute_result"
    }
   ],
   "source": [
    "pdbbind.shape"
   ]
  },
  {
   "cell_type": "code",
   "execution_count": 112,
   "id": "93be2e33-0ca3-4435-a6ba-d958434ebf8d",
   "metadata": {},
   "outputs": [],
   "source": [
    "pdbbind.to_csv('pdbbind_20221213.csv')"
   ]
  },
  {
   "cell_type": "markdown",
   "id": "de8f648e-2076-4dcb-8a9a-f3cc03854bfa",
   "metadata": {},
   "source": [
    "### BioLiP"
   ]
  },
  {
   "cell_type": "code",
   "execution_count": 80,
   "id": "8966fa07-7826-4c62-bd70-be005bf6dad9",
   "metadata": {},
   "outputs": [],
   "source": [
    "import requests"
   ]
  },
  {
   "cell_type": "code",
   "execution_count": 96,
   "id": "4a16bf11-86e6-4e30-a948-90d7afdb490b",
   "metadata": {
    "collapsed": true,
    "jupyter": {
     "outputs_hidden": true
    },
    "tags": []
   },
   "outputs": [
    {
     "name": "stdout",
     "output_type": "stream",
     "text": [
      "BioLiP_2013-03-13.txt\n",
      "BioLiP_2013-03-20.txt\n",
      "BioLiP_2013-03-27.txt\n",
      "BioLiP_2013-04-03.txt\n",
      "BioLiP_2013-04-10.txt\n",
      "BioLiP_2013-04-17.txt\n",
      "BioLiP_2013-04-24.txt\n",
      "BioLiP_2013-05-01.txt\n",
      "BioLiP_2013-05-08.txt\n",
      "BioLiP_2013-05-15.txt\n",
      "BioLiP_2013-05-22.txt\n",
      "BioLiP_2013-05-29.txt\n",
      "BioLiP_2013-06-05.txt\n",
      "BioLiP_2013-06-12.txt\n",
      "BioLiP_2013-06-19.txt\n",
      "BioLiP_2013-06-26.txt\n",
      "BioLiP_2013-07-03.txt\n",
      "BioLiP_2013-07-10.txt\n",
      "BioLiP_2013-07-17.txt\n",
      "BioLiP_2013-07-24.txt\n",
      "BioLiP_2013-07-31.txt\n",
      "BioLiP_2013-08-07.txt\n",
      "BioLiP_2013-08-14.txt\n",
      "BioLiP_2013-08-21.txt\n",
      "BioLiP_2013-08-28.txt\n",
      "BioLiP_2013-09-04.txt\n",
      "BioLiP_2013-09-11.txt\n",
      "BioLiP_2013-09-18.txt\n",
      "BioLiP_2013-09-25.txt\n",
      "BioLiP_2013-10-02.txt\n",
      "BioLiP_2013-10-09.txt\n",
      "BioLiP_2013-10-16.txt\n",
      "BioLiP_2013-10-23.txt\n",
      "BioLiP_2013-10-30.txt\n",
      "BioLiP_2013-11-06.txt\n",
      "BioLiP_2013-11-13.txt\n",
      "BioLiP_2013-11-20.txt\n",
      "BioLiP_2013-11-27.txt\n",
      "BioLiP_2013-12-04.txt\n",
      "BioLiP_2013-12-11.txt\n",
      "BioLiP_2013-12-18.txt\n",
      "BioLiP_2013-12-25.txt\n",
      "BioLiP_2014-01-01.txt\n",
      "BioLiP_2014-01-08.txt\n",
      "BioLiP_2014-01-15.txt\n",
      "BioLiP_2014-01-22.txt\n",
      "BioLiP_2014-01-29.txt\n",
      "BioLiP_2014-02-05.txt\n",
      "BioLiP_2014-02-12.txt\n",
      "BioLiP_2014-02-19.txt\n",
      "BioLiP_2014-02-26.txt\n",
      "BioLiP_2014-03-05.txt\n",
      "BioLiP_2014-03-12.txt\n",
      "BioLiP_2014-03-19.txt\n",
      "BioLiP_2014-03-26.txt\n",
      "BioLiP_2014-04-02.txt\n",
      "BioLiP_2014-04-09.txt\n",
      "BioLiP_2014-04-16.txt\n",
      "BioLiP_2014-04-23.txt\n",
      "BioLiP_2014-04-30.txt\n",
      "BioLiP_2014-05-07.txt\n",
      "BioLiP_2014-05-14.txt\n",
      "BioLiP_2014-05-21.txt\n",
      "BioLiP_2014-05-28.txt\n",
      "BioLiP_2014-06-04.txt\n",
      "BioLiP_2014-06-11.txt\n",
      "BioLiP_2014-06-18.txt\n",
      "BioLiP_2014-06-25.txt\n",
      "BioLiP_2014-07-02.txt\n",
      "BioLiP_2014-07-09.txt\n",
      "BioLiP_2014-07-16.txt\n",
      "BioLiP_2014-07-23.txt\n",
      "BioLiP_2014-07-30.txt\n",
      "BioLiP_2014-08-06.txt\n",
      "BioLiP_2014-08-13.txt\n",
      "BioLiP_2014-08-20.txt\n",
      "BioLiP_2014-08-27.txt\n",
      "BioLiP_2014-09-03.txt\n",
      "BioLiP_2014-09-10.txt\n",
      "BioLiP_2014-09-17.txt\n",
      "BioLiP_2014-09-24.txt\n",
      "BioLiP_2014-10-01.txt\n",
      "BioLiP_2014-10-08.txt\n",
      "BioLiP_2014-10-15.txt\n",
      "BioLiP_2014-10-22.txt\n",
      "BioLiP_2014-10-29.txt\n",
      "BioLiP_2014-11-05.txt\n",
      "BioLiP_2014-11-12.txt\n",
      "BioLiP_2014-11-19.txt\n",
      "BioLiP_2014-11-26.txt\n",
      "BioLiP_2014-12-03.txt\n",
      "BioLiP_2014-12-10.txt\n",
      "BioLiP_2014-12-17.txt\n",
      "BioLiP_2014-12-24.txt\n",
      "BioLiP_2014-12-31.txt\n",
      "BioLiP_2015-01-07.txt\n",
      "BioLiP_2015-01-14.txt\n",
      "BioLiP_2015-01-21.txt\n",
      "BioLiP_2015-01-28.txt\n",
      "BioLiP_2015-02-04.txt\n",
      "BioLiP_2015-02-11.txt\n",
      "BioLiP_2015-02-18.txt\n",
      "BioLiP_2015-02-25.txt\n",
      "BioLiP_2015-03-04.txt\n",
      "BioLiP_2015-03-11.txt\n",
      "BioLiP_2015-03-18.txt\n",
      "BioLiP_2015-03-25.txt\n",
      "BioLiP_2015-04-01.txt\n",
      "BioLiP_2015-04-08.txt\n",
      "BioLiP_2015-04-15.txt\n",
      "BioLiP_2015-04-22.txt\n",
      "BioLiP_2015-04-29.txt\n",
      "BioLiP_2015-05-06.txt\n",
      "BioLiP_2015-05-13.txt\n",
      "BioLiP_2015-05-20.txt\n",
      "BioLiP_2015-05-27.txt\n",
      "BioLiP_2015-06-03.txt\n",
      "BioLiP_2015-06-10.txt\n",
      "BioLiP_2015-06-17.txt\n",
      "BioLiP_2015-06-24.txt\n",
      "BioLiP_2015-07-01.txt\n",
      "BioLiP_2015-07-08.txt\n",
      "BioLiP_2015-07-15.txt\n",
      "BioLiP_2015-07-22.txt\n",
      "BioLiP_2015-07-29.txt\n",
      "BioLiP_2015-08-05.txt\n",
      "BioLiP_2015-08-12.txt\n",
      "BioLiP_2015-08-19.txt\n",
      "BioLiP_2015-08-26.txt\n",
      "BioLiP_2015-09-02.txt\n",
      "BioLiP_2015-09-09.txt\n",
      "BioLiP_2015-09-16.txt\n",
      "BioLiP_2015-09-23.txt\n",
      "BioLiP_2015-09-30.txt\n",
      "BioLiP_2015-10-07.txt\n",
      "BioLiP_2015-10-14.txt\n",
      "BioLiP_2015-10-21.txt\n",
      "BioLiP_2015-10-28.txt\n",
      "BioLiP_2015-11-04.txt\n",
      "BioLiP_2015-11-11.txt\n",
      "BioLiP_2015-11-18.txt\n",
      "BioLiP_2015-11-25.txt\n",
      "BioLiP_2015-12-02.txt\n",
      "BioLiP_2015-12-09.txt\n",
      "BioLiP_2015-12-16.txt\n",
      "BioLiP_2015-12-23.txt\n",
      "BioLiP_2015-12-30.txt\n",
      "BioLiP_2016-01-06.txt\n",
      "BioLiP_2016-01-13.txt\n",
      "BioLiP_2016-01-20.txt\n",
      "BioLiP_2016-01-27.txt\n",
      "BioLiP_2016-02-03.txt\n",
      "BioLiP_2016-02-10.txt\n",
      "BioLiP_2016-02-17.txt\n",
      "BioLiP_2016-02-24.txt\n",
      "BioLiP_2016-03-02.txt\n",
      "BioLiP_2016-03-09.txt\n",
      "BioLiP_2016-03-16.txt\n",
      "BioLiP_2016-03-23.txt\n",
      "BioLiP_2016-03-30.txt\n",
      "BioLiP_2016-04-06.txt\n",
      "BioLiP_2016-04-13.txt\n",
      "BioLiP_2016-04-20.txt\n",
      "BioLiP_2016-04-27.txt\n",
      "BioLiP_2016-05-04.txt\n",
      "BioLiP_2016-05-11.txt\n",
      "BioLiP_2016-05-18.txt\n",
      "BioLiP_2016-05-25.txt\n",
      "BioLiP_2016-06-01.txt\n",
      "BioLiP_2016-06-08.txt\n",
      "BioLiP_2016-06-15.txt\n",
      "BioLiP_2016-06-22.txt\n",
      "BioLiP_2016-06-29.txt\n",
      "BioLiP_2016-07-06.txt\n",
      "BioLiP_2016-07-13.txt\n",
      "BioLiP_2016-07-20.txt\n",
      "BioLiP_2016-07-27.txt\n",
      "BioLiP_2016-08-03.txt\n",
      "BioLiP_2016-08-10.txt\n",
      "BioLiP_2016-08-17.txt\n",
      "BioLiP_2016-08-24.txt\n",
      "BioLiP_2016-08-31.txt\n",
      "BioLiP_2016-09-07.txt\n",
      "BioLiP_2016-09-14.txt\n",
      "BioLiP_2016-09-21.txt\n",
      "BioLiP_2016-09-28.txt\n",
      "BioLiP_2016-10-05.txt\n",
      "BioLiP_2016-10-12.txt\n",
      "BioLiP_2016-10-19.txt\n",
      "BioLiP_2016-10-26.txt\n",
      "BioLiP_2016-11-02.txt\n",
      "BioLiP_2016-11-09.txt\n",
      "BioLiP_2016-11-16.txt\n",
      "BioLiP_2016-11-23.txt\n",
      "BioLiP_2016-11-30.txt\n",
      "BioLiP_2016-12-07.txt\n",
      "BioLiP_2016-12-14.txt\n",
      "BioLiP_2016-12-21.txt\n",
      "BioLiP_2016-12-28.txt\n",
      "BioLiP_2017-01-04.txt\n",
      "BioLiP_2017-01-11.txt\n",
      "BioLiP_2017-01-18.txt\n",
      "BioLiP_2017-01-25.txt\n",
      "BioLiP_2017-02-01.txt\n",
      "BioLiP_2017-02-08.txt\n",
      "BioLiP_2017-02-15.txt\n",
      "BioLiP_2017-02-22.txt\n",
      "BioLiP_2017-03-01.txt\n",
      "BioLiP_2017-03-08.txt\n",
      "BioLiP_2017-03-15.txt\n",
      "BioLiP_2017-03-22.txt\n",
      "BioLiP_2017-03-29.txt\n",
      "BioLiP_2017-04-05.txt\n",
      "BioLiP_2017-04-12.txt\n",
      "BioLiP_2017-04-19.txt\n",
      "BioLiP_2017-04-26.txt\n",
      "BioLiP_2017-05-03.txt\n",
      "BioLiP_2017-05-10.txt\n",
      "BioLiP_2017-05-17.txt\n",
      "BioLiP_2017-05-24.txt\n",
      "BioLiP_2017-05-31.txt\n",
      "BioLiP_2017-06-07.txt\n",
      "BioLiP_2017-06-14.txt\n",
      "BioLiP_2017-06-21.txt\n",
      "BioLiP_2017-06-28.txt\n",
      "BioLiP_2017-07-05.txt\n",
      "BioLiP_2017-07-12.txt\n",
      "BioLiP_2017-07-19.txt\n",
      "BioLiP_2017-07-26.txt\n",
      "BioLiP_2017-08-02.txt\n",
      "BioLiP_2017-08-09.txt\n",
      "BioLiP_2017-08-16.txt\n",
      "BioLiP_2017-08-23.txt\n",
      "BioLiP_2017-08-30.txt\n",
      "BioLiP_2017-09-06.txt\n",
      "BioLiP_2017-09-13.txt\n",
      "BioLiP_2017-09-20.txt\n",
      "BioLiP_2017-09-27.txt\n",
      "BioLiP_2017-10-04.txt\n",
      "BioLiP_2017-10-11.txt\n",
      "BioLiP_2017-10-18.txt\n",
      "BioLiP_2017-10-25.txt\n",
      "BioLiP_2017-11-01.txt\n",
      "BioLiP_2017-11-08.txt\n",
      "BioLiP_2017-11-15.txt\n",
      "BioLiP_2017-11-22.txt\n",
      "BioLiP_2017-11-29.txt\n",
      "BioLiP_2017-12-06.txt\n",
      "BioLiP_2017-12-13.txt\n",
      "BioLiP_2017-12-20.txt\n",
      "BioLiP_2017-12-27.txt\n",
      "BioLiP_2018-01-03.txt\n",
      "BioLiP_2018-01-10.txt\n",
      "BioLiP_2018-01-17.txt\n",
      "BioLiP_2018-01-24.txt\n",
      "BioLiP_2018-01-31.txt\n",
      "BioLiP_2018-02-07.txt\n",
      "BioLiP_2018-02-14.txt\n",
      "BioLiP_2018-02-21.txt\n",
      "BioLiP_2018-02-28.txt\n",
      "BioLiP_2018-03-07.txt\n",
      "BioLiP_2018-03-14.txt\n",
      "BioLiP_2018-03-21.txt\n",
      "BioLiP_2018-03-28.txt\n",
      "BioLiP_2018-04-04.txt\n",
      "BioLiP_2018-04-11.txt\n",
      "BioLiP_2018-04-18.txt\n",
      "BioLiP_2018-04-25.txt\n",
      "BioLiP_2018-05-02.txt\n",
      "BioLiP_2018-05-09.txt\n",
      "BioLiP_2018-05-16.txt\n",
      "BioLiP_2018-05-23.txt\n",
      "BioLiP_2018-05-30.txt\n",
      "BioLiP_2018-06-06.txt\n",
      "BioLiP_2018-06-13.txt\n",
      "BioLiP_2018-06-20.txt\n",
      "BioLiP_2018-06-27.txt\n",
      "BioLiP_2018-07-04.txt\n",
      "BioLiP_2018-07-11.txt\n",
      "BioLiP_2018-07-18.txt\n",
      "BioLiP_2018-07-25.txt\n",
      "BioLiP_2018-08-01.txt\n",
      "BioLiP_2018-08-08.txt\n",
      "BioLiP_2018-08-15.txt\n",
      "BioLiP_2018-08-22.txt\n",
      "BioLiP_2018-08-29.txt\n",
      "BioLiP_2018-09-05.txt\n",
      "BioLiP_2018-09-12.txt\n",
      "BioLiP_2018-09-19.txt\n",
      "BioLiP_2018-09-26.txt\n",
      "BioLiP_2018-10-03.txt\n",
      "BioLiP_2018-10-10.txt\n",
      "BioLiP_2018-10-17.txt\n",
      "BioLiP_2018-10-24.txt\n",
      "BioLiP_2018-10-31.txt\n",
      "BioLiP_2018-11-07.txt\n",
      "BioLiP_2018-11-14.txt\n",
      "BioLiP_2018-11-21.txt\n",
      "BioLiP_2018-11-28.txt\n",
      "BioLiP_2018-12-05.txt\n",
      "BioLiP_2018-12-12.txt\n",
      "BioLiP_2018-12-19.txt\n",
      "BioLiP_2018-12-26.txt\n",
      "BioLiP_2019-01-02.txt\n",
      "BioLiP_2019-01-09.txt\n",
      "BioLiP_2019-01-16.txt\n",
      "BioLiP_2019-01-23.txt\n",
      "BioLiP_2019-01-30.txt\n",
      "BioLiP_2019-02-06.txt\n",
      "BioLiP_2019-02-13.txt\n",
      "BioLiP_2019-02-20.txt\n",
      "BioLiP_2019-02-27.txt\n",
      "BioLiP_2019-03-06.txt\n",
      "BioLiP_2019-03-13.txt\n",
      "BioLiP_2019-03-20.txt\n",
      "BioLiP_2019-03-27.txt\n",
      "BioLiP_2019-04-03.txt\n",
      "BioLiP_2019-04-10.txt\n",
      "BioLiP_2019-04-17.txt\n",
      "BioLiP_2019-04-24.txt\n",
      "BioLiP_2019-05-01.txt\n",
      "BioLiP_2019-05-08.txt\n",
      "BioLiP_2019-05-15.txt\n",
      "BioLiP_2019-05-22.txt\n",
      "BioLiP_2019-05-29.txt\n",
      "BioLiP_2019-06-05.txt\n",
      "BioLiP_2019-06-12.txt\n",
      "BioLiP_2019-06-19.txt\n",
      "BioLiP_2019-06-26.txt\n",
      "BioLiP_2019-07-03.txt\n",
      "BioLiP_2019-07-10.txt\n",
      "BioLiP_2019-07-17.txt\n",
      "BioLiP_2019-07-24.txt\n",
      "BioLiP_2019-07-31.txt\n",
      "BioLiP_2019-08-07.txt\n",
      "BioLiP_2019-08-14.txt\n",
      "BioLiP_2019-08-21.txt\n",
      "BioLiP_2019-08-28.txt\n",
      "BioLiP_2019-09-04.txt\n",
      "BioLiP_2019-09-11.txt\n",
      "BioLiP_2019-09-18.txt\n",
      "BioLiP_2019-09-25.txt\n",
      "BioLiP_2019-10-02.txt\n",
      "BioLiP_2019-10-09.txt\n",
      "BioLiP_2019-10-16.txt\n",
      "BioLiP_2019-10-23.txt\n",
      "BioLiP_2019-10-30.txt\n",
      "BioLiP_2019-11-06.txt\n",
      "BioLiP_2019-11-13.txt\n",
      "BioLiP_2019-11-20.txt\n",
      "BioLiP_2019-11-27.txt\n",
      "BioLiP_2019-12-04.txt\n",
      "BioLiP_2019-12-11.txt\n",
      "BioLiP_2019-12-18.txt\n",
      "BioLiP_2019-12-25.txt\n",
      "BioLiP_2020-01-01.txt\n",
      "BioLiP_2020-01-08.txt\n",
      "BioLiP_2020-01-15.txt\n",
      "BioLiP_2020-01-22.txt\n",
      "BioLiP_2020-01-29.txt\n",
      "BioLiP_2020-02-05.txt\n",
      "BioLiP_2020-02-12.txt\n",
      "BioLiP_2020-02-19.txt\n",
      "BioLiP_2020-02-26.txt\n",
      "BioLiP_2020-03-04.txt\n",
      "BioLiP_2020-03-11.txt\n",
      "BioLiP_2020-03-18.txt\n",
      "BioLiP_2020-03-25.txt\n",
      "BioLiP_2020-04-01.txt\n",
      "BioLiP_2020-04-08.txt\n",
      "BioLiP_2020-04-15.txt\n",
      "BioLiP_2020-04-22.txt\n",
      "BioLiP_2020-04-29.txt\n",
      "BioLiP_2020-05-06.txt\n",
      "BioLiP_2020-05-13.txt\n",
      "BioLiP_2020-05-20.txt\n",
      "BioLiP_2020-05-27.txt\n",
      "BioLiP_2020-06-03.txt\n",
      "BioLiP_2020-06-10.txt\n",
      "BioLiP_2020-06-17.txt\n",
      "BioLiP_2020-06-24.txt\n",
      "BioLiP_2020-07-01.txt\n",
      "BioLiP_2020-07-08.txt\n",
      "BioLiP_2020-07-15.txt\n",
      "BioLiP_2020-07-22.txt\n",
      "BioLiP_2020-07-29.txt\n",
      "BioLiP_2020-08-05.txt\n",
      "BioLiP_2020-08-12.txt\n",
      "BioLiP_2020-08-19.txt\n",
      "BioLiP_2020-08-26.txt\n",
      "BioLiP_2020-09-02.txt\n",
      "BioLiP_2020-09-09.txt\n",
      "BioLiP_2020-09-16.txt\n",
      "BioLiP_2020-09-23.txt\n",
      "BioLiP_2020-09-30.txt\n",
      "BioLiP_2020-10-07.txt\n",
      "BioLiP_2020-10-14.txt\n",
      "BioLiP_2020-10-21.txt\n",
      "BioLiP_2020-10-28.txt\n",
      "BioLiP_2020-11-04.txt\n",
      "BioLiP_2020-11-11.txt\n",
      "BioLiP_2020-11-18.txt\n",
      "BioLiP_2020-11-25.txt\n",
      "BioLiP_2020-12-02.txt\n",
      "BioLiP_2020-12-09.txt\n",
      "BioLiP_2020-12-16.txt\n",
      "BioLiP_2020-12-23.txt\n",
      "BioLiP_2020-12-30.txt\n",
      "BioLiP_2021-01-06.txt\n",
      "BioLiP_2021-01-13.txt\n",
      "BioLiP_2021-01-20.txt\n",
      "BioLiP_2021-01-27.txt\n",
      "BioLiP_2021-02-03.txt\n",
      "BioLiP_2021-02-10.txt\n",
      "BioLiP_2021-02-17.txt\n",
      "BioLiP_2021-02-24.txt\n",
      "BioLiP_2021-03-03.txt\n",
      "BioLiP_2021-03-10.txt\n",
      "BioLiP_2021-03-17.txt\n",
      "BioLiP_2021-03-24.txt\n",
      "BioLiP_2021-03-31.txt\n",
      "BioLiP_2021-04-07.txt\n",
      "BioLiP_2021-04-14.txt\n",
      "BioLiP_2021-04-21.txt\n",
      "BioLiP_2021-04-28.txt\n",
      "BioLiP_2021-05-05.txt\n",
      "BioLiP_2021-05-12.txt\n",
      "BioLiP_2021-05-19.txt\n",
      "BioLiP_2021-05-26.txt\n",
      "BioLiP_2021-06-02.txt\n",
      "BioLiP_2021-06-09.txt\n",
      "BioLiP_2021-06-16.txt\n",
      "BioLiP_2021-06-23.txt\n",
      "BioLiP_2021-06-30.txt\n",
      "BioLiP_2021-07-07.txt\n",
      "BioLiP_2021-07-14.txt\n",
      "BioLiP_2021-07-21.txt\n",
      "BioLiP_2021-07-28.txt\n",
      "BioLiP_2021-08-04.txt\n",
      "BioLiP_2021-08-11.txt\n",
      "BioLiP_2021-08-18.txt\n",
      "BioLiP_2021-08-25.txt\n",
      "BioLiP_2021-09-01.txt\n",
      "BioLiP_2021-09-08.txt\n",
      "BioLiP_2021-09-15.txt\n",
      "BioLiP_2021-09-22.txt\n",
      "BioLiP_2021-09-29.txt\n",
      "BioLiP_2021-10-06.txt\n",
      "BioLiP_2021-10-13.txt\n",
      "BioLiP_2021-10-20.txt\n",
      "BioLiP_2021-10-27.txt\n",
      "BioLiP_2021-11-03.txt\n",
      "BioLiP_2021-11-10.txt\n",
      "BioLiP_2021-11-17.txt\n",
      "BioLiP_2021-11-24.txt\n",
      "BioLiP_2021-12-01.txt\n",
      "BioLiP_2021-12-08.txt\n",
      "BioLiP_2021-12-15.txt\n",
      "BioLiP_2021-12-22.txt\n",
      "BioLiP_2021-12-29.txt\n",
      "BioLiP_2022-01-05.txt\n",
      "BioLiP_2022-01-12.txt\n",
      "BioLiP_2022-01-19.txt\n",
      "BioLiP_2022-01-26.txt\n",
      "BioLiP_2022-02-02.txt\n",
      "BioLiP_2022-02-09.txt\n",
      "BioLiP_2022-02-16.txt\n",
      "BioLiP_2022-02-23.txt\n",
      "BioLiP_2022-03-02.txt\n",
      "BioLiP_2022-03-09.txt\n",
      "BioLiP_2022-03-16.txt\n",
      "BioLiP_2022-03-23.txt\n",
      "BioLiP_2022-03-30.txt\n"
     ]
    }
   ],
   "source": [
    "for datestr in pd.date_range(start='2013-3-13', end='2022-03-30', freq='7D'):\n",
    "    url = f'https://zhanggroup.org/BioLiP/weekly/BioLiP_{str(datestr).split()[0]}.txt'\n",
    "    r = requests.get(url, allow_redirects=True)\n",
    "    fn = os.path.basename(url)\n",
    "    open(fn, 'wb').write(r.content)\n",
    "    print(fn)"
   ]
  },
  {
   "cell_type": "code",
   "execution_count": 107,
   "id": "a4aed868-3c03-4fdd-b6dc-632c7909c87e",
   "metadata": {},
   "outputs": [],
   "source": [
    "df_s = []\n",
    "for datestr in pd.date_range(start='2013-3-06', end='2022-03-30', freq='7D'):\n",
    "    fn = f'biolip/BioLiP_{str(datestr).split()[0]}.txt'\n",
    "    \n",
    "    dat = open(fn).read()\n",
    "    if len(dat)==0 or '404 Not Found' in dat: continue\n",
    "    \n",
    "    tmp = pd.read_csv(fn,delimiter='\\t',header=None)\n",
    "    tmp.columns = ['pdb_id','pdb_chain','resolution','binding_site_id','ligand_id','ligand_chain','ligand_serial_number',\n",
    "                  'bs_res','bs_res_renum','cat_site_res','cat_site_res','EC','GO','binding_affinity','binding_affinity_MOAD',\n",
    "                  'binding_affinity_pdbbind','binding_affinity_bindingDB','uniprot','pubmed','receptor_seq']\n",
    "    df_s.append(tmp)\n",
    "biolip = pd.concat(df_s)"
   ]
  },
  {
   "cell_type": "code",
   "execution_count": 108,
   "id": "bfff5557-7987-4c10-ae91-dfd71aef0a19",
   "metadata": {},
   "outputs": [
    {
     "data": {
      "text/plain": [
       "(477226, 20)"
      ]
     },
     "execution_count": 108,
     "metadata": {},
     "output_type": "execute_result"
    }
   ],
   "source": [
    "biolip.shape"
   ]
  },
  {
   "cell_type": "code",
   "execution_count": 111,
   "id": "6b5b7d57-4e28-4a9d-9dc2-a16572f325cb",
   "metadata": {},
   "outputs": [],
   "source": [
    "biolip.to_csv('biolip_combined_20221213.csv')"
   ]
  },
  {
   "cell_type": "markdown",
   "id": "3f948efb-d1e3-49fb-96df-8efd4eac9924",
   "metadata": {},
   "source": [
    "## Filter to PDBBind / BioLiP"
   ]
  },
  {
   "cell_type": "code",
   "execution_count": 48,
   "id": "d9e95d1d-4889-4ce5-9c1c-a2a93fb7b672",
   "metadata": {},
   "outputs": [],
   "source": [
    "pdbbind = pd.read_csv('pdbbind_20221213.csv', na_filter=None)\n",
    "biolip = pd.read_csv('biolip_combined_20221213.csv', na_filter=None)"
   ]
  },
  {
   "cell_type": "code",
   "execution_count": 49,
   "id": "105c28e4-123c-4d61-aeba-545564d5eda8",
   "metadata": {},
   "outputs": [],
   "source": [
    "biolip_entries = biolip[['pdb_id','ligand_id']].rename(columns={'pdb_id':'PDBID','ligand_id':'LIGNAME'})\n",
    "biolip_entries['KEEP'] = True"
   ]
  },
  {
   "cell_type": "code",
   "execution_count": 50,
   "id": "79fad374-755f-42f2-86ed-811c86f23891",
   "metadata": {},
   "outputs": [],
   "source": [
    "pdbbind_entries = pdbbind[['pdb','ligand']].rename(columns={'pdb':'PDBID', 'ligand':'LIGNAME'}).drop_duplicates()\n",
    "pdbbind_entries['KEEP'] = True"
   ]
  },
  {
   "cell_type": "code",
   "execution_count": 51,
   "id": "3a0aba3b-14d4-4a8f-97e1-78f13c5184c9",
   "metadata": {},
   "outputs": [
    {
     "name": "stderr",
     "output_type": "stream",
     "text": [
      "/scratch/jue/28700558/ipykernel_1480857/307790726.py:1: FutureWarning: The frame.append method is deprecated and will be removed from pandas in a future version. Use pandas.concat instead.\n",
      "  to_keep = biolip_entries.append(pdbbind_entries)\n"
     ]
    }
   ],
   "source": [
    "to_keep = biolip_entries.append(pdbbind_entries)\n",
    "to_keep = to_keep.drop_duplicates()"
   ]
  },
  {
   "cell_type": "code",
   "execution_count": 52,
   "id": "8009d4b0-ed9f-4faf-9776-7cfe0da740ef",
   "metadata": {},
   "outputs": [
    {
     "data": {
      "text/plain": [
       "(166142, 3)"
      ]
     },
     "execution_count": 52,
     "metadata": {},
     "output_type": "execute_result"
    }
   ],
   "source": [
    "to_keep.shape"
   ]
  },
  {
   "cell_type": "code",
   "execution_count": 75,
   "id": "c5dee798-e8eb-4abc-b3af-06a3c73113ab",
   "metadata": {},
   "outputs": [],
   "source": [
    "df = pd.read_csv('ligands_filt.csv')"
   ]
  },
  {
   "cell_type": "code",
   "execution_count": null,
   "id": "e22d0f18-d7d0-43b9-8fa2-52d7875b9502",
   "metadata": {},
   "outputs": [],
   "source": [
    "df['LIGAND'] = df['LIGAND'].apply(lambda x: eval(x))"
   ]
  },
  {
   "cell_type": "code",
   "execution_count": 54,
   "id": "6cbdb786-d27e-4f54-b89d-4b54dd44e98f",
   "metadata": {},
   "outputs": [
    {
     "data": {
      "text/plain": [
       "(1497746, 4)"
      ]
     },
     "execution_count": 54,
     "metadata": {},
     "output_type": "execute_result"
    }
   ],
   "source": [
    "df.shape"
   ]
  },
  {
   "cell_type": "code",
   "execution_count": 56,
   "id": "214ae165-7470-4668-96af-37facce1834d",
   "metadata": {
    "tags": []
   },
   "outputs": [],
   "source": [
    "records = []\n",
    "for i,row in df.iterrows():\n",
    "    for lig in row['LIGAND']:\n",
    "        newrow = row.copy()\n",
    "        newrow['LIGNAME'] = lig[2]\n",
    "        records.append(newrow)"
   ]
  },
  {
   "cell_type": "code",
   "execution_count": 57,
   "id": "390268cb-43bf-4279-9fb8-e172f5825680",
   "metadata": {},
   "outputs": [],
   "source": [
    "df2 = pd.DataFrame.from_records(records)"
   ]
  },
  {
   "cell_type": "code",
   "execution_count": 58,
   "id": "ab56600d-12cb-416a-a8c3-a11f9764e51a",
   "metadata": {},
   "outputs": [
    {
     "data": {
      "text/plain": [
       "(1595933, 5)"
      ]
     },
     "execution_count": 58,
     "metadata": {},
     "output_type": "execute_result"
    }
   ],
   "source": [
    "df2.shape"
   ]
  },
  {
   "cell_type": "code",
   "execution_count": 59,
   "id": "aa621fb4-898a-4a29-a938-fb61a4d8705f",
   "metadata": {},
   "outputs": [],
   "source": [
    "tmp = df2.merge(to_keep, on=['PDBID','LIGNAME'], how='left')"
   ]
  },
  {
   "cell_type": "code",
   "execution_count": 60,
   "id": "2527ed48-16f0-4c1c-8412-1697d6ec72f3",
   "metadata": {},
   "outputs": [
    {
     "data": {
      "text/plain": [
       "(1595933, 6)"
      ]
     },
     "execution_count": 60,
     "metadata": {},
     "output_type": "execute_result"
    }
   ],
   "source": [
    "tmp.shape"
   ]
  },
  {
   "cell_type": "code",
   "execution_count": 61,
   "id": "413ebdfa-37f0-46a5-9b80-ee698faaddf3",
   "metadata": {},
   "outputs": [],
   "source": [
    "df3 = tmp[tmp['KEEP']==True]"
   ]
  },
  {
   "cell_type": "code",
   "execution_count": 62,
   "id": "a2792ff1-e3bc-467f-98f7-8dbd2375db4f",
   "metadata": {},
   "outputs": [
    {
     "data": {
      "text/plain": [
       "(422178, 6)"
      ]
     },
     "execution_count": 62,
     "metadata": {},
     "output_type": "execute_result"
    }
   ],
   "source": [
    "df3.shape"
   ]
  },
  {
   "cell_type": "code",
   "execution_count": 63,
   "id": "6ded9230-7114-4d07-9446-11dca18717a5",
   "metadata": {},
   "outputs": [],
   "source": [
    "df3 = df3.drop(['LIGNAME','KEEP'], axis=1)"
   ]
  },
  {
   "cell_type": "code",
   "execution_count": 64,
   "id": "f699186a-9ff3-42fd-932f-6d3abb65ba45",
   "metadata": {},
   "outputs": [],
   "source": [
    "df3['LIGAND'] = df3['LIGAND'].apply(lambda x: str(x))"
   ]
  },
  {
   "cell_type": "code",
   "execution_count": 65,
   "id": "e02fc1bb-02fd-4b5b-b460-39b5bad1a95d",
   "metadata": {},
   "outputs": [],
   "source": [
    "df3 = df3.drop_duplicates()"
   ]
  },
  {
   "cell_type": "code",
   "execution_count": 66,
   "id": "0faaa40b-d3d8-42f7-a324-cb74cddd5522",
   "metadata": {},
   "outputs": [
    {
     "data": {
      "text/plain": [
       "(408890, 4)"
      ]
     },
     "execution_count": 66,
     "metadata": {},
     "output_type": "execute_result"
    }
   ],
   "source": [
    "df3.shape"
   ]
  },
  {
   "cell_type": "code",
   "execution_count": 75,
   "id": "5baea2a3-c985-4a31-89c6-6fc5bd3df9dd",
   "metadata": {},
   "outputs": [],
   "source": [
    "df3 = df3.sort_values(['PDBID','ASSEMBLY'])"
   ]
  },
  {
   "cell_type": "code",
   "execution_count": 67,
   "id": "462d357a-9299-45a0-9ac3-cd453aaf872a",
   "metadata": {},
   "outputs": [],
   "source": [
    "df3.to_csv('ligands_filt.csv',index=None)"
   ]
  },
  {
   "cell_type": "markdown",
   "id": "3a776f6f-401f-48fd-83de-52a3ddfbf2ac",
   "metadata": {
    "tags": []
   },
   "source": [
    "## Get binding partners\n",
    "Identify which protein and ligand chains are closest to each query ligand.\n",
    "\n",
    "Also do a few steps which were previously done in later stages (it's more efficient to combine these):\n",
    " - count ligand atoms (resolved & unresolved)\n",
    " - filter covalent ligands on some quality criteria"
   ]
  },
  {
   "cell_type": "code",
   "execution_count": 9,
   "id": "44c0991f-06bf-4c64-b374-36d60792c5d2",
   "metadata": {},
   "outputs": [],
   "source": [
    "import pickle, gzip, time\n",
    "from util import cif_ligand_to_xyz, get_ligand_atoms_bonds"
   ]
  },
  {
   "cell_type": "code",
   "execution_count": 10,
   "id": "132a7dd7-94d0-4504-a0b6-df325f9fa1a4",
   "metadata": {},
   "outputs": [],
   "source": [
    "def is_weird(covalents):\n",
    "    \"\"\"Detects non-biological bonds\"\"\"\n",
    "    has_oxygen_oxygen_bond = any([a1[3][0]=='O' and a2[3][0]=='O' for (a1,a2) in covalents])\n",
    "    has_fluorine_fluorine_bond = any([a1[3][0]=='F' and a2[3][0]=='F' for (a1,a2) in covalents])\n",
    "    is_oxy_hydroxy = any([a1[2]=='O' or a2[2]=='O' or \\\n",
    "                          a1[2]=='OH' or a2[2]=='OH' or \\\n",
    "                          a1[2]=='HOH' or a2[2]=='HOH' for (a1,a2) in covalents])\n",
    "    return has_oxygen_oxygen_bond or has_fluorine_fluorine_bond or is_oxy_hydroxy\n",
    "\n",
    "def is_clashing(qlig_xyz_valid, xyz_chains, mask_chains, asmb_xforms):\n",
    "    \"\"\"Detects if a ligand is within 1A of any protein in its assembly.\"\"\"\n",
    "    for xyz, mask in zip(xyz_chains, mask_chains):\n",
    "        for i_xf, (xf_ch, xf) in enumerate(asmb_xforms):\n",
    "            if xf_ch != ch.id: continue\n",
    "            xf = torch.tensor(xf).float()\n",
    "            u,r = xf[:3,:3], xf[:3,3]\n",
    "            xyz_xf = torch.einsum('ij,raj->rai', u, xyz) + r[None,None]\n",
    "\n",
    "            atom_xyz = xyz_xf[:,:NHEAVY][mask[:,:NHEAVY].numpy(),:]\n",
    "            dist = torch.cdist(qlig_xyz_valid, atom_xyz, compute_mode='donot_use_mm_for_euclid_dist')\n",
    "            if (dist<1).any():\n",
    "                return True\n",
    "    return False\n",
    "\n",
    "def filter_partners(partners, chains, xyz_chains, mask_chains, asmb_xforms, covale, row):\n",
    "    new_partners = []\n",
    "    for p in partners:\n",
    "        if p[-1]=='nonpoly':\n",
    "            # remove covalent partners with non-biological bonds\n",
    "            bonds = []\n",
    "            for bond in covale:\n",
    "                if any([bond.a[:3]==res or bond.b[:3]==res for res in p[0]]):\n",
    "                    bonds.append((bond.a, bond.b))\n",
    "            if len(bonds)>0:\n",
    "                if is_weird(bonds):\n",
    "                    print('non-biological protein-ligand bond in partner',row['PDBID'],p)\n",
    "                    continue\n",
    "            # remove partners with clash to protein\n",
    "            plig = p[0]\n",
    "            lig_xyz, lig_mask, lig_seq, lig_chid, lig_resi, lig_chxf = \\\n",
    "                get_ligand_xyz(chains, asmb_xforms, plig,\n",
    "                               seed_ixf=dict(p[1])[plig[0][0]])\n",
    "\n",
    "            lig_xyz_valid = lig_xyz[lig_mask]\n",
    "            clash = is_clashing(lig_xyz_valid, xyz_chains, mask_chains, asmb_xforms)\n",
    "            if clash:\n",
    "                print('clash between partner ligand and protein',row['PDBID'],p)\n",
    "                continue\n",
    "        new_partners.append(p)\n",
    "    return new_partners"
   ]
  },
  {
   "cell_type": "markdown",
   "id": "0929ea31-5887-470c-bcc3-b6b64a2b8276",
   "metadata": {},
   "source": [
    "### Run"
   ]
  },
  {
   "cell_type": "code",
   "execution_count": 11,
   "id": "7deadd1e-a751-4055-be3c-d02ddf8e2bc7",
   "metadata": {},
   "outputs": [],
   "source": [
    "df = pd.read_csv('ligands_filt.csv')"
   ]
  },
  {
   "cell_type": "code",
   "execution_count": 12,
   "id": "222ce184-5705-48cc-8050-981c60a61498",
   "metadata": {},
   "outputs": [],
   "source": [
    "df['LIGAND'] = df['LIGAND'].apply(lambda x: eval(x))\n",
    "df['COVALENT'] = df['COVALENT'].apply(lambda x: eval(x))"
   ]
  },
  {
   "cell_type": "code",
   "execution_count": 13,
   "id": "b23a4cc8-6b04-471d-90c9-913a5ac8d416",
   "metadata": {},
   "outputs": [
    {
     "data": {
      "text/plain": [
       "(408890, 4)"
      ]
     },
     "execution_count": 13,
     "metadata": {},
     "output_type": "execute_result"
    }
   ],
   "source": [
    "df.shape"
   ]
  },
  {
   "cell_type": "code",
   "execution_count": 17,
   "id": "3f0bafc3-416e-4fc5-a37e-730d12997e12",
   "metadata": {
    "tags": []
   },
   "outputs": [],
   "source": [
    "records = []\n",
    "start_time = time.time()\n",
    "\n",
    "pdbid_prev = None\n",
    "i_a_prev = None\n",
    "for i,row in df2.iterrows():\n",
    "    pdbid = row['PDBID']\n",
    "    if pdbid!=pdbid_prev:\n",
    "        chains,asmb,covale,modres = pickle.load(gzip.open(f'/projects/ml/RF2_allatom/rcsb/pkl/{pdbid[1:3]}/{pdbid}.pkl.gz'))\n",
    "        ligands, lig_covale = get_ligands(chains, covale)\n",
    "\n",
    "    # remove covalent examples with non-biological bonds\n",
    "    if len(row['COVALENT'])>0:\n",
    "        if is_weird(row['COVALENT']):\n",
    "            print('non-biological protein-ligand bond',row['PDBID'],row['LIGAND'])\n",
    "            continue\n",
    "            \n",
    "    i_a = str(row['ASSEMBLY'])\n",
    "    asmb_xforms = asmb[i_a]\n",
    "    asmb_xform_chids = [x[0] for x in asmb_xforms]\n",
    "    asmb_chains = [chains[i_ch] for i_ch in set(asmb_xform_chids)]\n",
    "\n",
    "    if pdbid!=pdbid_prev or i_a!=i_a_prev:\n",
    "        # featurize all protein chains\n",
    "        xyz_chains, mask_chains = [], []\n",
    "        for ch in asmb_chains:\n",
    "            if ch.type != 'polypeptide(L)': continue\n",
    "            xyz, mask, seq, chid, resi, unrec_elements = chain_to_xyz(ch)\n",
    "            xyz_chains.append(xyz)\n",
    "            mask_chains.append(mask)\n",
    "        \n",
    "    pdbid_prev = pdbid\n",
    "    i_a_prev = i_a\n",
    "\n",
    "    # assembly must have at least one protein and ligand chain\n",
    "    if not {'polypeptide(L)','nonpoly'}.issubset(set([ch.type for ch in asmb_chains])):\n",
    "        continue\n",
    "\n",
    "    # get query ligand coordinates (one copy of it in this assembly)\n",
    "    query_ligand = row['LIGAND']\n",
    "    qlig_xyz, qlig_mask, qlig_seq, qlig_chid, qlig_resi, qlig_chxf = \\\n",
    "        get_ligand_xyz(chains, asmb_xforms, query_ligand)\n",
    "    \n",
    "    # filter out query ligand residues that weren't loaded (all atoms have 0 occupancy)\n",
    "    query_ligand = [res for res in query_ligand if res[0] in [x[0] for x in qlig_chxf]]\n",
    "    row['COVALENT'] = [(a,b) for (a,b) in row['COVALENT'] if any([a[:3]==res or b[:3]==res for res in query_ligand])]\n",
    "    \n",
    "    # remove empty ligands\n",
    "    if qlig_xyz.numel()==0: continue\n",
    "    qlig_xyz_valid = qlig_xyz[qlig_mask[:,1],1]\n",
    "    if qlig_xyz_valid.numel()==0: continue\n",
    "\n",
    "    # remove examples with clashes between query ligand and protein chains\n",
    "    clash = is_clashing(qlig_xyz_valid, xyz_chains, mask_chains, asmb_xforms)\n",
    "    if clash:\n",
    "        print('clash between query ligand and protein',row['PDBID'], row['LIGAND'], row['ASSEMBLY'])\n",
    "        continue\n",
    "\n",
    "    # get list of all coordinate-transformed protein chains in assembly that contact this ligand\n",
    "    prot_na_contacts = get_contacting_chains(asmb_chains, asmb_xforms, \n",
    "                                     qlig_xyz_valid, qlig_chxf)\n",
    "\n",
    "    # get list of all coordinate-transformed ligands in assembly that contact this ligand\n",
    "    lig_contacts = get_contacting_ligands(ligands, chains, asmb_xforms, \n",
    "                                          query_ligand, qlig_xyz_valid, qlig_chxf)\n",
    "\n",
    "    prot_contacts = [x for x in prot_na_contacts if x[-1]=='polypeptide(L)' and x[2]>0]\n",
    "    if len(prot_contacts) == 0:\n",
    "        continue # no protein <5A of ligand, don't use for training\n",
    "\n",
    "    # pool all contacting objects, sort from most to least contacts (then lowest to highest min distance)\n",
    "    partners = sorted(prot_na_contacts+lig_contacts, key=lambda x: (x[2], -x[3]), reverse=True)\n",
    "\n",
    "    # filter partners\n",
    "    new_partners = filter_partners(partners, chains, xyz_chains, mask_chains, asmb_xforms, covale, row)\n",
    "\n",
    "    # save results\n",
    "    new_row = row.copy()\n",
    "    new_row['LIGAND'] = query_ligand # update in case we removed some residues with no resolved atoms\n",
    "    new_row['ASSEMBLY'] = i_a\n",
    "    new_row['PROT_CHAIN'] = prot_contacts[0][0] # most-contacting protein chain\n",
    "    new_row['LIGXF'] = qlig_chxf\n",
    "    new_row['PARTNERS'] = new_partners\n",
    "    new_row['LIGATOMS'] = qlig_xyz.shape[0]\n",
    "    new_row['LIGATOMS_RESOLVED'] = qlig_mask.sum().item()\n",
    "    \n",
    "    records.append(new_row)\n",
    "\n",
    "    if i%50 == 0:\n",
    "        print(i, time.time()-start_time)"
   ]
  },
  {
   "cell_type": "code",
   "execution_count": 254,
   "id": "dbede968-8e50-41e5-bca2-4ada29574ee8",
   "metadata": {},
   "outputs": [],
   "source": [
    "df2 = pd.DataFrame.from_records(records)"
   ]
  },
  {
   "cell_type": "markdown",
   "id": "ea3c4f7a-0364-4433-b2a0-6c035250ac30",
   "metadata": {},
   "source": [
    "Put the above in a standalone script to run in parallel on digs.\n",
    "\n",
    "Generate a list of commands to run"
   ]
  },
  {
   "cell_type": "code",
   "execution_count": 37,
   "id": "9b41471c-ba2c-46c9-a4e6-2539ff57e14a",
   "metadata": {},
   "outputs": [],
   "source": [
    "num = 300"
   ]
  },
  {
   "cell_type": "code",
   "execution_count": 256,
   "id": "547fa6a6-8439-455d-8ed2-69acfcd3fdce",
   "metadata": {},
   "outputs": [],
   "source": [
    "with open('cmds_get_partners.txt','w') as outf:\n",
    "    for istart in range(0, len(df), num):\n",
    "        if not os.path.exists(f'results_get_partners/ligands_partners{istart}.csv'):\n",
    "            print(f'source activate dlchem; python get_partners.py -istart {istart} -num {num}',\n",
    "                  file=outf)"
   ]
  },
  {
   "cell_type": "code",
   "execution_count": 257,
   "id": "80828313-adbd-4976-874d-cfa9841409ef",
   "metadata": {
    "tags": []
   },
   "outputs": [],
   "source": [
    "for istart in range(0, len(df), num):\n",
    "    if not os.path.exists(f'results_get_partners//ligands_partners{istart}.csv'):\n",
    "        print(istart)"
   ]
  },
  {
   "cell_type": "markdown",
   "id": "3634a37b-b8c8-4d79-8227-6862fa410de3",
   "metadata": {},
   "source": [
    "Compile the final list"
   ]
  },
  {
   "cell_type": "code",
   "execution_count": 258,
   "id": "62d9707d-4c77-4af0-bd62-2c294399ed71",
   "metadata": {},
   "outputs": [],
   "source": [
    "filenames = [f'results_get_partners/ligands_partners{i}.csv'\n",
    "             for i in range(0,len(df),num)]"
   ]
  },
  {
   "cell_type": "code",
   "execution_count": 259,
   "id": "bbeef323-b45a-4047-80bc-a001614e5f8a",
   "metadata": {
    "tags": []
   },
   "outputs": [],
   "source": [
    "df2 = pd.concat([pd.read_csv(fn, index_col=0, na_filter=False) for fn in filenames])"
   ]
  },
  {
   "cell_type": "code",
   "execution_count": 260,
   "id": "60917427-3452-4b40-a835-63bb9351a8cb",
   "metadata": {},
   "outputs": [
    {
     "data": {
      "text/plain": [
       "(383557, 9)"
      ]
     },
     "execution_count": 260,
     "metadata": {},
     "output_type": "execute_result"
    }
   ],
   "source": [
    "df2.shape"
   ]
  },
  {
   "cell_type": "code",
   "execution_count": 261,
   "id": "a8913413-c9e7-4476-8e23-4a76fed36697",
   "metadata": {},
   "outputs": [],
   "source": [
    "df2.to_csv('ligands_partners.csv',index=None)"
   ]
  },
  {
   "cell_type": "markdown",
   "id": "51cee028-845d-4b95-a8b3-cd8dc9ae0180",
   "metadata": {},
   "source": [
    "## Merge in protein seq clusters\n",
    "\n",
    "Cross-reference list of multi-residue examples with existing metadata to allow splitting into train & valid sets, and assign protein cluster IDs and ligand cluster sizes, to allow sampling in our current weighted training example sampling framework"
   ]
  },
  {
   "cell_type": "code",
   "execution_count": 327,
   "id": "48024b74-8ae5-4ff4-9440-e1433d2d9fb1",
   "metadata": {},
   "outputs": [],
   "source": [
    "df = pd.read_csv('ligands_partners.csv', na_filter=False)"
   ]
  },
  {
   "cell_type": "code",
   "execution_count": 265,
   "id": "905ebb42-2978-4fbc-8b82-69393465fcc3",
   "metadata": {},
   "outputs": [],
   "source": [
    "df['CHAINID'] = df.apply(lambda row: str(row['PDBID'])+'_'+row['PROT_CHAIN'], axis=1)"
   ]
  },
  {
   "cell_type": "code",
   "execution_count": 272,
   "id": "f515d3d7-fc38-4a38-bf46-17354c06f6c3",
   "metadata": {},
   "outputs": [
    {
     "data": {
      "text/plain": [
       "(383557, 10)"
      ]
     },
     "execution_count": 272,
     "metadata": {},
     "output_type": "execute_result"
    }
   ],
   "source": [
    "df.shape"
   ]
  },
  {
   "cell_type": "code",
   "execution_count": 282,
   "id": "927e5a42-e0ab-4807-bf42-3c28fd16e138",
   "metadata": {},
   "outputs": [],
   "source": [
    "df2 = pd.read_csv('/projects/ml/TrRosetta/PDB-2021AUG02/list_v02.csv')"
   ]
  },
  {
   "cell_type": "code",
   "execution_count": 283,
   "id": "c8f6ceb8-7cd2-41dc-a4b6-c2a15ecbd3eb",
   "metadata": {},
   "outputs": [
    {
     "data": {
      "text/plain": [
       "(534579, 7)"
      ]
     },
     "execution_count": 283,
     "metadata": {},
     "output_type": "execute_result"
    }
   ],
   "source": [
    "df2.shape"
   ]
  },
  {
   "cell_type": "code",
   "execution_count": 284,
   "id": "60151a55-8f03-4816-ade7-ddc4200dce05",
   "metadata": {},
   "outputs": [],
   "source": [
    "df2_subset = df2[['CHAINID','DEPOSITION','RESOLUTION','HASH',\n",
    "                  'CLUSTER','SEQUENCE','LEN_EXIST']].drop_duplicates('CHAINID')"
   ]
  },
  {
   "cell_type": "code",
   "execution_count": 285,
   "id": "a732b493-3093-45a7-b2d1-e2d5ebe10a7d",
   "metadata": {},
   "outputs": [],
   "source": [
    "df3 = df2_subset.merge(df,on='CHAINID')"
   ]
  },
  {
   "cell_type": "code",
   "execution_count": 286,
   "id": "35e977af-0a71-450d-b27a-61d0883e651e",
   "metadata": {},
   "outputs": [
    {
     "data": {
      "text/plain": [
       "(360930, 16)"
      ]
     },
     "execution_count": 286,
     "metadata": {},
     "output_type": "execute_result"
    }
   ],
   "source": [
    "df3.shape"
   ]
  },
  {
   "cell_type": "markdown",
   "id": "f9d4764f-c2ab-4fbd-b234-4bc09ec37864",
   "metadata": {},
   "source": [
    "Check which entries get excluded after merging to our old dataset"
   ]
  },
  {
   "cell_type": "code",
   "execution_count": 287,
   "id": "e7d599ae-4b6a-4e68-a549-39d49f58e954",
   "metadata": {},
   "outputs": [],
   "source": [
    "missing = set(df['CHAINID'].values)-set(df2['CHAINID'].values)"
   ]
  },
  {
   "cell_type": "code",
   "execution_count": 288,
   "id": "1dea0ce2-cac4-4583-849a-0cf7d130e833",
   "metadata": {},
   "outputs": [
    {
     "data": {
      "text/plain": [
       "10616"
      ]
     },
     "execution_count": 288,
     "metadata": {},
     "output_type": "execute_result"
    }
   ],
   "source": [
    "len(missing)"
   ]
  },
  {
   "cell_type": "code",
   "execution_count": 287,
   "id": "d0d57400-f6b1-428a-9086-47305e10ac20",
   "metadata": {},
   "outputs": [],
   "source": [
    "df4 = df[df['CHAINID'].isin(missing)]"
   ]
  },
  {
   "cell_type": "code",
   "execution_count": 288,
   "id": "bfddef49-262a-4eb6-9f4d-fb5b8c4ad95c",
   "metadata": {},
   "outputs": [],
   "source": [
    "df4.to_csv('missing.csv')"
   ]
  },
  {
   "cell_type": "markdown",
   "id": "c7934189-c9a1-4fe2-a38e-479d64715ee1",
   "metadata": {},
   "source": [
    "The missing entries are newer (2021-) PDBs as well as too-short chains (<60aa). Ivan didn't do sequence clustering on shorter sequences so we will need to leave these out for now."
   ]
  },
  {
   "cell_type": "code",
   "execution_count": 289,
   "id": "a6362da1-d4a8-4999-950d-921838975d9a",
   "metadata": {},
   "outputs": [],
   "source": [
    "df3.to_csv('ligands_partners_clustered.csv',index=None)"
   ]
  },
  {
   "cell_type": "markdown",
   "id": "856f2759-03ab-4ad1-a855-7df3ebcb9481",
   "metadata": {
    "toc-hr-collapsed": true
   },
   "source": [
    "## Exclude astex / CASF2016 by protein cluster"
   ]
  },
  {
   "cell_type": "code",
   "execution_count": 292,
   "id": "95f31b0e-117c-4628-9c83-1eba7884aac5",
   "metadata": {},
   "outputs": [],
   "source": [
    "df = pd.read_csv('ligands_partners_clustered.csv', na_filter=False)"
   ]
  },
  {
   "cell_type": "code",
   "execution_count": 293,
   "id": "44ad6370-05fd-41e2-b845-9659da1c3e62",
   "metadata": {},
   "outputs": [],
   "source": [
    "exclude = [line.strip() for line in open('/home/aivan/work/results/2022Jul23/list.astex_diverse').readlines()]"
   ]
  },
  {
   "cell_type": "code",
   "execution_count": 294,
   "id": "8198ea8c-ae46-4742-81e1-953c0bcc2fbd",
   "metadata": {},
   "outputs": [],
   "source": [
    "exclude += [line.strip() for line in open('/home/aivan/work/results/2022Jul23/list.astex_nonnat').readlines()]\n",
    "exclude += [line.strip() for line in open('/home/aivan/work/results/2022Jul23/list.casf2016').readlines()]"
   ]
  },
  {
   "cell_type": "code",
   "execution_count": 295,
   "id": "84937046-d475-4b5f-93fd-d60b2ad19099",
   "metadata": {},
   "outputs": [
    {
     "data": {
      "text/plain": [
       "436"
      ]
     },
     "execution_count": 295,
     "metadata": {},
     "output_type": "execute_result"
    }
   ],
   "source": [
    "len(exclude)"
   ]
  },
  {
   "cell_type": "code",
   "execution_count": 296,
   "id": "06fc022e-0dd2-4478-b091-abed48bc1ab3",
   "metadata": {},
   "outputs": [],
   "source": [
    "exclude = list(set(exclude))"
   ]
  },
  {
   "cell_type": "code",
   "execution_count": 297,
   "id": "06589bf6-f289-4080-855b-2e550e734258",
   "metadata": {},
   "outputs": [
    {
     "data": {
      "text/plain": [
       "366"
      ]
     },
     "execution_count": 297,
     "metadata": {},
     "output_type": "execute_result"
    }
   ],
   "source": [
    "len(exclude)"
   ]
  },
  {
   "cell_type": "code",
   "execution_count": 298,
   "id": "1bc4da72-7be7-4c6d-a62b-c272acbb76f8",
   "metadata": {},
   "outputs": [],
   "source": [
    "df2 = pd.read_csv('/projects/ml/TrRosetta/PDB-2021AUG02/list_v02.csv')"
   ]
  },
  {
   "cell_type": "code",
   "execution_count": 299,
   "id": "ced4cbe8-fe3b-45c9-8be3-62f56587f955",
   "metadata": {},
   "outputs": [],
   "source": [
    "df2['PDBID'] = df2['CHAINID'].apply(lambda x: x.split('_')[0])"
   ]
  },
  {
   "cell_type": "code",
   "execution_count": 300,
   "id": "0440ad39-af93-4ad7-a80b-ad6d95e00146",
   "metadata": {},
   "outputs": [],
   "source": [
    "found = np.in1d(np.array(exclude),df2['PDBID'].drop_duplicates().values)"
   ]
  },
  {
   "cell_type": "code",
   "execution_count": 301,
   "id": "81fdf44a-02f0-4761-8aed-32858de0a8fa",
   "metadata": {},
   "outputs": [
    {
     "data": {
      "text/plain": [
       "366"
      ]
     },
     "execution_count": 301,
     "metadata": {},
     "output_type": "execute_result"
    }
   ],
   "source": [
    "sum(found)"
   ]
  },
  {
   "cell_type": "code",
   "execution_count": 302,
   "id": "42b3c8a8-f932-4151-8e33-7b49f0141193",
   "metadata": {},
   "outputs": [],
   "source": [
    "df_excl = df2[df2['PDBID'].isin(exclude)]"
   ]
  },
  {
   "cell_type": "code",
   "execution_count": 303,
   "id": "d199a854-93d4-4eb1-8cf2-c0050cf50c18",
   "metadata": {},
   "outputs": [],
   "source": [
    "clus_excl = df_excl['CLUSTER'].drop_duplicates().values"
   ]
  },
  {
   "cell_type": "code",
   "execution_count": 304,
   "id": "a6172daf-5701-4a7d-90b6-ff2ad6096667",
   "metadata": {},
   "outputs": [
    {
     "data": {
      "text/plain": [
       "(360930, 16)"
      ]
     },
     "execution_count": 304,
     "metadata": {},
     "output_type": "execute_result"
    }
   ],
   "source": [
    "df.shape"
   ]
  },
  {
   "cell_type": "code",
   "execution_count": 305,
   "id": "7ce4f631-457f-4f97-820a-ae1cc88a4d08",
   "metadata": {},
   "outputs": [],
   "source": [
    "df_filt = df[~df['CLUSTER'].isin(clus_excl)]"
   ]
  },
  {
   "cell_type": "code",
   "execution_count": 306,
   "id": "2feabaa8-63ce-4271-a4e5-9be05bef78b0",
   "metadata": {},
   "outputs": [
    {
     "data": {
      "text/plain": [
       "(310550, 16)"
      ]
     },
     "execution_count": 306,
     "metadata": {},
     "output_type": "execute_result"
    }
   ],
   "source": [
    "df_filt.shape"
   ]
  },
  {
   "cell_type": "markdown",
   "id": "6902950f-391f-49e3-aa95-63e5e16254b8",
   "metadata": {},
   "source": [
    "### Exclude GPCRs"
   ]
  },
  {
   "cell_type": "markdown",
   "id": "ccae2e37-d22c-4aa4-b394-1c69c7f4e25d",
   "metadata": {},
   "source": [
    "Remove clusters containing GPCRs from the GPCR Dock competitions 2008, 2010, 2013, and 2021"
   ]
  },
  {
   "cell_type": "code",
   "execution_count": 307,
   "id": "c47a237a-43d1-4179-8ca1-fb5c6e2e8748",
   "metadata": {},
   "outputs": [],
   "source": [
    "import numpy as np"
   ]
  },
  {
   "cell_type": "code",
   "execution_count": 308,
   "id": "462df505-8296-4f3a-af7b-695276f8209c",
   "metadata": {},
   "outputs": [],
   "source": [
    "df2 = pd.read_csv('/projects/ml/TrRosetta/PDB-2021AUG02/list_v02.csv')"
   ]
  },
  {
   "cell_type": "code",
   "execution_count": 309,
   "id": "a1d85e2a-94ab-49b2-bc9d-bf319f018096",
   "metadata": {},
   "outputs": [],
   "source": [
    "gpcrs = ['3eml', '3pbl', '3oeu', '3oe0', '3oe6', '3oe8', '3oe9', '4ib4', '4iar', '4iaq', '4jkv', '4n4w', '4qim', '4qin',\n",
    "         '7vug', '7vuh', '7vgx']"
   ]
  },
  {
   "cell_type": "code",
   "execution_count": 310,
   "id": "3766385e-95d6-482d-96f7-819ebd27d311",
   "metadata": {},
   "outputs": [
    {
     "data": {
      "text/plain": [
       "17"
      ]
     },
     "execution_count": 310,
     "metadata": {},
     "output_type": "execute_result"
    }
   ],
   "source": [
    "len(gpcrs)"
   ]
  },
  {
   "cell_type": "code",
   "execution_count": 311,
   "id": "6a7b27b9-67ee-4c6e-b4b1-6bf21433c090",
   "metadata": {},
   "outputs": [],
   "source": [
    "df2['PDBID'] = df2['CHAINID'].apply(lambda x: x.split('_')[0])"
   ]
  },
  {
   "cell_type": "code",
   "execution_count": 312,
   "id": "daf76979-b4a7-4a2d-af8a-4d5a698fb0dd",
   "metadata": {},
   "outputs": [],
   "source": [
    "found = np.in1d(np.array(gpcrs),df2['PDBID'].drop_duplicates().values)"
   ]
  },
  {
   "cell_type": "code",
   "execution_count": 313,
   "id": "f489ac1e-1d52-468f-9026-4138b9d41858",
   "metadata": {},
   "outputs": [
    {
     "data": {
      "text/plain": [
       "14"
      ]
     },
     "execution_count": 313,
     "metadata": {},
     "output_type": "execute_result"
    }
   ],
   "source": [
    "sum(found)"
   ]
  },
  {
   "cell_type": "code",
   "execution_count": 314,
   "id": "54f83c09-c44e-453d-82a2-38e03fae4dbd",
   "metadata": {},
   "outputs": [],
   "source": [
    "df_excl = df2[df2['PDBID'].isin(gpcrs)]"
   ]
  },
  {
   "cell_type": "code",
   "execution_count": 315,
   "id": "b4d4d182-bafe-4d48-a90a-0bda814d62b3",
   "metadata": {},
   "outputs": [],
   "source": [
    "clus_excl = df_excl['CLUSTER'].drop_duplicates().values"
   ]
  },
  {
   "cell_type": "code",
   "execution_count": 316,
   "id": "b4bb92a8-07ff-40ab-b49d-e4dbfa74a95f",
   "metadata": {},
   "outputs": [
    {
     "data": {
      "text/plain": [
       "(310550, 16)"
      ]
     },
     "execution_count": 316,
     "metadata": {},
     "output_type": "execute_result"
    }
   ],
   "source": [
    "df_filt.shape"
   ]
  },
  {
   "cell_type": "code",
   "execution_count": 317,
   "id": "3fe2ddcc-733d-44a8-aa79-b87d36172c7e",
   "metadata": {},
   "outputs": [],
   "source": [
    "df_filt = df_filt[~df_filt['CLUSTER'].isin(clus_excl)]"
   ]
  },
  {
   "cell_type": "code",
   "execution_count": 318,
   "id": "8fe28e65-4c79-43ad-917f-b3e1402f5a21",
   "metadata": {},
   "outputs": [
    {
     "data": {
      "text/plain": [
       "(308055, 16)"
      ]
     },
     "execution_count": 318,
     "metadata": {},
     "output_type": "execute_result"
    }
   ],
   "source": [
    "df_filt.shape"
   ]
  },
  {
   "cell_type": "code",
   "execution_count": 319,
   "id": "78e2a6ff-42d3-4a43-8605-e2ede2c6e980",
   "metadata": {},
   "outputs": [],
   "source": [
    "df_filt.to_csv('sm_compl_all_20230211.csv',index=None)"
   ]
  },
  {
   "cell_type": "markdown",
   "id": "df9fcc31-c7d1-4a8f-bcbd-b3ee7506def6",
   "metadata": {},
   "source": [
    "## Mismatched MSAs\n",
    "MSAs and templates were created a long time ago, and a small # of examples include both a modified residue and its canonical equivalent right next to it, which means they are 1 residue longer than they should be. This is hard to fix without regenerating the MSAs, so we're just going to drop examples with this problem."
   ]
  },
  {
   "cell_type": "markdown",
   "id": "f54ce749-da32-4abb-8d5d-25e74b527d67",
   "metadata": {},
   "source": [
    "### Pilot code"
   ]
  },
  {
   "cell_type": "code",
   "execution_count": null,
   "id": "0e8be12e-ae9d-4481-b236-92718b606729",
   "metadata": {},
   "outputs": [],
   "source": [
    "from data_loader import *\n",
    "from argparse import Namespace"
   ]
  },
  {
   "cell_type": "code",
   "execution_count": null,
   "id": "efcad9c2-2fe7-45bb-9328-4a830f4ec40a",
   "metadata": {},
   "outputs": [],
   "source": [
    "import time"
   ]
  },
  {
   "cell_type": "code",
   "execution_count": null,
   "id": "8e2f7905-ef59-4227-b3da-e779cee2cc9a",
   "metadata": {},
   "outputs": [],
   "source": [
    "df = pd.read_csv('sm_compl_all_20230211.csv', na_filter=False)"
   ]
  },
  {
   "cell_type": "code",
   "execution_count": null,
   "id": "afe1eab5-260b-42bc-81d4-e7d9b42ef939",
   "metadata": {
    "tags": []
   },
   "outputs": [],
   "source": [
    "for col in ['LIGAND','LIGXF','COVALENT','PARTNERS']:\n",
    "    if col in df:\n",
    "        df[col] = df[col].apply(lambda x: eval(x))"
   ]
  },
  {
   "cell_type": "code",
   "execution_count": null,
   "id": "1f8ea084-0ef1-4499-9091-88cbbb65fab6",
   "metadata": {},
   "outputs": [],
   "source": [
    "df['PDBID'] = df['CHAINID'].apply(lambda x: x.split('_')[0])"
   ]
  },
  {
   "cell_type": "code",
   "execution_count": null,
   "id": "bfcd3885-c8fb-4050-8ea6-44f0d50e38f8",
   "metadata": {},
   "outputs": [
    {
     "data": {
      "text/plain": [
       "(283205, 15)"
      ]
     },
     "execution_count": 22,
     "metadata": {},
     "output_type": "execute_result"
    }
   ],
   "source": [
    "df.shape"
   ]
  },
  {
   "cell_type": "code",
   "execution_count": null,
   "id": "c84a6ccd-076a-4bad-900b-5ee1640c8a20",
   "metadata": {},
   "outputs": [],
   "source": [
    "df2 = pd.read_csv('/projects/ml/TrRosetta/PDB-2021AUG02/list_v00.csv')\n",
    "df2['HASH'] = df2['HASH'].apply(lambda x: f'{x:06d}')"
   ]
  },
  {
   "cell_type": "code",
   "execution_count": null,
   "id": "787f23ef-6f46-47ef-a6b5-92a60766e755",
   "metadata": {},
   "outputs": [],
   "source": [
    "chid2hash = dict(zip(df2['CHAINID'],df2['HASH']))"
   ]
  },
  {
   "cell_type": "code",
   "execution_count": null,
   "id": "14f833a2-998b-4fe0-bed4-07077471216e",
   "metadata": {},
   "outputs": [],
   "source": [
    "records = []\n",
    "for i,row in df.iterrows():\n",
    "    for p in row['PARTNERS']:\n",
    "        if p[-1] != 'polypeptide(L)': continue\n",
    "        \n",
    "        newrow = row[['CHAINID','LIGAND','ASSEMBLY']].copy()\n",
    "        newrow['CHAINID2'] = row['PDBID']+'_'+p[0]\n",
    "        if newrow['CHAINID2'] in chid2hash:\n",
    "            newrow['HASH2'] = chid2hash[newrow['CHAINID2']]\n",
    "        records.append(newrow)"
   ]
  },
  {
   "cell_type": "code",
   "execution_count": null,
   "id": "a6f3a343-2a37-4b62-9673-98df2e0d14d9",
   "metadata": {},
   "outputs": [],
   "source": [
    "df3 = pd.DataFrame.from_records(records)"
   ]
  },
  {
   "cell_type": "code",
   "execution_count": null,
   "id": "edee9e23-71a4-491c-9dde-573d4a12c43d",
   "metadata": {},
   "outputs": [
    {
     "data": {
      "text/plain": [
       "(703663, 5)"
      ]
     },
     "execution_count": 32,
     "metadata": {},
     "output_type": "execute_result"
    }
   ],
   "source": [
    "df3.shape"
   ]
  },
  {
   "cell_type": "code",
   "execution_count": null,
   "id": "e9db3237-b0bb-4eba-9b34-3fc5cc6ace6c",
   "metadata": {},
   "outputs": [],
   "source": [
    "df3.to_csv('sm_compl_all_chainid_expanded_20230220.csv')"
   ]
  },
  {
   "cell_type": "code",
   "execution_count": null,
   "id": "a5358da9-d7bd-46ee-9e55-5c3fc206d671",
   "metadata": {},
   "outputs": [],
   "source": []
  },
  {
   "cell_type": "code",
   "execution_count": null,
   "id": "d2a1b64d-3215-47de-a54c-5c8fd134118e",
   "metadata": {},
   "outputs": [],
   "source": []
  },
  {
   "cell_type": "code",
   "execution_count": null,
   "id": "41b62ff8-2e68-489a-a3cc-0186abc48c1a",
   "metadata": {},
   "outputs": [],
   "source": []
  },
  {
   "cell_type": "code",
   "execution_count": null,
   "id": "0951778f-db06-42a2-ab37-d9c30401d37b",
   "metadata": {},
   "outputs": [],
   "source": [
    "df = pd.read_csv('sm_compl_all_chainid_expanded_20230220.csv')"
   ]
  },
  {
   "cell_type": "code",
   "execution_count": null,
   "id": "2a0177c2-4b8a-4854-a314-7cf3bbe61701",
   "metadata": {
    "tags": []
   },
   "outputs": [],
   "source": [
    "df['PDBID'] = df['CHAINID'].apply(lambda x: x.split('_')[0])"
   ]
  },
  {
   "cell_type": "code",
   "execution_count": null,
   "id": "19c2adb2-b363-4089-9c82-826fe98f94f0",
   "metadata": {},
   "outputs": [],
   "source": [
    "df['HASH2'] = df['HASH2'].apply(lambda x: f'{int(x):06d}' if pd.notnull(x) else np.nan)"
   ]
  },
  {
   "cell_type": "code",
   "execution_count": null,
   "id": "0bb87757-c955-4f59-834c-d9f5b9eeeab7",
   "metadata": {},
   "outputs": [
    {
     "data": {
      "text/plain": [
       "(703663, 7)"
      ]
     },
     "execution_count": 83,
     "metadata": {},
     "output_type": "execute_result"
    }
   ],
   "source": [
    "df.shape"
   ]
  },
  {
   "cell_type": "code",
   "execution_count": null,
   "id": "fbd510aa-8a1a-423e-9966-7c2b80ca0d78",
   "metadata": {},
   "outputs": [],
   "source": [
    "df = df.drop_duplicates(['PDBID','CHAINID2','HASH2'])"
   ]
  },
  {
   "cell_type": "code",
   "execution_count": null,
   "id": "30c59d44-2045-483c-a5ff-a7fcbb8bf429",
   "metadata": {},
   "outputs": [
    {
     "data": {
      "text/plain": [
       "(162123, 7)"
      ]
     },
     "execution_count": 85,
     "metadata": {},
     "output_type": "execute_result"
    }
   ],
   "source": [
    "df.shape"
   ]
  },
  {
   "cell_type": "code",
   "execution_count": null,
   "id": "2f2c617b-0211-4975-bfd0-4a4436b6ed5b",
   "metadata": {},
   "outputs": [],
   "source": [
    "from data_loader import *"
   ]
  },
  {
   "cell_type": "code",
   "execution_count": null,
   "id": "79441035-8ac5-4210-87fb-6eda4bdbe4ab",
   "metadata": {},
   "outputs": [],
   "source": [
    "params = set_data_loader_params(Namespace())"
   ]
  },
  {
   "cell_type": "code",
   "execution_count": null,
   "id": "1b2dfe72-ebc4-44e9-b269-0f8fb2e805c4",
   "metadata": {
    "tags": []
   },
   "outputs": [
    {
     "name": "stdout",
     "output_type": "stream",
     "text": [
      "50 56.29222059249878\n",
      "100 101.51658630371094\n",
      "150 119.64641118049622\n",
      "200 175.9763958454132\n"
     ]
    }
   ],
   "source": [
    "t0 = time.time()\n",
    "ct = 0\n",
    "\n",
    "pdbid_prev = None\n",
    "\n",
    "records = []\n",
    "for i,item in df.iloc[29200:29400].iterrows():\n",
    "\n",
    "    pdb_chain, pdb_hash = item['CHAINID2'], item['HASH2']\n",
    "    pdb_id, i_ch_prot = pdb_chain.split('_')\n",
    "\n",
    "    if pdb_id!=pdbid_prev:\n",
    "        chains,asmb,covale,modres = pickle.load(gzip.open(f'/projects/ml/RF2_allatom/rcsb/pkl/{pdb_id[1:3]}/{pdb_id}.pkl.gz'))\n",
    "        ligands, lig_covale = get_ligands(chains, covale)\n",
    "\n",
    "    # transform doesn't actually matter but we need it for featurizing coords\n",
    "    i_a = str(item['ASSEMBLY'])\n",
    "    asmb_xfs = asmb[i_a]\n",
    "    for ch_xf in asmb_xfs:\n",
    "        if ch_xf[0] == i_ch_prot:\n",
    "            break\n",
    "\n",
    "    # load coords\n",
    "    ch = chains[i_ch_prot]\n",
    "    xyz_prot, mask_prot, seq_prot, chid_prot, resi_prot, _ = cif_prot_to_xyz(ch, ch_xf, modres)\n",
    "    protein_L, nprotatoms, _ = xyz_prot.shape\n",
    "\n",
    "    # load msa\n",
    "    if type(pdb_hash) is not str and np.isnan(pdb_hash):\n",
    "        item['PROT_LEN'] = 0\n",
    "    else:\n",
    "        a3mA = get_msa(params['PDB_DIR'] + '/a3m/'+pdb_hash[:3] + '/'+ pdb_hash + '.a3m.gz', pdb_hash)\n",
    "        item['PROT_LEN'] = xyz_prot.shape[0]\n",
    "        item['MATCHED'] = a3mA['msa'].shape[1] == item['PROT_LEN']\n",
    "    records.append(item)\n",
    "\n",
    "    pdbid_prev = pdb_id\n",
    "    \n",
    "    ct += 1\n",
    "\n",
    "    if ct % 50 == 0:\n",
    "        print(ct, time.time() - t0)"
   ]
  },
  {
   "cell_type": "code",
   "execution_count": null,
   "id": "748f436c-9afd-4ff1-9429-2879de7a566d",
   "metadata": {},
   "outputs": [],
   "source": [
    "df2 = pd.DataFrame.from_records(records)"
   ]
  },
  {
   "cell_type": "code",
   "execution_count": null,
   "id": "0431cb74-396c-4599-94d7-3c9669835018",
   "metadata": {},
   "outputs": [],
   "source": [
    "df2.to_csv('bad_msas{args.istart}"
   ]
  },
  {
   "cell_type": "markdown",
   "id": "0e3dac00-fd4c-49e7-855d-9f9f0ca894c8",
   "metadata": {},
   "source": [
    "### Run on digs"
   ]
  },
  {
   "cell_type": "code",
   "execution_count": null,
   "id": "177a224e-62de-4e29-9c19-5cfa47f125f6",
   "metadata": {},
   "outputs": [],
   "source": [
    "num = 200"
   ]
  },
  {
   "cell_type": "code",
   "execution_count": null,
   "id": "a9fa3307-cb5a-4372-94c7-24fecbc55bef",
   "metadata": {},
   "outputs": [],
   "source": [
    "with open('cmds_filter_bad_msas.txt','w') as outf:\n",
    "    for istart in range(0, len(df), num):\n",
    "        if not os.path.exists(f'results_filter_msas/bad_msas{istart}.csv'):\n",
    "            print(f'source activate SE3-nvidia; python filter_bad_msas.py -istart {istart} -num {num} ',\n",
    "                  file=outf)"
   ]
  },
  {
   "cell_type": "code",
   "execution_count": null,
   "id": "9c9eedec-92de-4657-be24-5acf550c04c1",
   "metadata": {},
   "outputs": [],
   "source": [
    "for istart in range(0, len(df), num):\n",
    "    if not os.path.exists(f'results_filter_msas/bad_msas{istart}.csv'):\n",
    "        print(istart)"
   ]
  },
  {
   "cell_type": "code",
   "execution_count": null,
   "id": "df0ea1f7-1a70-42d5-9185-a3b62bafd694",
   "metadata": {},
   "outputs": [],
   "source": [
    "df2 = pd.concat([pd.read_csv(f'results_filter_msas/bad_msas{istart}.csv')\n",
    "                 for istart in range(0, len(df), num)])"
   ]
  },
  {
   "cell_type": "code",
   "execution_count": null,
   "id": "1e38a9be-b8f1-45d9-a0a6-fabc972ee5eb",
   "metadata": {},
   "outputs": [
    {
     "data": {
      "text/plain": [
       "(162123, 10)"
      ]
     },
     "execution_count": 92,
     "metadata": {},
     "output_type": "execute_result"
    }
   ],
   "source": [
    "df2.shape"
   ]
  },
  {
   "cell_type": "code",
   "execution_count": null,
   "id": "b1c10eca-5ebf-4bf9-8818-b1a116137d06",
   "metadata": {},
   "outputs": [
    {
     "data": {
      "text/plain": [
       "162120"
      ]
     },
     "execution_count": 93,
     "metadata": {},
     "output_type": "execute_result"
    }
   ],
   "source": [
    "df2['MATCHED'].sum()"
   ]
  },
  {
   "cell_type": "code",
   "execution_count": null,
   "id": "e8104405-5492-44a4-98cb-b1a5cd2e1ecf",
   "metadata": {},
   "outputs": [
    {
     "data": {
      "text/plain": [
       "(0, 10)"
      ]
     },
     "execution_count": 94,
     "metadata": {},
     "output_type": "execute_result"
    }
   ],
   "source": [
    "df2[df2['PROT_LEN']==0].shape"
   ]
  },
  {
   "cell_type": "code",
   "execution_count": null,
   "id": "5d3b9b19-7729-41cf-b885-6363d196b612",
   "metadata": {},
   "outputs": [
    {
     "data": {
      "text/plain": [
       "3"
      ]
     },
     "execution_count": 95,
     "metadata": {},
     "output_type": "execute_result"
    }
   ],
   "source": [
    "((df2['PROT_LEN']>0) & (df2['MATCHED']==False)).sum()"
   ]
  },
  {
   "cell_type": "code",
   "execution_count": null,
   "id": "e6c039d0-eacb-4291-8f28-c98bb678a900",
   "metadata": {},
   "outputs": [],
   "source": [
    "df2.to_csv('bad_msas.csv',index=None)"
   ]
  },
  {
   "cell_type": "markdown",
   "id": "14346b86-68cc-48eb-b12c-ec1d2cc42686",
   "metadata": {},
   "source": [
    "### Filter datasets"
   ]
  },
  {
   "cell_type": "code",
   "execution_count": null,
   "id": "5cd36f8a-2b34-4315-a900-9f49e1c05a67",
   "metadata": {},
   "outputs": [],
   "source": [
    "df = pd.read_csv('sm_compl_all_chainid_expanded_20230220.csv')"
   ]
  },
  {
   "cell_type": "code",
   "execution_count": null,
   "id": "e5995dc1-d5b0-4334-82f5-ddb0b2f7fe10",
   "metadata": {},
   "outputs": [
    {
     "data": {
      "text/plain": [
       "(703663, 6)"
      ]
     },
     "execution_count": 98,
     "metadata": {},
     "output_type": "execute_result"
    }
   ],
   "source": [
    "df.shape"
   ]
  },
  {
   "cell_type": "code",
   "execution_count": null,
   "id": "e65764cd-6caf-44e6-9947-e9421c67d810",
   "metadata": {},
   "outputs": [],
   "source": [
    "df['PDBID'] = df['CHAINID'].apply(lambda x: x.split('_')[0])"
   ]
  },
  {
   "cell_type": "code",
   "execution_count": null,
   "id": "ef8ed83f-3351-4227-8117-ed11b0799835",
   "metadata": {},
   "outputs": [],
   "source": [
    "df2 = pd.read_csv('bad_msas.csv')"
   ]
  },
  {
   "cell_type": "code",
   "execution_count": null,
   "id": "73ee1ee1-4a11-4f53-b960-170b3cfca938",
   "metadata": {},
   "outputs": [
    {
     "data": {
      "text/plain": [
       "(162123, 10)"
      ]
     },
     "execution_count": 101,
     "metadata": {},
     "output_type": "execute_result"
    }
   ],
   "source": [
    "df2.shape"
   ]
  },
  {
   "cell_type": "code",
   "execution_count": null,
   "id": "6a200cc7-4a78-4291-8349-57d6b216e71a",
   "metadata": {},
   "outputs": [],
   "source": [
    "df2 = df2[df2['MATCHED']==True]"
   ]
  },
  {
   "cell_type": "code",
   "execution_count": null,
   "id": "c447b406-9afd-4dde-9206-cea845608b9a",
   "metadata": {},
   "outputs": [
    {
     "data": {
      "text/plain": [
       "(162120, 10)"
      ]
     },
     "execution_count": 103,
     "metadata": {},
     "output_type": "execute_result"
    }
   ],
   "source": [
    "df2.shape"
   ]
  },
  {
   "cell_type": "code",
   "execution_count": null,
   "id": "984a67ce-d02b-45ae-90c5-3608baeb9d7b",
   "metadata": {},
   "outputs": [],
   "source": [
    "matched = set(df2['CHAINID2'].values)"
   ]
  },
  {
   "cell_type": "code",
   "execution_count": null,
   "id": "d7158981-47e3-4d36-a86e-79a85243396e",
   "metadata": {},
   "outputs": [
    {
     "data": {
      "text/plain": [
       "162120"
      ]
     },
     "execution_count": 105,
     "metadata": {},
     "output_type": "execute_result"
    }
   ],
   "source": [
    "len(matched)"
   ]
  },
  {
   "cell_type": "code",
   "execution_count": null,
   "id": "cdddbe97-5b17-4e27-975c-a2b409b09224",
   "metadata": {},
   "outputs": [],
   "source": [
    "df = pd.read_csv('sm_compl_all_20230211.csv')"
   ]
  },
  {
   "cell_type": "code",
   "execution_count": null,
   "id": "665e130e-30b5-4d2c-af2c-ce53d9548a46",
   "metadata": {},
   "outputs": [
    {
     "data": {
      "text/plain": [
       "(283205, 15)"
      ]
     },
     "execution_count": 107,
     "metadata": {},
     "output_type": "execute_result"
    }
   ],
   "source": [
    "df.shape"
   ]
  },
  {
   "cell_type": "code",
   "execution_count": null,
   "id": "d5686406-700a-4a44-9fb5-ffb6994649f5",
   "metadata": {},
   "outputs": [
    {
     "data": {
      "text/plain": [
       "(283205, 15)"
      ]
     },
     "execution_count": 108,
     "metadata": {},
     "output_type": "execute_result"
    }
   ],
   "source": [
    "df.drop_duplicates(['CHAINID','LIGAND','ASSEMBLY']).shape"
   ]
  },
  {
   "cell_type": "code",
   "execution_count": null,
   "id": "5afb1cd0-5683-4b27-98e1-e856e86bb1b6",
   "metadata": {},
   "outputs": [],
   "source": [
    "df3 = df[df['CHAINID'].isin(matched)]"
   ]
  },
  {
   "cell_type": "code",
   "execution_count": null,
   "id": "5e809e37-70b5-493a-b418-4779ab00bbd5",
   "metadata": {},
   "outputs": [
    {
     "data": {
      "text/plain": [
       "(283202, 15)"
      ]
     },
     "execution_count": 110,
     "metadata": {},
     "output_type": "execute_result"
    }
   ],
   "source": [
    "df3.shape"
   ]
  },
  {
   "cell_type": "code",
   "execution_count": null,
   "id": "0d6dc1e5-92e6-4429-bc55-a07b7af171a8",
   "metadata": {
    "tags": []
   },
   "outputs": [
    {
     "name": "stderr",
     "output_type": "stream",
     "text": [
      "/scratch/jue/29531735/ipykernel_896644/2734829755.py:1: SettingWithCopyWarning: \n",
      "A value is trying to be set on a copy of a slice from a DataFrame.\n",
      "Try using .loc[row_indexer,col_indexer] = value instead\n",
      "\n",
      "See the caveats in the documentation: https://pandas.pydata.org/pandas-docs/stable/user_guide/indexing.html#returning-a-view-versus-a-copy\n",
      "  df3['PARTNERS'] = df3['PARTNERS'].apply(lambda x: eval(x))\n"
     ]
    }
   ],
   "source": [
    "df3['PARTNERS'] = df3['PARTNERS'].apply(lambda x: eval(x))"
   ]
  },
  {
   "cell_type": "code",
   "execution_count": null,
   "id": "23c8d314-455e-4226-bb4d-8f636bc67548",
   "metadata": {
    "tags": []
   },
   "outputs": [
    {
     "name": "stderr",
     "output_type": "stream",
     "text": [
      "/scratch/jue/29531735/ipykernel_896644/447582296.py:1: SettingWithCopyWarning: \n",
      "A value is trying to be set on a copy of a slice from a DataFrame.\n",
      "Try using .loc[row_indexer,col_indexer] = value instead\n",
      "\n",
      "See the caveats in the documentation: https://pandas.pydata.org/pandas-docs/stable/user_guide/indexing.html#returning-a-view-versus-a-copy\n",
      "  df3['NUMPARTNERS'] = df3['PARTNERS'].apply(lambda x: len(x))\n"
     ]
    }
   ],
   "source": [
    "df3['NUMPARTNERS'] = df3['PARTNERS'].apply(lambda x: len(x))"
   ]
  },
  {
   "cell_type": "code",
   "execution_count": null,
   "id": "cbcfd919-1f5f-48a1-afa7-528ea4bb1c9d",
   "metadata": {},
   "outputs": [
    {
     "name": "stderr",
     "output_type": "stream",
     "text": [
      "/scratch/jue/29531735/ipykernel_896644/2549799873.py:1: SettingWithCopyWarning: \n",
      "A value is trying to be set on a copy of a slice from a DataFrame.\n",
      "Try using .loc[row_indexer,col_indexer] = value instead\n",
      "\n",
      "See the caveats in the documentation: https://pandas.pydata.org/pandas-docs/stable/user_guide/indexing.html#returning-a-view-versus-a-copy\n",
      "  df3['PARTNERS'] = df3.apply(\n"
     ]
    }
   ],
   "source": [
    "df3['PARTNERS'] = df3.apply(\n",
    "    lambda row: [p for p in row['PARTNERS'] \\\n",
    "                      if p[-1]!='polypeptide(L)' or \\\n",
    "                      (p[-1]=='polypeptide(L)' and (row['CHAINID'].split('_')[0]+'_'+p[0] in matched))],\n",
    "    axis=1\n",
    ")"
   ]
  },
  {
   "cell_type": "code",
   "execution_count": null,
   "id": "8383fc32-e0d3-4d12-b3f6-2f66783f8c7c",
   "metadata": {},
   "outputs": [],
   "source": [
    "df4 = df3[df3.apply(lambda row: len(row['PARTNERS'])!=row['NUMPARTNERS'], axis=1)]"
   ]
  },
  {
   "cell_type": "code",
   "execution_count": null,
   "id": "9f0f4cef-cf3b-4d46-a653-96430f38817b",
   "metadata": {},
   "outputs": [
    {
     "data": {
      "text/plain": [
       "(0, 16)"
      ]
     },
     "execution_count": 115,
     "metadata": {},
     "output_type": "execute_result"
    }
   ],
   "source": [
    "df4.shape"
   ]
  },
  {
   "cell_type": "code",
   "execution_count": null,
   "id": "bc370bfc-f5b9-432a-bd9f-c0a759d91382",
   "metadata": {},
   "outputs": [],
   "source": [
    "df3 = df3.drop('NUMPARTNERS',axis=1)"
   ]
  },
  {
   "cell_type": "code",
   "execution_count": null,
   "id": "135f8200-8245-4cf2-ad3c-b8d7351583f9",
   "metadata": {},
   "outputs": [],
   "source": [
    "df3.to_csv('sm_compl_all_goodmsa_20230211.csv',index=None)"
   ]
  },
  {
   "cell_type": "markdown",
   "id": "9c3db400-2c9c-4265-85fa-2989acb4dc36",
   "metadata": {},
   "source": [
    "## Filter nonbio, nucleic acids"
   ]
  },
  {
   "cell_type": "code",
   "execution_count": 118,
   "id": "89c5dac5-2d5a-47ec-81cf-7b72561b82be",
   "metadata": {},
   "outputs": [],
   "source": [
    "df = pd.read_csv('sm_compl_all_goodmsa_20230211.csv')"
   ]
  },
  {
   "cell_type": "code",
   "execution_count": 120,
   "id": "dc1ea378-e07f-44f0-9a01-d3b14685d9ed",
   "metadata": {},
   "outputs": [
    {
     "data": {
      "text/plain": [
       "(283202, 15)"
      ]
     },
     "execution_count": 120,
     "metadata": {},
     "output_type": "execute_result"
    }
   ],
   "source": [
    "df.shape"
   ]
  },
  {
   "cell_type": "code",
   "execution_count": 121,
   "id": "6bc662d0-4ca1-4f53-8bc9-c5abffdce742",
   "metadata": {},
   "outputs": [],
   "source": [
    "df['LIGAND'] = df['LIGAND'].apply(lambda x: eval(x))\n",
    "df['COVALENT'] = df['COVALENT'].apply(lambda x: eval(x))"
   ]
  },
  {
   "cell_type": "code",
   "execution_count": 122,
   "id": "a2ed7292-3e3c-478f-a124-f059689245eb",
   "metadata": {},
   "outputs": [],
   "source": [
    "biolip_list = ['NUC','ZN','CA','MG','III','MN','FE','CU','SF4','FE2','CO','FES','GOL','NA',  \n",
    "            'CL','K','CU1','GOL','XE','NO2','EDO','NI','BR','CD','O','CS','NO','TL','HG','UNL','KR',\n",
    "            'SR','RB','F','AG','AR','U','AU','MO','SE','GD','YB','VX','SM','LI','RE','N','W','OS','HO','PI']\n",
    "LA_list = ['EDO','PG4','OGA','SO4','HEZ','FEO','CL','DMS','ACT','MPD','GOL' ,'NH2','CUA','SIW','PGW','IOD','BR','3NI','ZRW','78M','UNX','nan']\n",
    "rohith = ['MES','CCN','PO4']\n",
    "metals = ['LA','NI','3CO','K','CR','ZN','CD','PD','TB','YT3','OS','EU','NA','RB','W','YB','HO3',\n",
    "          'CE','MN','TL','LI','MN3','AU3','AU','EU3','AL','3NI','FE2','PT','FE','CA','AG','CU1',\n",
    "          'LU','HG','CO','SR','MG','PB','CS','GA','BA','SM','SB','CU','MO','CU2']"
   ]
  },
  {
   "cell_type": "code",
   "execution_count": 123,
   "id": "827dfc3f-8995-4a23-b7cb-f5d6da9247d6",
   "metadata": {},
   "outputs": [],
   "source": [
    "exclude = set(biolip_list+LA_list+rohith)-set(metals)"
   ]
  },
  {
   "cell_type": "code",
   "execution_count": 124,
   "id": "9647b2f2-37d4-4670-badc-71e14dbe727b",
   "metadata": {},
   "outputs": [],
   "source": [
    "df['LIGANDNAME'] = df['LIGAND'].apply(lambda x: x[0][2])"
   ]
  },
  {
   "cell_type": "markdown",
   "id": "01a66a98-5442-402d-8963-78d0118bdf5c",
   "metadata": {},
   "source": [
    "Doublecheck that non-biological query ligands are filtered."
   ]
  },
  {
   "cell_type": "code",
   "execution_count": 125,
   "id": "30cb3ff1-41cc-4407-9b0b-265f8ca10f47",
   "metadata": {},
   "outputs": [],
   "source": [
    "df = df[~df['LIGANDNAME'].isin(exclude)]"
   ]
  },
  {
   "cell_type": "code",
   "execution_count": 126,
   "id": "c8940e30-42ab-45db-b184-7af9554cfc99",
   "metadata": {},
   "outputs": [
    {
     "data": {
      "text/plain": [
       "(283202, 16)"
      ]
     },
     "execution_count": 126,
     "metadata": {},
     "output_type": "execute_result"
    }
   ],
   "source": [
    "df.shape"
   ]
  },
  {
   "cell_type": "code",
   "execution_count": 127,
   "id": "9b7a035a-a6a7-4b4a-a198-bb2b8675bfd4",
   "metadata": {},
   "outputs": [],
   "source": [
    "df = df.drop('LIGANDNAME',axis=1)"
   ]
  },
  {
   "cell_type": "markdown",
   "id": "120e701c-0972-4ea1-b81d-6754a5d2e78d",
   "metadata": {},
   "source": [
    "Also remove partner ligands on the exclusion list"
   ]
  },
  {
   "cell_type": "code",
   "execution_count": 128,
   "id": "b6cb4048-2860-45ea-b858-48503ed54011",
   "metadata": {
    "tags": []
   },
   "outputs": [],
   "source": [
    "df['PARTNERS'] = df['PARTNERS'].apply(lambda x: eval(x))"
   ]
  },
  {
   "cell_type": "code",
   "execution_count": 129,
   "id": "fc3890a4-64e6-47fc-aed5-0d3a41506774",
   "metadata": {},
   "outputs": [],
   "source": [
    "def func(partners):\n",
    "    return [\n",
    "        p for p in partners \n",
    "        if (p[-1]!='nonpoly') or \\\n",
    "           ((p[-1]=='nonpoly') and all([lig[2] not in exclude for lig in p[0]]))\n",
    "    ]       "
   ]
  },
  {
   "cell_type": "code",
   "execution_count": 130,
   "id": "f8d761bd-7ec0-46b8-b32a-1d8bd7e699ab",
   "metadata": {},
   "outputs": [],
   "source": [
    "df['PARTNERS'] = df['PARTNERS'].apply(func)"
   ]
  },
  {
   "cell_type": "markdown",
   "id": "042d9afd-38ad-4e45-8886-a360d34585c7",
   "metadata": {},
   "source": [
    "What about DNA/RNA partners? Are there a lot of these?"
   ]
  },
  {
   "cell_type": "code",
   "execution_count": 131,
   "id": "36604f45-d131-4040-b4f9-df672168357a",
   "metadata": {},
   "outputs": [],
   "source": [
    "df2 = df[df['PARTNERS'].apply(lambda partners: any([(p[-1] != 'nonpoly') and (p[-1] != 'polypeptide(L)')\n",
    "                                              for p in partners]))]"
   ]
  },
  {
   "cell_type": "code",
   "execution_count": 132,
   "id": "66bfdc3d-ce1a-460b-afef-04571e29c737",
   "metadata": {},
   "outputs": [
    {
     "data": {
      "text/plain": [
       "(0, 15)"
      ]
     },
     "execution_count": 132,
     "metadata": {},
     "output_type": "execute_result"
    }
   ],
   "source": [
    "df2.shape"
   ]
  },
  {
   "cell_type": "markdown",
   "id": "06c9060b-282c-44c1-a52e-fc448f047c59",
   "metadata": {},
   "source": [
    "Remove examples where DNA/RNA are the main partner"
   ]
  },
  {
   "cell_type": "code",
   "execution_count": 133,
   "id": "61f50b99-2caf-4cb7-b6ab-c09f5e473324",
   "metadata": {},
   "outputs": [
    {
     "data": {
      "text/plain": [
       "(283202, 15)"
      ]
     },
     "execution_count": 133,
     "metadata": {},
     "output_type": "execute_result"
    }
   ],
   "source": [
    "df.shape"
   ]
  },
  {
   "cell_type": "code",
   "execution_count": 134,
   "id": "a3ff8f9d-e66b-4e50-95f0-8a9284129ffb",
   "metadata": {},
   "outputs": [],
   "source": [
    "df_ = df[df['PARTNERS'].apply(lambda partners: (partners[0][-1]=='polypeptide(L)') or (partners[0][-1]=='nonpoly'))]"
   ]
  },
  {
   "cell_type": "code",
   "execution_count": 135,
   "id": "29e86132-0cdf-46e4-8331-bf265d2ff463",
   "metadata": {},
   "outputs": [
    {
     "data": {
      "text/plain": [
       "(283202, 15)"
      ]
     },
     "execution_count": 135,
     "metadata": {},
     "output_type": "execute_result"
    }
   ],
   "source": [
    "df_.shape"
   ]
  },
  {
   "cell_type": "code",
   "execution_count": 136,
   "id": "d53b3302-0c6c-4584-bb1b-1f4f713506c0",
   "metadata": {},
   "outputs": [],
   "source": [
    "df = df_"
   ]
  },
  {
   "cell_type": "code",
   "execution_count": 137,
   "id": "23f6c5b4-d0b0-40c1-97e9-1f1729199c67",
   "metadata": {},
   "outputs": [],
   "source": [
    "df.to_csv('sm_compl_all_goodmsa_filt_20230211.csv',index=None)"
   ]
  },
  {
   "cell_type": "markdown",
   "id": "8e3caf15-bd5e-4952-9a27-b6a1bf8287aa",
   "metadata": {},
   "source": [
    "## Truncate partner lists\n",
    "Some partner lists are very long (hundreds of interacting chains/ligands). This will definitely not fit into the eventual crop and wastes compute. Let's truncate partner lists so they contain only the most interacting / closest ligands & protein chains"
   ]
  },
  {
   "cell_type": "code",
   "execution_count": 138,
   "id": "280de551-2490-43c3-add9-87a49e6d85c8",
   "metadata": {},
   "outputs": [],
   "source": [
    "df = pd.read_csv('sm_compl_all_goodmsa_filt_20230211.csv')"
   ]
  },
  {
   "cell_type": "code",
   "execution_count": 139,
   "id": "47e44e7f-ef1b-49a4-bd11-11bc85453c08",
   "metadata": {},
   "outputs": [],
   "source": [
    "for col in ['LIGAND','LIGXF','COVALENT','PARTNERS']:\n",
    "    if col in df:\n",
    "        df[col] = df[col].apply(lambda x: eval(x))"
   ]
  },
  {
   "cell_type": "code",
   "execution_count": 140,
   "id": "4a0661c4-f799-4b39-89b0-09ef4726e247",
   "metadata": {},
   "outputs": [],
   "source": [
    "df['NUMLIGPARTNERS'] = df['PARTNERS'].apply(lambda x: len([p for p in x if p[-1]=='nonpoly']))"
   ]
  },
  {
   "cell_type": "code",
   "execution_count": 141,
   "id": "e8925252-fe46-4395-851c-a71575aaf551",
   "metadata": {},
   "outputs": [],
   "source": [
    "df['NUMPROTPARTNERS'] = df['PARTNERS'].apply(lambda x: len([p for p in x if p[-1]=='polypeptide(L)']))"
   ]
  },
  {
   "cell_type": "code",
   "execution_count": 142,
   "id": "c9fb9707-deb9-43ae-b1bd-88395432f869",
   "metadata": {},
   "outputs": [
    {
     "data": {
      "text/plain": [
       "(283202, 17)"
      ]
     },
     "execution_count": 142,
     "metadata": {},
     "output_type": "execute_result"
    }
   ],
   "source": [
    "df.shape"
   ]
  },
  {
   "cell_type": "code",
   "execution_count": 143,
   "id": "b2f40444-6015-45da-8e02-e454bc8b9c13",
   "metadata": {},
   "outputs": [
    {
     "data": {
      "text/plain": [
       "(271543, 17)"
      ]
     },
     "execution_count": 143,
     "metadata": {},
     "output_type": "execute_result"
    }
   ],
   "source": [
    "df[df['NUMLIGPARTNERS']<20].shape"
   ]
  },
  {
   "cell_type": "code",
   "execution_count": 144,
   "id": "30195042-8da6-4e9b-925a-1a9c4f740750",
   "metadata": {},
   "outputs": [
    {
     "data": {
      "text/plain": [
       "(281098, 17)"
      ]
     },
     "execution_count": 144,
     "metadata": {},
     "output_type": "execute_result"
    }
   ],
   "source": [
    "df[df['NUMPROTPARTNERS']<10].shape"
   ]
  },
  {
   "cell_type": "markdown",
   "id": "1e1a9cba-027b-4fed-a6cc-1813a387163b",
   "metadata": {},
   "source": [
    "After some manual inspection I found a bunch of cases where the partners list is long because it contains many instances of 'DOD', which is deuterated water. These should simply be removed."
   ]
  },
  {
   "cell_type": "code",
   "execution_count": 145,
   "id": "89646aed-9e8e-48b9-b1a2-d7d86a097b7a",
   "metadata": {},
   "outputs": [],
   "source": [
    "df['PARTNERS'] = df['PARTNERS'].apply(lambda x: [p for p in x if not (p[-1]=='nonpoly' and p[0][0][2]=='DOD')])\n",
    "df['NUMLIGPARTNERS'] = df['PARTNERS'].apply(lambda x: len([p for p in x if p[-1]=='nonpoly']))\n",
    "df['NUMPROTPARTNERS'] = df['PARTNERS'].apply(lambda x: len([p for p in x if p[-1]=='polypeptide(L)']))"
   ]
  },
  {
   "cell_type": "markdown",
   "id": "50bf95e4-f0bc-4855-be87-70c1da1a9c9a",
   "metadata": {},
   "source": [
    "Now let's truncate partner lists so they contain a maximum of 20 ligands and 10 proteins"
   ]
  },
  {
   "cell_type": "code",
   "execution_count": 146,
   "id": "21ed623f-e9eb-4cd9-9513-1dc34da2e57e",
   "metadata": {},
   "outputs": [
    {
     "data": {
      "text/plain": [
       "(0, 17)"
      ]
     },
     "execution_count": 146,
     "metadata": {},
     "output_type": "execute_result"
    }
   ],
   "source": [
    "df[df['NUMLIGPARTNERS']>20].shape"
   ]
  },
  {
   "cell_type": "code",
   "execution_count": 147,
   "id": "21cebd17-45d0-4274-9b52-2675622b3fc7",
   "metadata": {},
   "outputs": [
    {
     "data": {
      "text/plain": [
       "(0, 17)"
      ]
     },
     "execution_count": 147,
     "metadata": {},
     "output_type": "execute_result"
    }
   ],
   "source": [
    "df[df['NUMPROTPARTNERS']>10].shape"
   ]
  },
  {
   "cell_type": "code",
   "execution_count": 148,
   "id": "9931a9cc-6349-402c-9310-9725e9677c38",
   "metadata": {},
   "outputs": [],
   "source": [
    "def func(partners):\n",
    "    newpartners = []\n",
    "    prot_ct = 0\n",
    "    prot_num = 10\n",
    "    lig_ct = 0\n",
    "    lig_num = 20\n",
    "    for p in partners:\n",
    "        if p[-1]=='polypeptide(L)' and prot_ct < prot_num: \n",
    "            newpartners.append(p)\n",
    "            prot_ct+=1\n",
    "        elif p[-1]=='nonpoly' and lig_ct < lig_num: \n",
    "            newpartners.append(p)\n",
    "            lig_ct+=1\n",
    "    return newpartners"
   ]
  },
  {
   "cell_type": "code",
   "execution_count": 149,
   "id": "3ca2581f-a75c-4dd3-9946-a2d6192e2728",
   "metadata": {},
   "outputs": [],
   "source": [
    "df['PARTNERS'] = df['PARTNERS'].apply(func)"
   ]
  },
  {
   "cell_type": "code",
   "execution_count": 150,
   "id": "45def5fa-a70a-4152-b533-46471efa4c25",
   "metadata": {},
   "outputs": [],
   "source": [
    "df['NUMLIGPARTNERS'] = df['PARTNERS'].apply(lambda x: len([p for p in x if p[-1]=='nonpoly']))\n",
    "df['NUMPROTPARTNERS'] = df['PARTNERS'].apply(lambda x: len([p for p in x if p[-1]=='polypeptide(L)']))"
   ]
  },
  {
   "cell_type": "code",
   "execution_count": 151,
   "id": "5aa9b9a2-fce9-4140-9eaa-bf0437866582",
   "metadata": {},
   "outputs": [
    {
     "data": {
      "text/plain": [
       "(0, 17)"
      ]
     },
     "execution_count": 151,
     "metadata": {},
     "output_type": "execute_result"
    }
   ],
   "source": [
    "df[df['NUMLIGPARTNERS']>20].shape"
   ]
  },
  {
   "cell_type": "code",
   "execution_count": 152,
   "id": "3cafcd5d-2947-4557-b071-ba614b0008ce",
   "metadata": {},
   "outputs": [
    {
     "data": {
      "text/plain": [
       "(0, 17)"
      ]
     },
     "execution_count": 152,
     "metadata": {},
     "output_type": "execute_result"
    }
   ],
   "source": [
    "df[df['NUMPROTPARTNERS']>10].shape"
   ]
  },
  {
   "cell_type": "code",
   "execution_count": 155,
   "id": "d3985fce-03dc-4a2f-9480-963ac9c499f6",
   "metadata": {},
   "outputs": [],
   "source": [
    "df = df.drop(['NUMLIGPARTNERS','NUMPROTPARTNERS'],axis=1)"
   ]
  },
  {
   "cell_type": "markdown",
   "id": "6d263fef-3dbc-46ec-a55d-81dc4c2479d0",
   "metadata": {},
   "source": [
    "### Remove ligands missing some transforms"
   ]
  },
  {
   "cell_type": "markdown",
   "id": "ce6822d6-7aaf-4784-95c0-3a2c998ee73e",
   "metadata": {},
   "source": [
    "Initial attempts to run the block below showed that a small number of ligands have more residues in their `LIGAND` entry than transforms in `LIGXF`, because some of the residues have 0 atom occupancy. On manual inspection these examples are missing atoms even from the ligand residues that exist, so let's filter them out completely."
   ]
  },
  {
   "cell_type": "code",
   "execution_count": 157,
   "id": "72621cc9-e4dc-4b21-9985-c4c810ae9401",
   "metadata": {},
   "outputs": [],
   "source": [
    "def func(row):\n",
    "    ligand = row['LIGAND']\n",
    "    xf_chs = [xf[0] for xf in row['LIGXF']]\n",
    "    return any([(res[0] not in xf_chs) for res in ligand])"
   ]
  },
  {
   "cell_type": "code",
   "execution_count": 158,
   "id": "0c9451da-4b4e-425a-aa83-2a3773c4997e",
   "metadata": {},
   "outputs": [],
   "source": [
    "df = df[~df.apply(func, axis=1)]"
   ]
  },
  {
   "cell_type": "code",
   "execution_count": 159,
   "id": "d1354706-a2da-411d-9968-001a65913338",
   "metadata": {},
   "outputs": [
    {
     "data": {
      "text/plain": [
       "(283202, 15)"
      ]
     },
     "execution_count": 159,
     "metadata": {},
     "output_type": "execute_result"
    }
   ],
   "source": [
    "df.shape"
   ]
  },
  {
   "cell_type": "markdown",
   "id": "29212826-d6a8-4cd2-9a6d-e8769910562f",
   "metadata": {},
   "source": [
    "There are also some partner ligands that don't have transforms for all the ligand residues.\n",
    "There are only a few cases, and they all look bad upon manual inspection so we are removing them"
   ]
  },
  {
   "cell_type": "code",
   "execution_count": 160,
   "id": "cfc3c5fc-bb3e-456d-a8c3-531b38247dac",
   "metadata": {},
   "outputs": [],
   "source": [
    "npart = df['PARTNERS'].apply(lambda x: len(x))"
   ]
  },
  {
   "cell_type": "code",
   "execution_count": 161,
   "id": "5f7ab0a9-cec3-4b2a-afa7-b37dc0e86cb7",
   "metadata": {},
   "outputs": [],
   "source": [
    "def func(partners): \n",
    "    # remove partners that don't have transforms for all ligand residues\n",
    "    newpartners = []\n",
    "    for p in partners:\n",
    "        if p[-1]=='nonpoly': \n",
    "            chxfs = [xf[0] for xf in p[1]]\n",
    "            if any([res[0] not in chxfs for res in p[0]]):\n",
    "                continue\n",
    "        newpartners.append(p)\n",
    "    return newpartners"
   ]
  },
  {
   "cell_type": "code",
   "execution_count": 162,
   "id": "198de7af-e3f1-4d65-bb1a-d4e19ac71f6b",
   "metadata": {},
   "outputs": [],
   "source": [
    "df['PARTNERS'] = df['PARTNERS'].apply(func)"
   ]
  },
  {
   "cell_type": "code",
   "execution_count": 163,
   "id": "01769fec-3fd5-4313-acf1-897f7dde4900",
   "metadata": {},
   "outputs": [],
   "source": [
    "npart2 = df['PARTNERS'].apply(lambda x: len(x))"
   ]
  },
  {
   "cell_type": "code",
   "execution_count": 164,
   "id": "2ab984ba-35bf-4a34-8f8a-b3df0806923a",
   "metadata": {
    "tags": []
   },
   "outputs": [
    {
     "data": {
      "text/html": [
       "<div>\n",
       "<style scoped>\n",
       "    .dataframe tbody tr th:only-of-type {\n",
       "        vertical-align: middle;\n",
       "    }\n",
       "\n",
       "    .dataframe tbody tr th {\n",
       "        vertical-align: top;\n",
       "    }\n",
       "\n",
       "    .dataframe thead th {\n",
       "        text-align: right;\n",
       "    }\n",
       "</style>\n",
       "<table border=\"1\" class=\"dataframe\">\n",
       "  <thead>\n",
       "    <tr style=\"text-align: right;\">\n",
       "      <th></th>\n",
       "      <th>CHAINID</th>\n",
       "      <th>DEPOSITION</th>\n",
       "      <th>RESOLUTION</th>\n",
       "      <th>HASH</th>\n",
       "      <th>CLUSTER</th>\n",
       "      <th>SEQUENCE</th>\n",
       "      <th>LEN_EXIST</th>\n",
       "      <th>LIGAND</th>\n",
       "      <th>ASSEMBLY</th>\n",
       "      <th>COVALENT</th>\n",
       "      <th>LIGXF</th>\n",
       "      <th>PARTNERS</th>\n",
       "      <th>LIGATOMS</th>\n",
       "      <th>LIGATOMS_RESOLVED</th>\n",
       "      <th>SUBSET</th>\n",
       "    </tr>\n",
       "  </thead>\n",
       "  <tbody>\n",
       "  </tbody>\n",
       "</table>\n",
       "</div>"
      ],
      "text/plain": [
       "Empty DataFrame\n",
       "Columns: [CHAINID, DEPOSITION, RESOLUTION, HASH, CLUSTER, SEQUENCE, LEN_EXIST, LIGAND, ASSEMBLY, COVALENT, LIGXF, PARTNERS, LIGATOMS, LIGATOMS_RESOLVED, SUBSET]\n",
       "Index: []"
      ]
     },
     "execution_count": 164,
     "metadata": {},
     "output_type": "execute_result"
    }
   ],
   "source": [
    "df[npart!=npart2]"
   ]
  },
  {
   "cell_type": "code",
   "execution_count": 165,
   "id": "2fd3bd82-a978-496b-9733-44863ac43be1",
   "metadata": {},
   "outputs": [],
   "source": [
    "df.to_csv('sm_compl_all_goodmsa_partnersfilt_20230211.csv',index=None)"
   ]
  },
  {
   "cell_type": "markdown",
   "id": "e56304a5-eeac-439f-8b4c-b71b55f2b840",
   "metadata": {},
   "source": [
    "## Filter on contacts, remove nucleic acid examples"
   ]
  },
  {
   "cell_type": "code",
   "execution_count": 29,
   "id": "ae7bedfb-1b1e-46ad-a791-6d42f140fa76",
   "metadata": {},
   "outputs": [],
   "source": [
    "df = pd.read_csv('sm_compl_all_goodmsa_partnersfilt_20230211.csv')"
   ]
  },
  {
   "cell_type": "code",
   "execution_count": 472,
   "id": "3e50a378-c112-4e31-bcd2-154c7359aedb",
   "metadata": {
    "tags": []
   },
   "outputs": [],
   "source": [
    "for col in ['LIGAND','LIGXF','COVALENT','PARTNERS']:\n",
    "    if col in df:\n",
    "        df[col] = df[col].apply(lambda x: eval(x))"
   ]
  },
  {
   "cell_type": "markdown",
   "id": "48b7ed82-c410-460d-90c9-eef44477559e",
   "metadata": {},
   "source": [
    "Remove ligands that don't make many contacts with proteins. Tweaked the filter below a few times after manual inspection to arrive at a conservative criterion for ligands \"floating in space\""
   ]
  },
  {
   "cell_type": "code",
   "execution_count": 473,
   "id": "e5a96177-600d-4c36-be4d-e5818a4d282b",
   "metadata": {},
   "outputs": [],
   "source": [
    "# # this kept all metals, even if they made few contacts\n",
    "# # decided to go with the more stringent filter below after some manual inspection\n",
    "# idx = df.apply(lambda row: \n",
    "#                    (row['LIGAND'][0][2] in metals) or \\\n",
    "#                    (sum([p[2] for p in row['PARTNERS']])>10) or \\\n",
    "#                    len(row['COVALENT'])>0,\n",
    "#                    axis=1)\n",
    "# # see what would be filtered out\n",
    "# df2 = df[~idx]"
   ]
  },
  {
   "cell_type": "code",
   "execution_count": 474,
   "id": "5781be07-0f2d-4a14-8ddc-a82d1ab02d53",
   "metadata": {},
   "outputs": [
    {
     "data": {
      "text/plain": [
       "(11851, 15)"
      ]
     },
     "execution_count": 474,
     "metadata": {},
     "output_type": "execute_result"
    }
   ],
   "source": [
    "df2.shape"
   ]
  },
  {
   "cell_type": "code",
   "execution_count": 166,
   "id": "0922205c-1a6b-4ef6-8ca3-f918177fceab",
   "metadata": {},
   "outputs": [],
   "source": [
    "idx = df.apply(lambda row: \n",
    "                   (sum([p[2] for p in row['PARTNERS']])>10) or \\\n",
    "                   len(row['COVALENT'])>0,\n",
    "                   axis=1)"
   ]
  },
  {
   "cell_type": "code",
   "execution_count": 167,
   "id": "46146b6e-5a40-4d08-a018-f2257e7a3144",
   "metadata": {},
   "outputs": [],
   "source": [
    "# see what would be filtered out\n",
    "df2 = df[~idx]"
   ]
  },
  {
   "cell_type": "code",
   "execution_count": 168,
   "id": "bc18d119-a9c6-4846-bd7a-0e22be10cd3c",
   "metadata": {},
   "outputs": [
    {
     "data": {
      "text/plain": [
       "(0, 15)"
      ]
     },
     "execution_count": 168,
     "metadata": {},
     "output_type": "execute_result"
    }
   ],
   "source": [
    "df2.shape"
   ]
  },
  {
   "cell_type": "code",
   "execution_count": 478,
   "id": "051764aa-a371-4ffd-8f32-53836d8cd120",
   "metadata": {},
   "outputs": [],
   "source": [
    "# apply the filter\n",
    "df = df[idx]"
   ]
  },
  {
   "cell_type": "code",
   "execution_count": 169,
   "id": "8da1dd58-6f2b-463d-a727-dcf2f07e5f5d",
   "metadata": {},
   "outputs": [
    {
     "data": {
      "text/plain": [
       "(283202, 15)"
      ]
     },
     "execution_count": 169,
     "metadata": {},
     "output_type": "execute_result"
    }
   ],
   "source": [
    "df.shape"
   ]
  },
  {
   "cell_type": "markdown",
   "id": "81aec78b-37b0-4fae-83c6-2756329530ec",
   "metadata": {},
   "source": [
    "Remove examples with DNA/RNA partners. Originally I planned to just ignore these partners but they make up pretty large portions of certain assemblies. We should wait until we can featurize these properly, and then add them back in."
   ]
  },
  {
   "cell_type": "markdown",
   "id": "4b40b895-43da-4a04-b2a3-689e0e2250cb",
   "metadata": {},
   "source": [
    "Since I already removed nucleic acid partners, I need to use a previous list to identify these examples, and then remove them from the current list"
   ]
  },
  {
   "cell_type": "code",
   "execution_count": 170,
   "id": "e96b1fad-18be-494a-81f4-edf2eb055dfa",
   "metadata": {},
   "outputs": [],
   "source": [
    "df3 = pd.read_csv('sm_compl_all_goodmsa_20230211.csv')"
   ]
  },
  {
   "cell_type": "code",
   "execution_count": 171,
   "id": "7fa7e4cf-bb43-433d-b0b3-be9c0c20fe8d",
   "metadata": {},
   "outputs": [
    {
     "data": {
      "text/plain": [
       "(283202, 15)"
      ]
     },
     "execution_count": 171,
     "metadata": {},
     "output_type": "execute_result"
    }
   ],
   "source": [
    "df3.shape"
   ]
  },
  {
   "cell_type": "code",
   "execution_count": 172,
   "id": "c2861b99-68b5-456f-bc14-86baa2b3a71e",
   "metadata": {},
   "outputs": [],
   "source": [
    "df3['PARTNERS'] = df3['PARTNERS'].apply(lambda x: eval(x))"
   ]
  },
  {
   "cell_type": "code",
   "execution_count": 173,
   "id": "22844c00-0100-4dd1-90bf-5dbaa0d2fddd",
   "metadata": {},
   "outputs": [],
   "source": [
    "idx = df3['PARTNERS'].apply(\n",
    "    lambda partners: any([p[-1]!='nonpoly' and p[-1]!='polypeptide(L)' for p in partners]))"
   ]
  },
  {
   "cell_type": "code",
   "execution_count": 174,
   "id": "bf7482fb-38a7-4207-8b37-3082f6d22c7b",
   "metadata": {},
   "outputs": [
    {
     "data": {
      "text/plain": [
       "0"
      ]
     },
     "execution_count": 174,
     "metadata": {},
     "output_type": "execute_result"
    }
   ],
   "source": [
    "idx.sum()"
   ]
  },
  {
   "cell_type": "code",
   "execution_count": 175,
   "id": "7d8f7812-6639-428f-a821-6973da66adf3",
   "metadata": {},
   "outputs": [],
   "source": [
    "df['LIGAND'] = df['LIGAND'].astype(str)"
   ]
  },
  {
   "cell_type": "code",
   "execution_count": 176,
   "id": "4c049841-ae6a-436f-95c1-cc72e42cc706",
   "metadata": {},
   "outputs": [
    {
     "data": {
      "text/plain": [
       "(283202, 15)"
      ]
     },
     "execution_count": 176,
     "metadata": {},
     "output_type": "execute_result"
    }
   ],
   "source": [
    "df.drop_duplicates(['CHAINID','LIGAND','ASSEMBLY']).shape"
   ]
  },
  {
   "cell_type": "code",
   "execution_count": 177,
   "id": "b8e0edc6-b875-4959-9296-0c0b9909cd49",
   "metadata": {},
   "outputs": [],
   "source": [
    "to_remove = df3[idx]"
   ]
  },
  {
   "cell_type": "code",
   "execution_count": 178,
   "id": "b0f1f699-5a4a-4f58-bbba-15826c1fb25a",
   "metadata": {},
   "outputs": [],
   "source": [
    "to_remove['LIGAND'] = to_remove['LIGAND'].astype(str)"
   ]
  },
  {
   "cell_type": "code",
   "execution_count": 179,
   "id": "bd0e729b-fa49-43f2-b585-3badf91ece42",
   "metadata": {},
   "outputs": [],
   "source": [
    "to_remove['to_remove']=True"
   ]
  },
  {
   "cell_type": "code",
   "execution_count": 180,
   "id": "800f18b1-cb93-4959-bb65-981153d41f93",
   "metadata": {},
   "outputs": [],
   "source": [
    "df_ = df.merge(to_remove[['CHAINID','LIGAND','ASSEMBLY','to_remove']], on=['CHAINID','LIGAND','ASSEMBLY'], how='left')"
   ]
  },
  {
   "cell_type": "code",
   "execution_count": 181,
   "id": "6657511c-7356-4531-a0dd-f4386ea8e13c",
   "metadata": {},
   "outputs": [
    {
     "data": {
      "text/plain": [
       "(283202, 16)"
      ]
     },
     "execution_count": 181,
     "metadata": {},
     "output_type": "execute_result"
    }
   ],
   "source": [
    "df_.shape"
   ]
  },
  {
   "cell_type": "code",
   "execution_count": 182,
   "id": "3bd47cc0-20dd-448e-858a-3d1f43fab716",
   "metadata": {},
   "outputs": [
    {
     "data": {
      "text/plain": [
       "0"
      ]
     },
     "execution_count": 182,
     "metadata": {},
     "output_type": "execute_result"
    }
   ],
   "source": [
    "(df_['to_remove']==True).sum()"
   ]
  },
  {
   "cell_type": "code",
   "execution_count": 183,
   "id": "760dc7f3-6627-4b09-8124-1cbb3268c938",
   "metadata": {},
   "outputs": [],
   "source": [
    "df = df_[df_['to_remove']!=True]"
   ]
  },
  {
   "cell_type": "code",
   "execution_count": 184,
   "id": "bae1ee9b-f4af-431c-bea8-825ba7b21076",
   "metadata": {},
   "outputs": [
    {
     "data": {
      "text/plain": [
       "(283202, 16)"
      ]
     },
     "execution_count": 184,
     "metadata": {},
     "output_type": "execute_result"
    }
   ],
   "source": [
    "df.shape"
   ]
  },
  {
   "cell_type": "code",
   "execution_count": 185,
   "id": "a2776fd3-371b-4cf7-b576-a7900d3d2c10",
   "metadata": {},
   "outputs": [],
   "source": [
    "df.to_csv('sm_compl_all_finalfilt_20230211.csv',index=None)"
   ]
  },
  {
   "cell_type": "markdown",
   "id": "1ab664b5-bce9-4133-ba6c-c6f6f6ea3ac5",
   "metadata": {},
   "source": [
    "### Remove partners that aren't query ligands\n",
    "I've filtered out some non-contacting ligands above. Remove these from partner lists as well, so we're never training on anything that fails our filters for query ligands.\n",
    "\n",
    "NOTE: Chose not to do this for now, as this would remove many ligands that seem good."
   ]
  },
  {
   "cell_type": "code",
   "execution_count": 55,
   "id": "9119d78d-62d1-4183-ae9a-caf649c722fc",
   "metadata": {},
   "outputs": [],
   "source": [
    "df = pd.read_csv('sm_compl_all_finalfilt_20230211.csv')"
   ]
  },
  {
   "cell_type": "code",
   "execution_count": 6,
   "id": "f4475076-f9b6-44e0-a261-87c7e2b385ea",
   "metadata": {},
   "outputs": [],
   "source": [
    "df['PARTNERS'] = df['PARTNERS'].apply(lambda x: eval(x))"
   ]
  },
  {
   "cell_type": "code",
   "execution_count": 7,
   "id": "7170d4c1-ffc6-44a4-ba89-c96530b0566c",
   "metadata": {},
   "outputs": [
    {
     "data": {
      "text/plain": [
       "(283205, 16)"
      ]
     },
     "execution_count": 7,
     "metadata": {},
     "output_type": "execute_result"
    }
   ],
   "source": [
    "df.shape"
   ]
  },
  {
   "cell_type": "code",
   "execution_count": 8,
   "id": "ecc42a15-c6aa-4407-ab8f-1a73c0d9b6c9",
   "metadata": {},
   "outputs": [],
   "source": [
    "pdbids = df['PDBID'].drop_duplicates().values"
   ]
  },
  {
   "cell_type": "code",
   "execution_count": 9,
   "id": "cc7badb4-6cb6-4be7-960d-233d9632d2dd",
   "metadata": {},
   "outputs": [
    {
     "data": {
      "text/plain": [
       "64239"
      ]
     },
     "execution_count": 9,
     "metadata": {},
     "output_type": "execute_result"
    }
   ],
   "source": [
    "len(pdbids)"
   ]
  },
  {
   "cell_type": "markdown",
   "id": "84816c7e-e6ac-4e31-9d51-b9f6711c2f60",
   "metadata": {},
   "source": [
    "This takes about 20 minutes"
   ]
  },
  {
   "cell_type": "code",
   "execution_count": 10,
   "id": "4e1be99c-0929-4d31-9d14-4c8ea3f0637a",
   "metadata": {
    "collapsed": true,
    "jupyter": {
     "outputs_hidden": true
    },
    "tags": []
   },
   "outputs": [
    {
     "name": "stdout",
     "output_type": "stream",
     "text": [
      "0 0.08199191093444824\n",
      "1000 14.8564133644104\n",
      "2000 29.866195917129517\n",
      "3000 44.136276960372925\n",
      "4000 58.463584899902344\n",
      "5000 72.63599705696106\n",
      "6000 86.80351328849792\n",
      "7000 101.36547660827637\n",
      "8000 115.69562816619873\n",
      "9000 129.8228840827942\n",
      "10000 144.0588080883026\n",
      "11000 158.40963530540466\n",
      "12000 172.46609711647034\n",
      "13000 186.56121516227722\n",
      "14000 200.58768224716187\n",
      "15000 215.1282877922058\n",
      "16000 230.29100489616394\n",
      "17000 244.8010184764862\n",
      "18000 259.4128499031067\n",
      "19000 273.6325685977936\n",
      "20000 287.8356671333313\n",
      "21000 302.297251701355\n",
      "22000 316.42806029319763\n",
      "23000 330.7955467700958\n",
      "24000 345.0605618953705\n",
      "25000 359.36014008522034\n",
      "26000 373.5586075782776\n",
      "27000 388.1970980167389\n",
      "28000 402.48542523384094\n",
      "29000 416.83008551597595\n",
      "30000 431.002414226532\n",
      "31000 445.42239356040955\n",
      "32000 460.90906858444214\n",
      "33000 475.42472434043884\n",
      "34000 489.91762113571167\n",
      "35000 503.9820399284363\n",
      "36000 518.3493394851685\n",
      "37000 532.6180474758148\n",
      "38000 546.7932860851288\n",
      "39000 561.428995847702\n",
      "40000 575.6421086788177\n",
      "41000 589.7853600978851\n",
      "42000 604.0049166679382\n",
      "43000 618.3937571048737\n",
      "44000 632.5749464035034\n",
      "45000 646.7010838985443\n",
      "46000 660.8847002983093\n",
      "47000 675.278904914856\n",
      "48000 689.7806344032288\n",
      "49000 704.0463697910309\n",
      "50000 718.2119107246399\n",
      "51000 732.5290293693542\n",
      "52000 746.8551659584045\n",
      "53000 762.6521372795105\n",
      "54000 777.1315085887909\n",
      "55000 791.644989490509\n",
      "56000 806.1616840362549\n",
      "57000 820.623913526535\n",
      "58000 835.033789396286\n",
      "59000 849.1634542942047\n",
      "60000 863.4098529815674\n",
      "61000 877.9347319602966\n",
      "62000 892.2982838153839\n",
      "63000 906.4794840812683\n",
      "64000 920.755163192749\n"
     ]
    }
   ],
   "source": [
    "ct = 0\n",
    "num = 1000\n",
    "t0 = time.time()\n",
    "records = []\n",
    "for pdbid in pdbids:\n",
    "\n",
    "    tmp = df[df['PDBID']==pdbid]\n",
    "    ligands = set(tmp['LIGAND'].values)\n",
    "\n",
    "    for i,row in tmp.iterrows():\n",
    "        row['NEWPARTNERS'] = [p for p in row['PARTNERS'] if p[-1]=='polypeptide(L)' or str(p[0]) in ligands]\n",
    "        records.append(row)\n",
    "        \n",
    "    if ct % num == 0:\n",
    "        print(ct, time.time()-t0)\n",
    "    ct += 1"
   ]
  },
  {
   "cell_type": "code",
   "execution_count": 11,
   "id": "62085ec3-b541-44f8-88a2-3dd3f16d4103",
   "metadata": {},
   "outputs": [],
   "source": [
    "df2 = pd.DataFrame.from_records(records)"
   ]
  },
  {
   "cell_type": "code",
   "execution_count": 12,
   "id": "8c9143c2-c0e6-4347-9715-af699e21521a",
   "metadata": {},
   "outputs": [],
   "source": [
    "idx = df2['PARTNERS'].apply(lambda x: len(x)) != df2['NEWPARTNERS'].apply(lambda x: len(x))"
   ]
  },
  {
   "cell_type": "code",
   "execution_count": 13,
   "id": "f4ecdb8c-bc1a-4979-b74f-000a87fe95cc",
   "metadata": {},
   "outputs": [
    {
     "data": {
      "text/plain": [
       "(90856, 17)"
      ]
     },
     "execution_count": 13,
     "metadata": {},
     "output_type": "execute_result"
    }
   ],
   "source": [
    "df2[idx].shape"
   ]
  },
  {
   "cell_type": "code",
   "execution_count": 16,
   "id": "1cc8cbfd-9da1-40c6-8c67-a98b5053a6a1",
   "metadata": {},
   "outputs": [],
   "source": [
    "df3 = df2[idx]"
   ]
  },
  {
   "cell_type": "code",
   "execution_count": 14,
   "id": "4889ec1c-b7a0-4605-a8b3-4595ab57b740",
   "metadata": {},
   "outputs": [
    {
     "data": {
      "text/plain": [
       "(283205, 16)"
      ]
     },
     "execution_count": 14,
     "metadata": {},
     "output_type": "execute_result"
    }
   ],
   "source": [
    "df.shape"
   ]
  },
  {
   "cell_type": "markdown",
   "id": "8d192fff-9801-40cc-812d-f77549238f57",
   "metadata": {},
   "source": [
    "Checked some examples. Certain things are getting removed by PDBBind/BioLip filters that seem like good ligands, such as Na ions.\n",
    "\n",
    "Let's not use this filter for now."
   ]
  },
  {
   "cell_type": "code",
   "execution_count": 234,
   "id": "8b16e1a4-4731-4d77-8220-162fb53a8e86",
   "metadata": {},
   "outputs": [],
   "source": [
    "# df.to_csv('sm_compl_all_finalfilt_20230127.csv',index=None)"
   ]
  },
  {
   "cell_type": "markdown",
   "id": "4d28a5eb-c9d8-4c57-ae9c-ca530a71cc79",
   "metadata": {},
   "source": [
    "## Label data subsets"
   ]
  },
  {
   "cell_type": "code",
   "execution_count": 186,
   "id": "f14a1fc4-18be-49d4-a0e5-2b183e629724",
   "metadata": {},
   "outputs": [],
   "source": [
    "df = pd.read_csv('sm_compl_all_finalfilt_20230211.csv')"
   ]
  },
  {
   "cell_type": "code",
   "execution_count": 187,
   "id": "c88cf497-fdbd-4875-92ed-c686138a0339",
   "metadata": {
    "tags": []
   },
   "outputs": [],
   "source": [
    "for col in ['LIGAND','LIGXF','COVALENT','PARTNERS']:\n",
    "    if col in df:\n",
    "        df[col] = df[col].apply(lambda x: eval(x))"
   ]
  },
  {
   "cell_type": "code",
   "execution_count": 188,
   "id": "bc57526c-d4bc-4591-9672-8ea3d738fc7c",
   "metadata": {},
   "outputs": [
    {
     "data": {
      "text/plain": [
       "(283202, 16)"
      ]
     },
     "execution_count": 188,
     "metadata": {},
     "output_type": "execute_result"
    }
   ],
   "source": [
    "df.shape"
   ]
  },
  {
   "cell_type": "markdown",
   "id": "44ccb00d-7252-404f-9df7-125badbaa9c8",
   "metadata": {},
   "source": [
    "For some reason there are entries with duplicated covalent bonds. deduplicate these."
   ]
  },
  {
   "cell_type": "code",
   "execution_count": 189,
   "id": "ac846ad1-737c-4720-a408-209b2f57cdbe",
   "metadata": {},
   "outputs": [],
   "source": [
    "tmp = df[df['COVALENT'].apply(lambda x: len(x)!=len(set(x)))]"
   ]
  },
  {
   "cell_type": "code",
   "execution_count": 190,
   "id": "a2546eca-f9f7-41a6-af06-b9fab38bf3d0",
   "metadata": {},
   "outputs": [
    {
     "data": {
      "text/plain": [
       "(0, 16)"
      ]
     },
     "execution_count": 190,
     "metadata": {},
     "output_type": "execute_result"
    }
   ],
   "source": [
    "tmp.shape"
   ]
  },
  {
   "cell_type": "code",
   "execution_count": 191,
   "id": "6b608da2-0c63-4353-9994-7d110a18edb5",
   "metadata": {},
   "outputs": [],
   "source": [
    "def func(covalent):\n",
    "    new_covalent = []\n",
    "    for bond in covalent:\n",
    "        if bond not in new_covalent:\n",
    "            new_covalent.append(bond)\n",
    "    return new_covalent"
   ]
  },
  {
   "cell_type": "code",
   "execution_count": 192,
   "id": "7053611b-360b-4c58-869e-f150c95b0b56",
   "metadata": {},
   "outputs": [],
   "source": [
    "df['COVALENT'] = df['COVALENT'].apply(func)"
   ]
  },
  {
   "cell_type": "code",
   "execution_count": 193,
   "id": "33a40346-2035-49b8-bba8-2f00aefdbe4b",
   "metadata": {},
   "outputs": [],
   "source": [
    "tmp = df[df['COVALENT'].apply(lambda x: len(x)!=len(set(x)))]"
   ]
  },
  {
   "cell_type": "code",
   "execution_count": 194,
   "id": "f35a983c-ab45-48fd-8f76-fe5f2f05c989",
   "metadata": {},
   "outputs": [
    {
     "data": {
      "text/plain": [
       "(0, 16)"
      ]
     },
     "execution_count": 194,
     "metadata": {},
     "output_type": "execute_result"
    }
   ],
   "source": [
    "tmp.shape"
   ]
  },
  {
   "cell_type": "code",
   "execution_count": 195,
   "id": "9a30be96-3547-4f3b-9e7b-83215fd791b8",
   "metadata": {
    "collapsed": true,
    "jupyter": {
     "outputs_hidden": true
    },
    "tags": []
   },
   "outputs": [
    {
     "ename": "KeyError",
     "evalue": "\"['PDBID'] not found in axis\"",
     "output_type": "error",
     "traceback": [
      "\u001b[0;31m---------------------------------------------------------------------------\u001b[0m",
      "\u001b[0;31mKeyError\u001b[0m                                  Traceback (most recent call last)",
      "\u001b[0;32m/scratch/jue/29531735/ipykernel_896644/2364648495.py\u001b[0m in \u001b[0;36m<module>\u001b[0;34m\u001b[0m\n\u001b[0;32m----> 1\u001b[0;31m \u001b[0mdf\u001b[0m \u001b[0;34m=\u001b[0m \u001b[0mdf\u001b[0m\u001b[0;34m.\u001b[0m\u001b[0mdrop\u001b[0m\u001b[0;34m(\u001b[0m\u001b[0;34m[\u001b[0m\u001b[0;34m'PDBID'\u001b[0m\u001b[0;34m,\u001b[0m\u001b[0;34m'to_remove'\u001b[0m\u001b[0;34m]\u001b[0m\u001b[0;34m,\u001b[0m\u001b[0maxis\u001b[0m\u001b[0;34m=\u001b[0m\u001b[0;36m1\u001b[0m\u001b[0;34m)\u001b[0m\u001b[0;34m\u001b[0m\u001b[0;34m\u001b[0m\u001b[0m\n\u001b[0m",
      "\u001b[0;32m/software/conda/envs/SE3-nvidia/lib/python3.8/site-packages/pandas/util/_decorators.py\u001b[0m in \u001b[0;36mwrapper\u001b[0;34m(*args, **kwargs)\u001b[0m\n\u001b[1;32m    329\u001b[0m                     \u001b[0mstacklevel\u001b[0m\u001b[0;34m=\u001b[0m\u001b[0mfind_stack_level\u001b[0m\u001b[0;34m(\u001b[0m\u001b[0;34m)\u001b[0m\u001b[0;34m,\u001b[0m\u001b[0;34m\u001b[0m\u001b[0;34m\u001b[0m\u001b[0m\n\u001b[1;32m    330\u001b[0m                 )\n\u001b[0;32m--> 331\u001b[0;31m             \u001b[0;32mreturn\u001b[0m \u001b[0mfunc\u001b[0m\u001b[0;34m(\u001b[0m\u001b[0;34m*\u001b[0m\u001b[0margs\u001b[0m\u001b[0;34m,\u001b[0m \u001b[0;34m**\u001b[0m\u001b[0mkwargs\u001b[0m\u001b[0;34m)\u001b[0m\u001b[0;34m\u001b[0m\u001b[0;34m\u001b[0m\u001b[0m\n\u001b[0m\u001b[1;32m    332\u001b[0m \u001b[0;34m\u001b[0m\u001b[0m\n\u001b[1;32m    333\u001b[0m         \u001b[0;31m# error: \"Callable[[VarArg(Any), KwArg(Any)], Any]\" has no\u001b[0m\u001b[0;34m\u001b[0m\u001b[0;34m\u001b[0m\u001b[0;34m\u001b[0m\u001b[0m\n",
      "\u001b[0;32m/software/conda/envs/SE3-nvidia/lib/python3.8/site-packages/pandas/core/frame.py\u001b[0m in \u001b[0;36mdrop\u001b[0;34m(self, labels, axis, index, columns, level, inplace, errors)\u001b[0m\n\u001b[1;32m   5394\u001b[0m                 \u001b[0mweight\u001b[0m  \u001b[0;36m1.0\u001b[0m     \u001b[0;36m0.8\u001b[0m\u001b[0;34m\u001b[0m\u001b[0;34m\u001b[0m\u001b[0m\n\u001b[1;32m   5395\u001b[0m         \"\"\"\n\u001b[0;32m-> 5396\u001b[0;31m         return super().drop(\n\u001b[0m\u001b[1;32m   5397\u001b[0m             \u001b[0mlabels\u001b[0m\u001b[0;34m=\u001b[0m\u001b[0mlabels\u001b[0m\u001b[0;34m,\u001b[0m\u001b[0;34m\u001b[0m\u001b[0;34m\u001b[0m\u001b[0m\n\u001b[1;32m   5398\u001b[0m             \u001b[0maxis\u001b[0m\u001b[0;34m=\u001b[0m\u001b[0maxis\u001b[0m\u001b[0;34m,\u001b[0m\u001b[0;34m\u001b[0m\u001b[0;34m\u001b[0m\u001b[0m\n",
      "\u001b[0;32m/software/conda/envs/SE3-nvidia/lib/python3.8/site-packages/pandas/util/_decorators.py\u001b[0m in \u001b[0;36mwrapper\u001b[0;34m(*args, **kwargs)\u001b[0m\n\u001b[1;32m    329\u001b[0m                     \u001b[0mstacklevel\u001b[0m\u001b[0;34m=\u001b[0m\u001b[0mfind_stack_level\u001b[0m\u001b[0;34m(\u001b[0m\u001b[0;34m)\u001b[0m\u001b[0;34m,\u001b[0m\u001b[0;34m\u001b[0m\u001b[0;34m\u001b[0m\u001b[0m\n\u001b[1;32m    330\u001b[0m                 )\n\u001b[0;32m--> 331\u001b[0;31m             \u001b[0;32mreturn\u001b[0m \u001b[0mfunc\u001b[0m\u001b[0;34m(\u001b[0m\u001b[0;34m*\u001b[0m\u001b[0margs\u001b[0m\u001b[0;34m,\u001b[0m \u001b[0;34m**\u001b[0m\u001b[0mkwargs\u001b[0m\u001b[0;34m)\u001b[0m\u001b[0;34m\u001b[0m\u001b[0;34m\u001b[0m\u001b[0m\n\u001b[0m\u001b[1;32m    332\u001b[0m \u001b[0;34m\u001b[0m\u001b[0m\n\u001b[1;32m    333\u001b[0m         \u001b[0;31m# error: \"Callable[[VarArg(Any), KwArg(Any)], Any]\" has no\u001b[0m\u001b[0;34m\u001b[0m\u001b[0;34m\u001b[0m\u001b[0;34m\u001b[0m\u001b[0m\n",
      "\u001b[0;32m/software/conda/envs/SE3-nvidia/lib/python3.8/site-packages/pandas/core/generic.py\u001b[0m in \u001b[0;36mdrop\u001b[0;34m(self, labels, axis, index, columns, level, inplace, errors)\u001b[0m\n\u001b[1;32m   4503\u001b[0m         \u001b[0;32mfor\u001b[0m \u001b[0maxis\u001b[0m\u001b[0;34m,\u001b[0m \u001b[0mlabels\u001b[0m \u001b[0;32min\u001b[0m \u001b[0maxes\u001b[0m\u001b[0;34m.\u001b[0m\u001b[0mitems\u001b[0m\u001b[0;34m(\u001b[0m\u001b[0;34m)\u001b[0m\u001b[0;34m:\u001b[0m\u001b[0;34m\u001b[0m\u001b[0;34m\u001b[0m\u001b[0m\n\u001b[1;32m   4504\u001b[0m             \u001b[0;32mif\u001b[0m \u001b[0mlabels\u001b[0m \u001b[0;32mis\u001b[0m \u001b[0;32mnot\u001b[0m \u001b[0;32mNone\u001b[0m\u001b[0;34m:\u001b[0m\u001b[0;34m\u001b[0m\u001b[0;34m\u001b[0m\u001b[0m\n\u001b[0;32m-> 4505\u001b[0;31m                 \u001b[0mobj\u001b[0m \u001b[0;34m=\u001b[0m \u001b[0mobj\u001b[0m\u001b[0;34m.\u001b[0m\u001b[0m_drop_axis\u001b[0m\u001b[0;34m(\u001b[0m\u001b[0mlabels\u001b[0m\u001b[0;34m,\u001b[0m \u001b[0maxis\u001b[0m\u001b[0;34m,\u001b[0m \u001b[0mlevel\u001b[0m\u001b[0;34m=\u001b[0m\u001b[0mlevel\u001b[0m\u001b[0;34m,\u001b[0m \u001b[0merrors\u001b[0m\u001b[0;34m=\u001b[0m\u001b[0merrors\u001b[0m\u001b[0;34m)\u001b[0m\u001b[0;34m\u001b[0m\u001b[0;34m\u001b[0m\u001b[0m\n\u001b[0m\u001b[1;32m   4506\u001b[0m \u001b[0;34m\u001b[0m\u001b[0m\n\u001b[1;32m   4507\u001b[0m         \u001b[0;32mif\u001b[0m \u001b[0minplace\u001b[0m\u001b[0;34m:\u001b[0m\u001b[0;34m\u001b[0m\u001b[0;34m\u001b[0m\u001b[0m\n",
      "\u001b[0;32m/software/conda/envs/SE3-nvidia/lib/python3.8/site-packages/pandas/core/generic.py\u001b[0m in \u001b[0;36m_drop_axis\u001b[0;34m(self, labels, axis, level, errors, only_slice)\u001b[0m\n\u001b[1;32m   4544\u001b[0m                 \u001b[0mnew_axis\u001b[0m \u001b[0;34m=\u001b[0m \u001b[0maxis\u001b[0m\u001b[0;34m.\u001b[0m\u001b[0mdrop\u001b[0m\u001b[0;34m(\u001b[0m\u001b[0mlabels\u001b[0m\u001b[0;34m,\u001b[0m \u001b[0mlevel\u001b[0m\u001b[0;34m=\u001b[0m\u001b[0mlevel\u001b[0m\u001b[0;34m,\u001b[0m \u001b[0merrors\u001b[0m\u001b[0;34m=\u001b[0m\u001b[0merrors\u001b[0m\u001b[0;34m)\u001b[0m\u001b[0;34m\u001b[0m\u001b[0;34m\u001b[0m\u001b[0m\n\u001b[1;32m   4545\u001b[0m             \u001b[0;32melse\u001b[0m\u001b[0;34m:\u001b[0m\u001b[0;34m\u001b[0m\u001b[0;34m\u001b[0m\u001b[0m\n\u001b[0;32m-> 4546\u001b[0;31m                 \u001b[0mnew_axis\u001b[0m \u001b[0;34m=\u001b[0m \u001b[0maxis\u001b[0m\u001b[0;34m.\u001b[0m\u001b[0mdrop\u001b[0m\u001b[0;34m(\u001b[0m\u001b[0mlabels\u001b[0m\u001b[0;34m,\u001b[0m \u001b[0merrors\u001b[0m\u001b[0;34m=\u001b[0m\u001b[0merrors\u001b[0m\u001b[0;34m)\u001b[0m\u001b[0;34m\u001b[0m\u001b[0;34m\u001b[0m\u001b[0m\n\u001b[0m\u001b[1;32m   4547\u001b[0m             \u001b[0mindexer\u001b[0m \u001b[0;34m=\u001b[0m \u001b[0maxis\u001b[0m\u001b[0;34m.\u001b[0m\u001b[0mget_indexer\u001b[0m\u001b[0;34m(\u001b[0m\u001b[0mnew_axis\u001b[0m\u001b[0;34m)\u001b[0m\u001b[0;34m\u001b[0m\u001b[0;34m\u001b[0m\u001b[0m\n\u001b[1;32m   4548\u001b[0m \u001b[0;34m\u001b[0m\u001b[0m\n",
      "\u001b[0;32m/software/conda/envs/SE3-nvidia/lib/python3.8/site-packages/pandas/core/indexes/base.py\u001b[0m in \u001b[0;36mdrop\u001b[0;34m(self, labels, errors)\u001b[0m\n\u001b[1;32m   6975\u001b[0m         \u001b[0;32mif\u001b[0m \u001b[0mmask\u001b[0m\u001b[0;34m.\u001b[0m\u001b[0many\u001b[0m\u001b[0;34m(\u001b[0m\u001b[0;34m)\u001b[0m\u001b[0;34m:\u001b[0m\u001b[0;34m\u001b[0m\u001b[0;34m\u001b[0m\u001b[0m\n\u001b[1;32m   6976\u001b[0m             \u001b[0;32mif\u001b[0m \u001b[0merrors\u001b[0m \u001b[0;34m!=\u001b[0m \u001b[0;34m\"ignore\"\u001b[0m\u001b[0;34m:\u001b[0m\u001b[0;34m\u001b[0m\u001b[0;34m\u001b[0m\u001b[0m\n\u001b[0;32m-> 6977\u001b[0;31m                 \u001b[0;32mraise\u001b[0m \u001b[0mKeyError\u001b[0m\u001b[0;34m(\u001b[0m\u001b[0;34mf\"{list(labels[mask])} not found in axis\"\u001b[0m\u001b[0;34m)\u001b[0m\u001b[0;34m\u001b[0m\u001b[0;34m\u001b[0m\u001b[0m\n\u001b[0m\u001b[1;32m   6978\u001b[0m             \u001b[0mindexer\u001b[0m \u001b[0;34m=\u001b[0m \u001b[0mindexer\u001b[0m\u001b[0;34m[\u001b[0m\u001b[0;34m~\u001b[0m\u001b[0mmask\u001b[0m\u001b[0;34m]\u001b[0m\u001b[0;34m\u001b[0m\u001b[0;34m\u001b[0m\u001b[0m\n\u001b[1;32m   6979\u001b[0m         \u001b[0;32mreturn\u001b[0m \u001b[0mself\u001b[0m\u001b[0;34m.\u001b[0m\u001b[0mdelete\u001b[0m\u001b[0;34m(\u001b[0m\u001b[0mindexer\u001b[0m\u001b[0;34m)\u001b[0m\u001b[0;34m\u001b[0m\u001b[0;34m\u001b[0m\u001b[0m\n",
      "\u001b[0;31mKeyError\u001b[0m: \"['PDBID'] not found in axis\""
     ]
    }
   ],
   "source": [
    "df = df.drop(['PDBID','to_remove'],axis=1)"
   ]
  },
  {
   "cell_type": "code",
   "execution_count": 197,
   "id": "79bf273b-0f23-4fd6-96b1-3f5f88e79b64",
   "metadata": {},
   "outputs": [
    {
     "data": {
      "text/plain": [
       "(283202, 15)"
      ]
     },
     "execution_count": 197,
     "metadata": {},
     "output_type": "execute_result"
    }
   ],
   "source": [
    "df.shape"
   ]
  },
  {
   "cell_type": "markdown",
   "id": "e22eeb67-8db1-4889-9f6c-a42d0b0fb619",
   "metadata": {
    "tags": []
   },
   "source": [
    "### Assemblies\n",
    "After some exploratory analysis I chose the following definition of assembly. These examples will be in their own dataset that will always attempt to featurize every single ligand in the partner list.\n",
    "\n",
    "The remaining examples will be put in datasets that will only attempt to featurize the query ligand and its main interacting protein chain."
   ]
  },
  {
   "cell_type": "code",
   "execution_count": 198,
   "id": "069b91f7-44a6-4748-b5f1-e2e4b78347fa",
   "metadata": {},
   "outputs": [],
   "source": [
    "idx = df['PARTNERS'].apply(\n",
    "    lambda partners: \n",
    "        len([p for p in partners if p[-1]=='nonpoly' and p[2]>0]) + \\\n",
    "        len([p for p in partners if p[-1]=='polypeptide(L)' and p[2]>10]) > 1)"
   ]
  },
  {
   "cell_type": "code",
   "execution_count": 199,
   "id": "c6bf34bc-2a0e-4a9a-b73e-b709abf852dc",
   "metadata": {},
   "outputs": [
    {
     "data": {
      "text/plain": [
       "151807"
      ]
     },
     "execution_count": 199,
     "metadata": {},
     "output_type": "execute_result"
    }
   ],
   "source": [
    "idx.sum()"
   ]
  },
  {
   "cell_type": "code",
   "execution_count": 200,
   "id": "ebbc5f4a-8acb-498d-890c-f15fc42d83d1",
   "metadata": {},
   "outputs": [],
   "source": [
    "df.loc[idx,'SUBSET'] = 'asmb'"
   ]
  },
  {
   "cell_type": "markdown",
   "id": "cf32f7d9-4576-427c-8b8b-64788ed2678d",
   "metadata": {},
   "source": [
    "### Multi-residue"
   ]
  },
  {
   "cell_type": "code",
   "execution_count": 201,
   "id": "8530cf0d-0da9-4807-8f02-034cd1ed16ad",
   "metadata": {},
   "outputs": [],
   "source": [
    "idx = df['LIGAND'].apply(lambda x: len(x)>1) & df['COVALENT'].apply(lambda x: len(x)==0) & df['SUBSET'].isnull()"
   ]
  },
  {
   "cell_type": "code",
   "execution_count": 202,
   "id": "798a0c91-62c4-45e4-bc34-9e6a227bf11c",
   "metadata": {},
   "outputs": [
    {
     "data": {
      "text/plain": [
       "0"
      ]
     },
     "execution_count": 202,
     "metadata": {},
     "output_type": "execute_result"
    }
   ],
   "source": [
    "idx.sum()"
   ]
  },
  {
   "cell_type": "code",
   "execution_count": 203,
   "id": "2ddd400f-0f06-4ff4-9f83-41d10329cde0",
   "metadata": {},
   "outputs": [],
   "source": [
    "df.loc[idx,'SUBSET'] = 'multi'"
   ]
  },
  {
   "cell_type": "markdown",
   "id": "09cb5213-2d8e-4cfd-8a90-f5c04ca3360b",
   "metadata": {},
   "source": [
    "### Covalent"
   ]
  },
  {
   "cell_type": "code",
   "execution_count": 204,
   "id": "9f96fe63-daa9-4882-9dc3-fae09b8915f4",
   "metadata": {},
   "outputs": [],
   "source": [
    "idx = df['COVALENT'].apply(lambda x: len(x)>0) & df['SUBSET'].isnull()"
   ]
  },
  {
   "cell_type": "code",
   "execution_count": 205,
   "id": "05a04d23-cfc8-4417-92d2-dfee0314c4fd",
   "metadata": {},
   "outputs": [
    {
     "data": {
      "text/plain": [
       "0"
      ]
     },
     "execution_count": 205,
     "metadata": {},
     "output_type": "execute_result"
    }
   ],
   "source": [
    "idx.sum()"
   ]
  },
  {
   "cell_type": "code",
   "execution_count": 206,
   "id": "30a586f3-3680-45de-9761-228b0a716894",
   "metadata": {},
   "outputs": [],
   "source": [
    "df.loc[idx,'SUBSET'] = 'covale'"
   ]
  },
  {
   "cell_type": "markdown",
   "id": "3565c9a0-9b2e-467f-a2ab-5d924076fab0",
   "metadata": {},
   "source": [
    "### Metal ions"
   ]
  },
  {
   "cell_type": "code",
   "execution_count": 207,
   "id": "c2cf49fb-2649-4716-b9e8-97a2128cdd3e",
   "metadata": {},
   "outputs": [],
   "source": [
    "df['LIGANDNAME'] = df['LIGAND'].apply(lambda x: x[0][2])"
   ]
  },
  {
   "cell_type": "code",
   "execution_count": 208,
   "id": "bf9c4b98-9890-4942-b69d-3e39adeb0c9d",
   "metadata": {},
   "outputs": [],
   "source": [
    "metals = ['LA','NI','3CO','K','CR','ZN','CD','PD','TB','YT3','OS','EU','NA','RB','W','YB','HO3',\n",
    "          'CE','MN','TL','LI','MN3','AU3','AU','EU3','AL','3NI','FE2','PT','FE','CA','AG','CU1',\n",
    "          'LU','HG','CO','SR','MG','PB','CS','GA','BA','SM','SB','CU','MO','CU2']"
   ]
  },
  {
   "cell_type": "code",
   "execution_count": 209,
   "id": "0b5c3ed0-112e-417b-b8f5-38f95f548d72",
   "metadata": {},
   "outputs": [],
   "source": [
    "idx = df['LIGANDNAME'].isin(metals) & df['SUBSET'].isnull()"
   ]
  },
  {
   "cell_type": "code",
   "execution_count": 210,
   "id": "714b9a95-c565-407c-b5bd-e05394cf9116",
   "metadata": {},
   "outputs": [
    {
     "data": {
      "text/plain": [
       "0"
      ]
     },
     "execution_count": 210,
     "metadata": {},
     "output_type": "execute_result"
    }
   ],
   "source": [
    "idx.sum()"
   ]
  },
  {
   "cell_type": "code",
   "execution_count": 211,
   "id": "4a201195-b6e1-4a39-9791-9f7fc2d1e8b4",
   "metadata": {},
   "outputs": [],
   "source": [
    "df.loc[idx,'SUBSET'] = 'metal'"
   ]
  },
  {
   "cell_type": "code",
   "execution_count": 212,
   "id": "fa5e000f-1bc1-4d2c-9287-c4271acb2fe7",
   "metadata": {},
   "outputs": [],
   "source": [
    "df = df.drop(['LIGANDNAME'],axis=1)"
   ]
  },
  {
   "cell_type": "markdown",
   "id": "0eb0f4b8-4192-43d9-b016-3fc4c668ec7d",
   "metadata": {
    "tags": []
   },
   "source": [
    "### Organic ligands\n",
    "What is left at this point is just the \"basic\" ligand-protein complexes"
   ]
  },
  {
   "cell_type": "code",
   "execution_count": 213,
   "id": "304fa170-ac32-4ea8-9a80-f680682e1c69",
   "metadata": {},
   "outputs": [],
   "source": [
    "idx = df['SUBSET'].isnull()"
   ]
  },
  {
   "cell_type": "code",
   "execution_count": 214,
   "id": "cf5f71d7-9370-4e45-9077-cc23b6dcfb1e",
   "metadata": {},
   "outputs": [
    {
     "data": {
      "text/plain": [
       "0"
      ]
     },
     "execution_count": 214,
     "metadata": {},
     "output_type": "execute_result"
    }
   ],
   "source": [
    "idx.sum()"
   ]
  },
  {
   "cell_type": "code",
   "execution_count": 215,
   "id": "17e319f1-8328-45ec-9cbe-59f0e20f04b2",
   "metadata": {},
   "outputs": [],
   "source": [
    "df.loc[idx,'SUBSET'] = 'organic'"
   ]
  },
  {
   "cell_type": "code",
   "execution_count": 216,
   "id": "de550c55-18c2-44fb-9741-24ea5cc0e943",
   "metadata": {},
   "outputs": [],
   "source": [
    "df.to_csv('sm_compl_all_202302120.csv',index=None)"
   ]
  },
  {
   "cell_type": "markdown",
   "id": "b3d303cc-4964-44e2-a9e5-e1c7c114c597",
   "metadata": {},
   "source": [
    "### Various bad examples\n",
    "\n",
    "These cause errors during data-loading or forward pass that are due to various idiosyncratic data problems with the original PDB files. To fix them would require manual tweaking so we will exclude them for convenience."
   ]
  },
  {
   "cell_type": "code",
   "execution_count": 220,
   "id": "9081a0e5-aef8-4696-a87c-0412e3c65c30",
   "metadata": {},
   "outputs": [],
   "source": [
    "df = pd.read_csv('sm_compl_all_202302120.csv')"
   ]
  },
  {
   "cell_type": "code",
   "execution_count": 221,
   "id": "0df5cf83-0f1b-4fc2-b7b8-5d5ad4b62165",
   "metadata": {},
   "outputs": [
    {
     "data": {
      "text/plain": [
       "(283202, 15)"
      ]
     },
     "execution_count": 221,
     "metadata": {},
     "output_type": "execute_result"
    }
   ],
   "source": [
    "df.shape"
   ]
  },
  {
   "cell_type": "code",
   "execution_count": 222,
   "id": "85641fe5-1b7b-42f9-a187-2563846c2d13",
   "metadata": {},
   "outputs": [
    {
     "data": {
      "text/html": [
       "<div>\n",
       "<style scoped>\n",
       "    .dataframe tbody tr th:only-of-type {\n",
       "        vertical-align: middle;\n",
       "    }\n",
       "\n",
       "    .dataframe tbody tr th {\n",
       "        vertical-align: top;\n",
       "    }\n",
       "\n",
       "    .dataframe thead th {\n",
       "        text-align: right;\n",
       "    }\n",
       "</style>\n",
       "<table border=\"1\" class=\"dataframe\">\n",
       "  <thead>\n",
       "    <tr style=\"text-align: right;\">\n",
       "      <th></th>\n",
       "      <th>CHAINID</th>\n",
       "      <th>DEPOSITION</th>\n",
       "      <th>RESOLUTION</th>\n",
       "      <th>HASH</th>\n",
       "      <th>CLUSTER</th>\n",
       "      <th>SEQUENCE</th>\n",
       "      <th>LEN_EXIST</th>\n",
       "      <th>LIGAND</th>\n",
       "      <th>ASSEMBLY</th>\n",
       "      <th>COVALENT</th>\n",
       "      <th>LIGXF</th>\n",
       "      <th>PARTNERS</th>\n",
       "      <th>LIGATOMS</th>\n",
       "      <th>LIGATOMS_RESOLVED</th>\n",
       "      <th>SUBSET</th>\n",
       "    </tr>\n",
       "  </thead>\n",
       "  <tbody>\n",
       "    <tr>\n",
       "      <th>14548</th>\n",
       "      <td>6ofk_A</td>\n",
       "      <td>2019-03-30</td>\n",
       "      <td>1.15</td>\n",
       "      <td>19511</td>\n",
       "      <td>22071</td>\n",
       "      <td>GHHHHHHSSGGKLPVPWPTLVTTLXVQCFSRYPDHMKRHDFFKSAM...</td>\n",
       "      <td>225</td>\n",
       "      <td>[('C', '301', 'CRO')]</td>\n",
       "      <td>1</td>\n",
       "      <td>[(('A', '24', 'LEU', 'C'), ('C', '301', 'CRO',...</td>\n",
       "      <td>[('C', 1)]</td>\n",
       "      <td>[('A', 0, 339, 1.3623689413070679, 'polypeptid...</td>\n",
       "      <td>22</td>\n",
       "      <td>22</td>\n",
       "      <td>covale</td>\n",
       "    </tr>\n",
       "    <tr>\n",
       "      <th>14549</th>\n",
       "      <td>6ofk_B</td>\n",
       "      <td>2019-03-30</td>\n",
       "      <td>1.15</td>\n",
       "      <td>19511</td>\n",
       "      <td>22071</td>\n",
       "      <td>GHHHHHHSSGGKLPVPWPTLVTTLXVQCFSRYPDHMKRHDFFKSAM...</td>\n",
       "      <td>228</td>\n",
       "      <td>[('D', '301', 'CRO')]</td>\n",
       "      <td>2</td>\n",
       "      <td>[(('B', '24', 'LEU', 'C'), ('D', '301', 'CRO',...</td>\n",
       "      <td>[('D', 1)]</td>\n",
       "      <td>[('B', 0, 340, 1.3511673212051392, 'polypeptid...</td>\n",
       "      <td>22</td>\n",
       "      <td>22</td>\n",
       "      <td>covale</td>\n",
       "    </tr>\n",
       "  </tbody>\n",
       "</table>\n",
       "</div>"
      ],
      "text/plain": [
       "      CHAINID  DEPOSITION  RESOLUTION   HASH  CLUSTER  \\\n",
       "14548  6ofk_A  2019-03-30        1.15  19511    22071   \n",
       "14549  6ofk_B  2019-03-30        1.15  19511    22071   \n",
       "\n",
       "                                                SEQUENCE  LEN_EXIST  \\\n",
       "14548  GHHHHHHSSGGKLPVPWPTLVTTLXVQCFSRYPDHMKRHDFFKSAM...        225   \n",
       "14549  GHHHHHHSSGGKLPVPWPTLVTTLXVQCFSRYPDHMKRHDFFKSAM...        228   \n",
       "\n",
       "                      LIGAND  ASSEMBLY  \\\n",
       "14548  [('C', '301', 'CRO')]         1   \n",
       "14549  [('D', '301', 'CRO')]         2   \n",
       "\n",
       "                                                COVALENT       LIGXF  \\\n",
       "14548  [(('A', '24', 'LEU', 'C'), ('C', '301', 'CRO',...  [('C', 1)]   \n",
       "14549  [(('B', '24', 'LEU', 'C'), ('D', '301', 'CRO',...  [('D', 1)]   \n",
       "\n",
       "                                                PARTNERS  LIGATOMS  \\\n",
       "14548  [('A', 0, 339, 1.3623689413070679, 'polypeptid...        22   \n",
       "14549  [('B', 0, 340, 1.3511673212051392, 'polypeptid...        22   \n",
       "\n",
       "       LIGATOMS_RESOLVED  SUBSET  \n",
       "14548                 22  covale  \n",
       "14549                 22  covale  "
      ]
     },
     "execution_count": 222,
     "metadata": {},
     "output_type": "execute_result"
    }
   ],
   "source": [
    "df[df['CHAINID'].str.contains('6ofk')]"
   ]
  },
  {
   "cell_type": "code",
   "execution_count": 224,
   "id": "3a069126-99d6-4e79-ac88-751660f73c4c",
   "metadata": {},
   "outputs": [],
   "source": [
    "df = df[~df['CHAINID'].isin([\n",
    "    '1q9x_K', '4s0n_A', '3agv_A', '5l6x_B', '5l6x_A',\n",
    "    '1khz_B', '1g9q_A', '1g9q_B', # cuda indexing errors during forward pass\n",
    "    '4u9i_B', '4u9h_B', '4jhq_A', '4jhq_B', '5myq_A', '5myq_B', # error during loading\n",
    "    '5myq_C', '5myq_D', '6g7r_D', '6g7r_B', '6gal_D', '6fpi_B', # error during loading\n",
    "    '6fpi_D', '6fpw_B', '6fpw_D', # error during loading\n",
    "    '1adl_A', '1bs3_A', '1bs3_B', '1btx_A', '1bxw_A', '1etu_A', '1gjm_A',\n",
    "    '1h3v_B', '1jkj_B', '1l0i_A', '1q1k_A', '1qga_A', '1qga_B', '1nte_A',\n",
    "    '1x83_B', '2b4b_B', '3dpm_A', '3dpm_B', '4ztt_F', '5kxd_A', '6mhb_F',\n",
    "    '4mm1_B','5m29_B','6tzk_A',\n",
    "    '6ofk_A','6ofk_B', # GFP chromophore got curated incorrectly. this can't be featurized easily with our current code so skip, but revisit later\n",
    "])]"
   ]
  },
  {
   "cell_type": "code",
   "execution_count": 225,
   "id": "12e0c102-ff0a-4ce9-adde-bc877b24723f",
   "metadata": {},
   "outputs": [
    {
     "data": {
      "text/plain": [
       "(283126, 15)"
      ]
     },
     "execution_count": 225,
     "metadata": {},
     "output_type": "execute_result"
    }
   ],
   "source": [
    "df.shape"
   ]
  },
  {
   "cell_type": "code",
   "execution_count": 226,
   "id": "c8aacb4e-add2-4b44-90ab-88179c0ac72e",
   "metadata": {},
   "outputs": [],
   "source": [
    "df.to_csv('sm_compl_all_20230220.csv',index=None)"
   ]
  },
  {
   "cell_type": "markdown",
   "id": "5bf3bbfa-e8e6-45db-85dd-76f1b72fed36",
   "metadata": {},
   "source": [
    "## Strict validation set\n",
    "2023-1-16\n",
    "\n",
    "Re-create the strict validation set with no tanimoto overlap with train"
   ]
  },
  {
   "cell_type": "markdown",
   "id": "e8383033-35ef-4b41-8dfc-4d3e9411a952",
   "metadata": {},
   "source": [
    "### Functions"
   ]
  },
  {
   "cell_type": "code",
   "execution_count": 111,
   "id": "f60c0dbe-86a1-455c-9503-fbb944188e25",
   "metadata": {},
   "outputs": [],
   "source": [
    "import pickle, gzip, time\n",
    "from openbabel import openbabel\n",
    "sys.path.insert(0,'/home/jue/git/rf2a-fd3/')\n",
    "import chemical\n",
    "from chemical import atom_num, frame_priority2atom"
   ]
  },
  {
   "cell_type": "code",
   "execution_count": 97,
   "id": "c23a090b-2a0e-4710-a3f1-a47e25856b1d",
   "metadata": {},
   "outputs": [],
   "source": [
    "def cif_ligand_to_xyz(atoms, asmb_xfs=None, ch2xf=None):\n",
    "\n",
    "    elnum_to_atom = dict(zip(atom_num, frame_priority2atom))\n",
    "    atoms_no_H = {k:v for k,v in atoms.items() if v.element != 1} # exclude hydrogens\n",
    "    L = len(atoms_no_H)\n",
    "\n",
    "    xyz = torch.zeros(L, 3)\n",
    "    mask = torch.zeros(L,).bool()\n",
    "    seq = torch.full((L,), np.nan)\n",
    "    chid = ['-']*L\n",
    "    akeys = [None]*L\n",
    "    \n",
    "    # create coords, atom mask, and seq tokens\n",
    "    for i,(k,v) in enumerate(atoms_no_H.items()):\n",
    "        xyz[i, :] = torch.tensor(v.xyz)\n",
    "        mask[i] = v.occ\n",
    "        if v.element not in elnum_to_atom:\n",
    "            print('Element not in alphabet:',v.element)\n",
    "            seq[i] = chemical.aa2num['ATM']\n",
    "        else:\n",
    "            seq[i] = chemical.aa2num[elnum_to_atom[v.element]]\n",
    "        akeys[i] = k\n",
    "        chid[i] = k[0]\n",
    "        \n",
    "    if asmb_xfs is not None:\n",
    "        # apply transforms\n",
    "        chid = np.array(chid)\n",
    "        for i_ch in np.unique(chid):\n",
    "            idx = chid==i_ch\n",
    "            xf = torch.tensor(asmb_xfs[ch2xf[i_ch]][1]).float()\n",
    "            u,r = xf[:3,:3], xf[:3,3]\n",
    "            xyz[idx] = torch.einsum('ij,aj->ai', u, xyz[idx]) + r[None,None]\n",
    "        \n",
    "    return xyz, mask, seq, chid, akeys\n",
    "\n",
    "def cif_ligand_to_obmol(xyz, akeys, atoms, bonds):\n",
    "    \n",
    "    mol = openbabel.OBMol()    \n",
    "    for i,k in enumerate(akeys):\n",
    "        a = mol.NewAtom()\n",
    "        a.SetAtomicNum(atoms[k].element)\n",
    "        a.SetVector(float(xyz[i,0]), float(xyz[i,1]), float(xyz[i,2]))\n",
    "\n",
    "    sm_L = len(akeys)\n",
    "    bond_feats = torch.zeros((sm_L,sm_L))\n",
    "    for bond in bonds:\n",
    "        if bond.a not in akeys or bond.b not in akeys: continue # intended to skip bonds to H's\n",
    "        i = akeys.index(bond.a)\n",
    "        j = akeys.index(bond.b)\n",
    "        bond_feats[i,j] = bond.order if not bond.aromatic else 4\n",
    "        bond_feats[j,i] = bond_feats[i,j]\n",
    "\n",
    "        obb = openbabel.OBBond()\n",
    "        obb.SetBegin(mol.GetAtom(i+1))\n",
    "        obb.SetEnd(mol.GetAtom(j+1))\n",
    "        obb.SetBondOrder(bond.order)\n",
    "        if bond.aromatic:\n",
    "            obb.SetAromatic()\n",
    "\n",
    "        mol.AddBond(obb)\n",
    "    \n",
    "    return mol, bond_feats"
   ]
  },
  {
   "cell_type": "markdown",
   "id": "539101d2-70f9-47c5-8543-45fe24094c44",
   "metadata": {},
   "source": [
    "### Get ligand names"
   ]
  },
  {
   "cell_type": "code",
   "execution_count": 279,
   "id": "b70e4eb4-075b-4cd7-b4a5-0cc9b69e462f",
   "metadata": {},
   "outputs": [],
   "source": [
    "df = pd.read_csv('sm_compl_all_goodmsa_20230116.csv')\n",
    "\n",
    "for col in ['LIGAND','PARTNERS','LIGXF']:\n",
    "    df[col] = df[col].apply(lambda x: eval(x))\n",
    "\n",
    "df['LIGNAME'] = df['LIGAND'].apply(lambda x: x[0][2])"
   ]
  },
  {
   "cell_type": "code",
   "execution_count": 280,
   "id": "27108684-f845-4aa4-86fc-c4c1d46221d7",
   "metadata": {},
   "outputs": [],
   "source": [
    "df2 = df.drop_duplicates('LIGNAME')"
   ]
  },
  {
   "cell_type": "code",
   "execution_count": 281,
   "id": "38920ac4-dd6f-498f-b9d7-6450fc1e2ccc",
   "metadata": {},
   "outputs": [
    {
     "data": {
      "text/plain": [
       "(17468, 14)"
      ]
     },
     "execution_count": 281,
     "metadata": {},
     "output_type": "execute_result"
    }
   ],
   "source": [
    "df2.shape"
   ]
  },
  {
   "cell_type": "code",
   "execution_count": 285,
   "id": "2eb413b4-ed66-472e-b90a-71b828e77c56",
   "metadata": {},
   "outputs": [],
   "source": [
    "df2 = df2[~df2['LIGNAME'].isin(metals)]"
   ]
  },
  {
   "cell_type": "code",
   "execution_count": 286,
   "id": "e839409e-70d5-45b0-860e-45d8a48d13c1",
   "metadata": {},
   "outputs": [
    {
     "data": {
      "text/plain": [
       "(17424, 14)"
      ]
     },
     "execution_count": 286,
     "metadata": {},
     "output_type": "execute_result"
    }
   ],
   "source": [
    "df2.shape"
   ]
  },
  {
   "cell_type": "markdown",
   "id": "ef7f8d05-cba4-4295-b283-320c1786e207",
   "metadata": {},
   "source": [
    "Also need to compare to ligands in old dataset, since we've been training fold & dock 3 on it"
   ]
  },
  {
   "cell_type": "code",
   "execution_count": 314,
   "id": "a64c20a7-f814-42ac-ad2e-c7c9476971e0",
   "metadata": {},
   "outputs": [],
   "source": [
    "df_old = pd.read_csv('/projects/ml/RF2_allatom/list_v02_sm_filt_notest.csv',index_col=None,dtype=str)"
   ]
  },
  {
   "cell_type": "code",
   "execution_count": 315,
   "id": "1c17512b-9d1f-432f-93f1-9224cb5bbaad",
   "metadata": {},
   "outputs": [],
   "source": [
    "df_old['LIGANDS'] = df_old['LIGANDS'].apply(lambda x: eval(x))"
   ]
  },
  {
   "cell_type": "code",
   "execution_count": 316,
   "id": "2a5ab3d7-c56b-4b0b-859c-900156d778a6",
   "metadata": {},
   "outputs": [],
   "source": [
    "records = []\n",
    "for i,row in df_old.iterrows():\n",
    "    for lig in row['LIGANDS']:\n",
    "        newrow = row.copy()\n",
    "        newrow['LIGNAME'] = lig.split('_')[1]\n",
    "        records.append(newrow)"
   ]
  },
  {
   "cell_type": "code",
   "execution_count": 317,
   "id": "20d87dda-eb8f-4138-b753-a6fd09c021bc",
   "metadata": {},
   "outputs": [],
   "source": [
    "df3 = pd.DataFrame.from_records(records)"
   ]
  },
  {
   "cell_type": "code",
   "execution_count": 318,
   "id": "0e8ac8cb-98c9-41ab-9655-19776bec3b22",
   "metadata": {},
   "outputs": [
    {
     "data": {
      "text/plain": [
       "(74996, 10)"
      ]
     },
     "execution_count": 318,
     "metadata": {},
     "output_type": "execute_result"
    }
   ],
   "source": [
    "df3.shape"
   ]
  },
  {
   "cell_type": "code",
   "execution_count": 319,
   "id": "b0f14ee8-4a48-4e80-9729-f596d0bcffe6",
   "metadata": {},
   "outputs": [],
   "source": [
    "df3 = df3.drop_duplicates('LIGNAME')"
   ]
  },
  {
   "cell_type": "code",
   "execution_count": 320,
   "id": "8988250e-d8ed-4215-be2d-6710f79cff15",
   "metadata": {},
   "outputs": [
    {
     "data": {
      "text/plain": [
       "(18229, 10)"
      ]
     },
     "execution_count": 320,
     "metadata": {},
     "output_type": "execute_result"
    }
   ],
   "source": [
    "df3.shape"
   ]
  },
  {
   "cell_type": "code",
   "execution_count": 321,
   "id": "aec9e05b-e671-43d4-8c7d-c3698c506fea",
   "metadata": {},
   "outputs": [],
   "source": [
    "df3.to_csv('old_ligands.csv',index=False)"
   ]
  },
  {
   "cell_type": "code",
   "execution_count": 322,
   "id": "b4aa10d8-4c89-4ab9-a3b1-1977fd353034",
   "metadata": {},
   "outputs": [],
   "source": [
    "new = set(df3['LIGNAME'].values)-set(df2['LIGNAME'].values)"
   ]
  },
  {
   "cell_type": "code",
   "execution_count": 323,
   "id": "f1b70c55-85c8-4abe-8f39-6fbcb67df1f1",
   "metadata": {},
   "outputs": [
    {
     "data": {
      "text/plain": [
       "3438"
      ]
     },
     "execution_count": 323,
     "metadata": {},
     "output_type": "execute_result"
    }
   ],
   "source": [
    "len(new)"
   ]
  },
  {
   "cell_type": "code",
   "execution_count": 324,
   "id": "3417b605-53ca-4e2f-8c7e-c1be0c06c29d",
   "metadata": {},
   "outputs": [],
   "source": [
    "lignames = set(df3['LIGNAME'].values).union(set(df2['LIGNAME'].values))"
   ]
  },
  {
   "cell_type": "code",
   "execution_count": 327,
   "id": "052f9be8-d75b-4514-90d7-2127f59f44a6",
   "metadata": {},
   "outputs": [
    {
     "data": {
      "text/plain": [
       "20862"
      ]
     },
     "execution_count": 327,
     "metadata": {},
     "output_type": "execute_result"
    }
   ],
   "source": [
    "len(lignames)"
   ]
  },
  {
   "cell_type": "code",
   "execution_count": 328,
   "id": "8c7af942-4baa-4656-b1f1-0f3711ba5d1a",
   "metadata": {},
   "outputs": [],
   "source": [
    "df3 = pd.read_csv('ligands.csv')"
   ]
  },
  {
   "cell_type": "code",
   "execution_count": 329,
   "id": "4925e79e-0e59-4c5d-99eb-b5894d4516d5",
   "metadata": {},
   "outputs": [],
   "source": [
    "df3['LIGAND'] = df3['LIGAND'].apply(lambda x: eval(x))"
   ]
  },
  {
   "cell_type": "code",
   "execution_count": 330,
   "id": "f8315347-28df-4842-8171-b535b2c1f7ad",
   "metadata": {},
   "outputs": [],
   "source": [
    "df3['LIGNAME'] = df3['LIGAND'].apply(lambda x: list(x)[0][2])"
   ]
  },
  {
   "cell_type": "code",
   "execution_count": 331,
   "id": "49629f3e-65c3-45c7-95b7-7d1f7ef643aa",
   "metadata": {},
   "outputs": [],
   "source": [
    "df3 = df3[df3['LIGNAME'].isin(lignames)].drop_duplicates('LIGNAME')"
   ]
  },
  {
   "cell_type": "code",
   "execution_count": 332,
   "id": "3c7b2cfa-d28b-462e-8727-d7efca99d3a7",
   "metadata": {},
   "outputs": [
    {
     "data": {
      "text/plain": [
       "(20761, 4)"
      ]
     },
     "execution_count": 332,
     "metadata": {},
     "output_type": "execute_result"
    }
   ],
   "source": [
    "df3.shape"
   ]
  },
  {
   "cell_type": "code",
   "execution_count": 334,
   "id": "6742cd9d-4cf9-48e1-a088-229019d86803",
   "metadata": {},
   "outputs": [],
   "source": [
    "df3.to_csv('ligands_for_tanimoto.csv')"
   ]
  },
  {
   "cell_type": "markdown",
   "id": "26276d6c-6aa1-4a38-abfe-2bac0c2c9ed5",
   "metadata": {},
   "source": [
    "### Copy mol2's of ligands only in old set"
   ]
  },
  {
   "cell_type": "markdown",
   "id": "55d3215f-c151-44fb-8726-51c6255bc22b",
   "metadata": {},
   "source": [
    "About 100 are missing. Are these in the old set?"
   ]
  },
  {
   "cell_type": "code",
   "execution_count": 308,
   "id": "1474d8b7-ab20-4079-874b-941be19dd596",
   "metadata": {},
   "outputs": [],
   "source": [
    "missing = set(lignames)-set(df3['LIGNAME'])"
   ]
  },
  {
   "cell_type": "code",
   "execution_count": 333,
   "id": "b9a98ea6-1868-4620-a208-108d584d0a7c",
   "metadata": {},
   "outputs": [
    {
     "data": {
      "text/plain": [
       "101"
      ]
     },
     "execution_count": 333,
     "metadata": {},
     "output_type": "execute_result"
    }
   ],
   "source": [
    "len(missing)"
   ]
  },
  {
   "cell_type": "code",
   "execution_count": 335,
   "id": "91d65b1a-c1ba-4bef-8185-472d5655eda9",
   "metadata": {},
   "outputs": [],
   "source": [
    "df = pd.read_csv('old_ligands.csv')"
   ]
  },
  {
   "cell_type": "code",
   "execution_count": 337,
   "id": "5efbd861-1c6b-4f73-a698-bba1f76f7fa6",
   "metadata": {},
   "outputs": [],
   "source": [
    "df = df[df['LIGNAME'].isin(missing)]"
   ]
  },
  {
   "cell_type": "code",
   "execution_count": 338,
   "id": "39c7351c-0722-487e-9952-66fefe375dcc",
   "metadata": {},
   "outputs": [
    {
     "data": {
      "text/plain": [
       "(101, 10)"
      ]
     },
     "execution_count": 338,
     "metadata": {},
     "output_type": "execute_result"
    }
   ],
   "source": [
    "df.shape"
   ]
  },
  {
   "cell_type": "code",
   "execution_count": 343,
   "id": "a824dbed-25c5-4429-ac93-1b18810d17a2",
   "metadata": {},
   "outputs": [],
   "source": [
    "df['LIGANDS'] = df['LIGANDS'].apply(lambda x: eval(x))"
   ]
  },
  {
   "cell_type": "markdown",
   "id": "1daffca2-2561-406c-a1a2-b4ef77666a26",
   "metadata": {},
   "source": [
    "Yes, so we'll have to copy over their mol2 files separately."
   ]
  },
  {
   "cell_type": "code",
   "execution_count": 340,
   "id": "a9f193dd-8dd5-4f60-bee5-42a3e756d958",
   "metadata": {},
   "outputs": [],
   "source": [
    "import shutil"
   ]
  },
  {
   "cell_type": "code",
   "execution_count": 364,
   "id": "8fbcd89b-b9cb-4cc8-8070-ab4f43972078",
   "metadata": {},
   "outputs": [],
   "source": [
    "for i,row in df.iterrows():\n",
    "    for lig in row['LIGANDS']:\n",
    "        if row['LIGNAME'] in lig:\n",
    "            break\n",
    "            \n",
    "    filenames = glob.glob('/projects/ml/RF2_allatom/by-pdb/'+\n",
    "        row['CHAINID'][1:3]+'/'+row['CHAINID'][:4]+'_'+row['LIGNAME']+'*.mol2')\n",
    "\n",
    "    outfn = row['LIGNAME']+'.mol2'\n",
    "\n",
    "    outdir = 'mol2/'+outfn[0]+'/'\n",
    "    os.makedirs(outdir, exist_ok=True)\n",
    "\n",
    "    shutil.copyfile(filenames[0], outdir+outfn)"
   ]
  },
  {
   "cell_type": "markdown",
   "id": "d75b53aa-9225-4691-a221-6ebd955253c2",
   "metadata": {},
   "source": [
    "### Save ligands from cif to mol2"
   ]
  },
  {
   "cell_type": "code",
   "execution_count": 365,
   "id": "485e1223-c677-46f7-9c22-1da1a87d2472",
   "metadata": {},
   "outputs": [],
   "source": [
    "df = pd.read_csv('ligands_for_tanimoto.csv')"
   ]
  },
  {
   "cell_type": "code",
   "execution_count": 366,
   "id": "a69a4b49-64bc-4d6e-bbfa-466d3f53dd04",
   "metadata": {},
   "outputs": [
    {
     "data": {
      "text/plain": [
       "(20761, 5)"
      ]
     },
     "execution_count": 366,
     "metadata": {},
     "output_type": "execute_result"
    }
   ],
   "source": [
    "df.shape"
   ]
  },
  {
   "cell_type": "code",
   "execution_count": 370,
   "id": "ebbc117c-c084-404f-974a-6e88a77a8fc6",
   "metadata": {},
   "outputs": [],
   "source": [
    "df['LIGAND'] = df['LIGAND'].apply(lambda x: eval(x))"
   ]
  },
  {
   "cell_type": "code",
   "execution_count": 371,
   "id": "a12ef4bf-8b16-4324-b839-884de84ac1d7",
   "metadata": {
    "collapsed": true,
    "jupyter": {
     "outputs_hidden": true
    },
    "tags": []
   },
   "outputs": [
    {
     "ename": "KeyboardInterrupt",
     "evalue": "",
     "output_type": "error",
     "traceback": [
      "\u001b[0;31m---------------------------------------------------------------------------\u001b[0m",
      "\u001b[0;31mKeyboardInterrupt\u001b[0m                         Traceback (most recent call last)",
      "Input \u001b[0;32mIn [371]\u001b[0m, in \u001b[0;36m<cell line: 3>\u001b[0;34m()\u001b[0m\n\u001b[1;32m      5\u001b[0m pdb_id \u001b[38;5;241m=\u001b[39m row[\u001b[38;5;124m'\u001b[39m\u001b[38;5;124mPDBID\u001b[39m\u001b[38;5;124m'\u001b[39m]\n\u001b[1;32m      6\u001b[0m ligand \u001b[38;5;241m=\u001b[39m \u001b[38;5;28mlist\u001b[39m(row[\u001b[38;5;124m'\u001b[39m\u001b[38;5;124mLIGAND\u001b[39m\u001b[38;5;124m'\u001b[39m])\n\u001b[0;32m----> 8\u001b[0m chains, asmb, covale, modres \u001b[38;5;241m=\u001b[39m pickle\u001b[38;5;241m.\u001b[39mload(gzip\u001b[38;5;241m.\u001b[39mopen(\u001b[38;5;124mf\u001b[39m\u001b[38;5;124m'\u001b[39m\u001b[38;5;124m/projects/ml/RF2_allatom/rcsb/pkl/\u001b[39m\u001b[38;5;132;01m{\u001b[39;00mpdb_id[\u001b[38;5;241m1\u001b[39m:\u001b[38;5;241m3\u001b[39m]\u001b[38;5;132;01m}\u001b[39;00m\u001b[38;5;124m/\u001b[39m\u001b[38;5;132;01m{\u001b[39;00mpdb_id\u001b[38;5;132;01m}\u001b[39;00m\u001b[38;5;124m.pkl.gz\u001b[39m\u001b[38;5;124m'\u001b[39m))\n\u001b[1;32m     10\u001b[0m lig_atoms \u001b[38;5;241m=\u001b[39m \u001b[38;5;28mdict\u001b[39m()\n\u001b[1;32m     11\u001b[0m lig_bonds \u001b[38;5;241m=\u001b[39m []\n",
      "\u001b[0;31mKeyboardInterrupt\u001b[0m: "
     ]
    }
   ],
   "source": [
    "ct = 0\n",
    "t0 = time.time()\n",
    "for i,row in df.iterrows():\n",
    "\n",
    "    pdb_id = row['PDBID']\n",
    "    ligand = list(row['LIGAND'])\n",
    "\n",
    "    chains, asmb, covale, modres = pickle.load(gzip.open(f'/projects/ml/RF2_allatom/rcsb/pkl/{pdb_id[1:3]}/{pdb_id}.pkl.gz'))\n",
    "\n",
    "    lig_atoms = dict()\n",
    "    lig_bonds = []\n",
    "    for i_ch,ch in chains.items():\n",
    "        for k,v in ch.atoms.items():\n",
    "            if k[:3] in ligand:\n",
    "                lig_atoms[k] = v\n",
    "        for bond in ch.bonds:\n",
    "            if bond.a[:3] in ligand or bond.b[:3] in ligand:\n",
    "                lig_bonds.append(bond)\n",
    "    # for bond in covale:\n",
    "    #     if bond.a[:3] in ligand and bond.b[:3] in ligand:\n",
    "    #         lig_bonds.append(bond)\n",
    "\n",
    "    xyz_sm, mask_sm, msa_sm, chid_sm, akeys = cif_ligand_to_xyz(lig_atoms)\n",
    "\n",
    "    mol, bond_feats_sm = cif_ligand_to_obmol(xyz_sm, akeys, lig_atoms, lig_bonds)\n",
    "\n",
    "    obConversion = openbabel.OBConversion()\n",
    "    obConversion.SetOutFormat(\"mol2\")\n",
    "    outfn = ligand[0][2]+'.mol2'\n",
    "    outdir = f'mol2/{outfn[0]}/'\n",
    "    os.makedirs(outdir, exist_ok=True)\n",
    "    obConversion.WriteFile(mol, outdir+outfn)\n",
    "    \n",
    "    ct += 1\n",
    "    \n",
    "    if ct % 50 == 0:\n",
    "        print(ct, time.time() - t0, ligand)"
   ]
  },
  {
   "cell_type": "markdown",
   "id": "a3afb025-cb3b-4a05-91fd-3c2739e247ca",
   "metadata": {},
   "source": [
    "Put the above in a standalone script to run in parallel on digs.\n",
    "\n",
    "Generate a list of commands to run"
   ]
  },
  {
   "cell_type": "code",
   "execution_count": 372,
   "id": "c62c4770-df84-4da7-acfd-3649cf151706",
   "metadata": {},
   "outputs": [
    {
     "data": {
      "text/plain": [
       "(20761, 5)"
      ]
     },
     "execution_count": 372,
     "metadata": {},
     "output_type": "execute_result"
    }
   ],
   "source": [
    "df.shape"
   ]
  },
  {
   "cell_type": "code",
   "execution_count": 373,
   "id": "e595d293-2c5b-4bc0-9f5d-96ff6de6dd5e",
   "metadata": {},
   "outputs": [],
   "source": [
    "num = 100"
   ]
  },
  {
   "cell_type": "code",
   "execution_count": 374,
   "id": "386a50ed-411b-42c1-85f4-d1f90777a18c",
   "metadata": {},
   "outputs": [],
   "source": [
    "with open('cmds_lig_to_mol2.txt','w') as outf:\n",
    "    for istart in range(0, len(df), num):\n",
    "        print(f'source activate dlchem; python lig_to_mol2.py -istart {istart} -num {num}',\n",
    "              file=outf)"
   ]
  },
  {
   "cell_type": "markdown",
   "id": "b6f73157-3c32-4b1c-808d-8d6dcd02fa00",
   "metadata": {},
   "source": [
    "### Compute tanimoto"
   ]
  },
  {
   "cell_type": "code",
   "execution_count": 375,
   "id": "f10d1040-9650-4ba9-aaf0-9100ab6c6b40",
   "metadata": {},
   "outputs": [],
   "source": [
    "from openbabel import openbabel, pybel\n",
    "openbabel.obErrorLog.SetOutputLevel(0) # disable openbabel warnings"
   ]
  },
  {
   "cell_type": "code",
   "execution_count": 376,
   "id": "b8bff8ee-7e0d-4856-aa0d-7cecd5125927",
   "metadata": {},
   "outputs": [],
   "source": [
    "filenames = glob.glob('mol2/*/*.mol2')"
   ]
  },
  {
   "cell_type": "code",
   "execution_count": 377,
   "id": "e359b28e-73a1-4b8f-b6d0-0e4b87a79df9",
   "metadata": {},
   "outputs": [
    {
     "data": {
      "text/plain": [
       "20862"
      ]
     },
     "execution_count": 377,
     "metadata": {},
     "output_type": "execute_result"
    }
   ],
   "source": [
    "len(filenames)"
   ]
  },
  {
   "cell_type": "code",
   "execution_count": 378,
   "id": "71e4d032-f2da-43f8-928c-4ca8d8162a02",
   "metadata": {},
   "outputs": [],
   "source": [
    "t0 = time.time()\n",
    "mols = [next(pybel.readfile('mol2',fn)) for fn in filenames]\n",
    "fps = [mol.calcfp() for mol in mols]"
   ]
  },
  {
   "cell_type": "code",
   "execution_count": 379,
   "id": "18203b2d-4f36-4616-9d3a-da314ddba8a9",
   "metadata": {
    "collapsed": true,
    "jupyter": {
     "outputs_hidden": true
    },
    "tags": []
   },
   "outputs": [
    {
     "name": "stdout",
     "output_type": "stream",
     "text": [
      "200.96962189674377\n",
      "202.82005214691162\n",
      "204.62919449806213\n",
      "206.47700548171997\n",
      "208.45842242240906\n",
      "210.2435073852539\n",
      "212.09637117385864\n",
      "214.01284098625183\n",
      "215.9991946220398\n",
      "217.95119738578796\n",
      "219.68930292129517\n",
      "221.39617609977722\n",
      "223.13687133789062\n",
      "224.90238904953003\n",
      "226.68455338478088\n",
      "228.3933811187744\n",
      "230.19573545455933\n",
      "232.1125407218933\n",
      "233.9922971725464\n",
      "235.85839891433716\n",
      "237.74592900276184\n",
      "239.45363926887512\n",
      "241.20519161224365\n",
      "242.99975514411926\n",
      "244.72403478622437\n",
      "246.4277424812317\n",
      "248.19553351402283\n",
      "250.0407178401947\n",
      "251.89701128005981\n",
      "253.65857601165771\n",
      "255.48559498786926\n",
      "257.20835185050964\n",
      "258.96954584121704\n",
      "260.7551484107971\n",
      "262.45608019828796\n",
      "264.16799783706665\n",
      "265.96162700653076\n",
      "267.79862570762634\n",
      "269.6092894077301\n",
      "271.3825283050537\n",
      "273.1717450618744\n",
      "274.92721486091614\n",
      "276.6996970176697\n",
      "278.4632840156555\n",
      "280.1786003112793\n",
      "281.9093804359436\n",
      "283.71502780914307\n",
      "285.5757722854614\n",
      "287.3399143218994\n",
      "289.14551067352295\n",
      "290.870304107666\n",
      "292.6472382545471\n",
      "294.4373996257782\n",
      "296.14455699920654\n",
      "297.8445360660553\n",
      "299.5909881591797\n",
      "301.3991096019745\n",
      "303.34374260902405\n",
      "305.16813468933105\n",
      "306.95822310447693\n",
      "308.7077143192291\n",
      "310.5740258693695\n",
      "312.4837772846222\n",
      "314.23671078681946\n",
      "315.9095652103424\n",
      "317.5836560726166\n",
      "319.3111045360565\n",
      "321.1012165546417\n",
      "323.02465748786926\n",
      "324.9481568336487\n",
      "326.8661425113678\n",
      "328.62584161758423\n",
      "330.4086883068085\n",
      "332.25412774086\n",
      "334.0216693878174\n",
      "335.83319306373596\n",
      "337.6814706325531\n",
      "339.5248193740845\n",
      "341.3882784843445\n",
      "343.2538924217224\n",
      "345.0657539367676\n",
      "346.8580045700073\n",
      "348.6532607078552\n",
      "350.45770835876465\n",
      "352.22952485084534\n",
      "354.01009702682495\n",
      "355.85277223587036\n",
      "357.76027941703796\n",
      "359.61096477508545\n",
      "361.43182396888733\n",
      "363.2337918281555\n",
      "365.044558763504\n",
      "366.8090703487396\n",
      "368.61552119255066\n",
      "370.41609144210815\n",
      "372.21031951904297\n",
      "374.0452091693878\n",
      "375.95629358291626\n",
      "377.8115634918213\n",
      "379.69433403015137\n",
      "381.4738166332245\n",
      "383.2948212623596\n",
      "385.0795500278473\n",
      "386.9065144062042\n",
      "388.71011233329773\n",
      "390.49451541900635\n",
      "392.3559362888336\n",
      "394.20038866996765\n",
      "396.0002107620239\n",
      "397.90799474716187\n",
      "399.8157184123993\n",
      "401.648775100708\n",
      "403.42234992980957\n",
      "405.19598507881165\n",
      "406.9742407798767\n",
      "408.78839921951294\n",
      "410.6249659061432\n",
      "412.47586464881897\n",
      "414.292227268219\n",
      "416.15648579597473\n",
      "418.0180780887604\n",
      "419.7891454696655\n",
      "421.56109380722046\n",
      "423.32929825782776\n",
      "425.2360293865204\n",
      "427.1912930011749\n",
      "429.1549303531647\n",
      "431.02872228622437\n",
      "432.9706552028656\n",
      "434.9585576057434\n",
      "436.91912364959717\n",
      "438.72987604141235\n",
      "440.44376516342163\n",
      "442.15939235687256\n",
      "443.95221638679504\n",
      "445.8659608364105\n",
      "447.80720496177673\n",
      "449.7037160396576\n",
      "451.58656096458435\n",
      "453.5125482082367\n",
      "455.47588300704956\n",
      "457.38312673568726\n",
      "459.2392897605896\n",
      "461.1011493206024\n",
      "462.9483835697174\n",
      "464.79566979408264\n",
      "466.63626646995544\n",
      "468.38620829582214\n",
      "470.16397428512573\n",
      "471.9850745201111\n",
      "473.89538741111755\n",
      "475.8229727745056\n",
      "477.75885939598083\n",
      "479.76574873924255\n",
      "481.64841890335083\n",
      "483.56647634506226\n",
      "485.4905230998993\n",
      "487.3113477230072\n",
      "489.22794795036316\n",
      "491.15203619003296\n",
      "493.08295702934265\n",
      "494.9815847873688\n",
      "496.84830927848816\n",
      "498.7561905384064\n",
      "500.6816325187683\n",
      "502.63919401168823\n",
      "504.51976561546326\n",
      "506.3966917991638\n",
      "508.328649520874\n",
      "510.19444131851196\n",
      "512.048849105835\n",
      "513.8358550071716\n",
      "515.6979134082794\n",
      "517.5459156036377\n",
      "519.4059987068176\n",
      "521.1576087474823\n",
      "522.9871280193329\n",
      "524.8017632961273\n",
      "526.7079014778137\n",
      "528.6346521377563\n",
      "530.4575347900391\n",
      "532.2482817173004\n",
      "534.1087415218353\n",
      "535.9533033370972\n",
      "537.8343064785004\n",
      "539.6087641716003\n",
      "541.4265959262848\n",
      "543.2796368598938\n",
      "545.1760663986206\n",
      "547.0205652713776\n",
      "548.9159595966339\n",
      "550.7545382976532\n",
      "552.5734193325043\n",
      "554.4164743423462\n",
      "556.2488009929657\n",
      "558.0056097507477\n",
      "559.8078265190125\n",
      "561.6847517490387\n",
      "563.6240661144257\n",
      "565.4575943946838\n",
      "567.2466688156128\n",
      "569.0085911750793\n",
      "570.924859046936\n",
      "572.8909387588501\n",
      "574.8185052871704\n",
      "576.7121257781982\n",
      "578.7009046077728\n",
      "580.7061400413513\n"
     ]
    }
   ],
   "source": [
    "sim_s = []\n",
    "ct = 0\n",
    "for fp in fps:\n",
    "    sim = np.array([fp|fp2 for fp2 in fps])\n",
    "    sim_s.append(sim)\n",
    "    ct += 1\n",
    "    if ct%100 == 0:\n",
    "        print(time.time()-t0)"
   ]
  },
  {
   "cell_type": "code",
   "execution_count": 380,
   "id": "7dcef670-da03-4ef1-9f17-faa260d9c2d7",
   "metadata": {},
   "outputs": [
    {
     "data": {
      "text/plain": [
       "(20862,)"
      ]
     },
     "execution_count": 380,
     "metadata": {},
     "output_type": "execute_result"
    }
   ],
   "source": [
    "sim_s[0].shape"
   ]
  },
  {
   "cell_type": "code",
   "execution_count": 381,
   "id": "cbf9ef82-85bd-4c26-8a1a-8770ba353dc1",
   "metadata": {},
   "outputs": [],
   "source": [
    "sim = np.stack(sim_s, axis=0)"
   ]
  },
  {
   "cell_type": "code",
   "execution_count": 382,
   "id": "ca207f10-c526-4bc8-b9dd-0f3c042bc6ca",
   "metadata": {},
   "outputs": [
    {
     "data": {
      "text/plain": [
       "(20862, 20862)"
      ]
     },
     "execution_count": 382,
     "metadata": {},
     "output_type": "execute_result"
    }
   ],
   "source": [
    "sim.shape"
   ]
  },
  {
   "cell_type": "code",
   "execution_count": 383,
   "id": "6b1b9e49-498b-42df-9a8a-dd9973d6b754",
   "metadata": {},
   "outputs": [],
   "source": [
    "names = [os.path.basename(fn).replace('.mol2','') for fn in filenames]"
   ]
  },
  {
   "cell_type": "code",
   "execution_count": 384,
   "id": "49324ac2-bf85-4db9-bd12-4b6707183b83",
   "metadata": {},
   "outputs": [],
   "source": [
    "np.savez('tanimoto_ligands.npz',names=names,sim=sim)"
   ]
  },
  {
   "cell_type": "markdown",
   "id": "709ecf3d-4fff-4bf2-ae3b-da034104fe12",
   "metadata": {},
   "source": [
    "### Curate strict valid set"
   ]
  },
  {
   "cell_type": "code",
   "execution_count": 94,
   "id": "fe4b6f77-d0d1-404c-984f-f5ffb52bae8a",
   "metadata": {},
   "outputs": [],
   "source": [
    "val_pdb_ids = set([int(l) for l in open('/projects/ml/RF2_allatom/valid_remapped').readlines()])"
   ]
  },
  {
   "cell_type": "code",
   "execution_count": 95,
   "id": "e87a6492-f31c-4eb7-8ac1-e3049ca504c4",
   "metadata": {},
   "outputs": [],
   "source": [
    "# df = pd.read_csv('sm_compl_20230118.csv') # previously used this larger list"
   ]
  },
  {
   "cell_type": "code",
   "execution_count": 96,
   "id": "4c401bf2-fdc3-4a3b-b3d9-0ef8d36d046f",
   "metadata": {},
   "outputs": [],
   "source": [
    "# get the \"train\" split from these sets\n",
    "df = pd.read_csv('sm_compl_all_20230211.csv'),\n",
    "for col in ['LIGAND','PARTNERS','LIGXF']:\n",
    "    df[col] = df[col].apply(lambda x: eval(x))"
   ]
  },
  {
   "cell_type": "code",
   "execution_count": 97,
   "id": "dfd78f52-cd39-4737-83d5-6eef489acb32",
   "metadata": {},
   "outputs": [],
   "source": [
    "df_train = df[~df['CLUSTER'].isin(val_pdb_ids)]"
   ]
  },
  {
   "cell_type": "code",
   "execution_count": 98,
   "id": "06ff48ce-bcdb-4647-9461-677b100c467a",
   "metadata": {},
   "outputs": [
    {
     "data": {
      "text/plain": [
       "(197771, 16)"
      ]
     },
     "execution_count": 98,
     "metadata": {},
     "output_type": "execute_result"
    }
   ],
   "source": [
    "df_train.shape"
   ]
  },
  {
   "cell_type": "code",
   "execution_count": 99,
   "id": "d7eb07d6-3e67-4f1b-a323-fff0eec2459c",
   "metadata": {},
   "outputs": [],
   "source": [
    "def func(row):\n",
    "    lignames = [lig[2] for lig in row['LIGAND']]\n",
    "    for p in row['PARTNERS']:\n",
    "        if p[-1]=='nonpoly':\n",
    "            lignames += [lig[2] for lig in p[0]]\n",
    "    return lignames"
   ]
  },
  {
   "cell_type": "code",
   "execution_count": 100,
   "id": "0f1f5478-f013-4d5a-9e65-7c82ac2746bd",
   "metadata": {},
   "outputs": [
    {
     "name": "stderr",
     "output_type": "stream",
     "text": [
      "/scratch/jue/28700558/ipykernel_1480857/3330530388.py:1: SettingWithCopyWarning: \n",
      "A value is trying to be set on a copy of a slice from a DataFrame.\n",
      "Try using .loc[row_indexer,col_indexer] = value instead\n",
      "\n",
      "See the caveats in the documentation: https://pandas.pydata.org/pandas-docs/stable/user_guide/indexing.html#returning-a-view-versus-a-copy\n",
      "  df_train['LIGNAMES'] = df_train.apply(func, axis=1)\n"
     ]
    }
   ],
   "source": [
    "df_train['LIGNAMES'] = df_train.apply(func, axis=1)"
   ]
  },
  {
   "cell_type": "code",
   "execution_count": 101,
   "id": "63ffbdc3-5d3c-407b-97d1-875ba2a168ee",
   "metadata": {},
   "outputs": [],
   "source": [
    "train_lignames = set()\n",
    "for i,row in df_train.iterrows():\n",
    "    train_lignames.update(row['LIGNAMES'])"
   ]
  },
  {
   "cell_type": "code",
   "execution_count": 102,
   "id": "9dcd5f43-42f7-4628-9ba8-3b37b9a9fd2f",
   "metadata": {},
   "outputs": [
    {
     "data": {
      "text/plain": [
       "16963"
      ]
     },
     "execution_count": 102,
     "metadata": {},
     "output_type": "execute_result"
    }
   ],
   "source": [
    "len(train_lignames)"
   ]
  },
  {
   "cell_type": "code",
   "execution_count": 103,
   "id": "92d3b018-fa86-440d-9ccc-2df1ec32278d",
   "metadata": {},
   "outputs": [],
   "source": [
    "# get the \"valid\" split from these sets\n",
    "df2 = df[df['SUBSET']=='organic']\n",
    "df2['LIGNAME'] = df2['LIGAND'].apply(lambda x: x[0][2])"
   ]
  },
  {
   "cell_type": "code",
   "execution_count": 104,
   "id": "0f7530c6-d774-4da6-9b78-31204f8f243f",
   "metadata": {},
   "outputs": [],
   "source": [
    "df_valid = df2[df2['CLUSTER'].isin(val_pdb_ids)]"
   ]
  },
  {
   "cell_type": "code",
   "execution_count": 105,
   "id": "9e013f6e-0e97-4bd8-8466-ae1560f9fde6",
   "metadata": {},
   "outputs": [
    {
     "data": {
      "text/plain": [
       "(3267, 17)"
      ]
     },
     "execution_count": 105,
     "metadata": {},
     "output_type": "execute_result"
    }
   ],
   "source": [
    "df_valid.shape"
   ]
  },
  {
   "cell_type": "code",
   "execution_count": 106,
   "id": "304ce3a1-19f1-4045-ba3f-4682097287f2",
   "metadata": {},
   "outputs": [],
   "source": [
    "dat = np.load('tanimoto_ligands.npz')"
   ]
  },
  {
   "cell_type": "code",
   "execution_count": 107,
   "id": "90df000a-ff49-4520-b871-a7a38fc59732",
   "metadata": {},
   "outputs": [],
   "source": [
    "names = dat['names']"
   ]
  },
  {
   "cell_type": "code",
   "execution_count": 108,
   "id": "39dc13db-5b6f-49c0-bfb2-d102aac3b54d",
   "metadata": {},
   "outputs": [
    {
     "data": {
      "text/plain": [
       "20862"
      ]
     },
     "execution_count": 108,
     "metadata": {},
     "output_type": "execute_result"
    }
   ],
   "source": [
    "len(names)"
   ]
  },
  {
   "cell_type": "code",
   "execution_count": 109,
   "id": "d675227b-1155-409d-b708-fce0766f58f1",
   "metadata": {},
   "outputs": [],
   "source": [
    "sim = dat['sim']"
   ]
  },
  {
   "cell_type": "code",
   "execution_count": 110,
   "id": "b485f063-d399-4567-a868-814c452e13f2",
   "metadata": {},
   "outputs": [
    {
     "data": {
      "text/plain": [
       "(20862, 20862)"
      ]
     },
     "execution_count": 110,
     "metadata": {},
     "output_type": "execute_result"
    }
   ],
   "source": [
    "sim.shape"
   ]
  },
  {
   "cell_type": "code",
   "execution_count": 111,
   "id": "0aade657-516f-47bb-b1bd-7d839901ae25",
   "metadata": {},
   "outputs": [],
   "source": [
    "df = pd.read_csv('old_ligands.csv')"
   ]
  },
  {
   "cell_type": "code",
   "execution_count": 112,
   "id": "976c26de-1137-4fc5-991e-b7ffb98b4463",
   "metadata": {},
   "outputs": [],
   "source": [
    "df_train_old = df[~df['CLUSTER'].isin(val_pdb_ids)]"
   ]
  },
  {
   "cell_type": "code",
   "execution_count": 113,
   "id": "6546d1fd-04ed-4d48-96d7-919cd51f2a1f",
   "metadata": {},
   "outputs": [],
   "source": [
    "train_lignames = train_lignames.union(set(df_train_old['LIGNAME'].values))\n",
    "name_in_train = np.array([name in train_lignames for name in names])"
   ]
  },
  {
   "cell_type": "code",
   "execution_count": 114,
   "id": "108dba4d-0d9a-4309-ab8c-5433ddcb997e",
   "metadata": {},
   "outputs": [
    {
     "data": {
      "text/plain": [
       "20862"
      ]
     },
     "execution_count": 114,
     "metadata": {},
     "output_type": "execute_result"
    }
   ],
   "source": [
    "len(name_in_train)"
   ]
  },
  {
   "cell_type": "code",
   "execution_count": 115,
   "id": "52d4e37e-f254-42af-bc6a-7b38c0f59980",
   "metadata": {},
   "outputs": [
    {
     "data": {
      "text/plain": [
       "19751"
      ]
     },
     "execution_count": 115,
     "metadata": {},
     "output_type": "execute_result"
    }
   ],
   "source": [
    "sum(name_in_train)"
   ]
  },
  {
   "cell_type": "code",
   "execution_count": 116,
   "id": "d619b2fe-8797-41a2-9df4-e8a817586134",
   "metadata": {},
   "outputs": [],
   "source": [
    "name2idx = dict(zip(names,range(len(names))))"
   ]
  },
  {
   "cell_type": "code",
   "execution_count": 117,
   "id": "8fbeaa97-9f16-4302-89b8-21be7163f380",
   "metadata": {},
   "outputs": [],
   "source": [
    "def func(ligname):\n",
    "    return name_in_train[sim[name2idx[ligname]]>0.85].any()"
   ]
  },
  {
   "cell_type": "code",
   "execution_count": 118,
   "id": "57fb48d2-5567-4e75-9f5f-eb91b6af31fe",
   "metadata": {},
   "outputs": [
    {
     "name": "stderr",
     "output_type": "stream",
     "text": [
      "/scratch/jue/28700558/ipykernel_1480857/3353789439.py:1: SettingWithCopyWarning: \n",
      "A value is trying to be set on a copy of a slice from a DataFrame.\n",
      "Try using .loc[row_indexer,col_indexer] = value instead\n",
      "\n",
      "See the caveats in the documentation: https://pandas.pydata.org/pandas-docs/stable/user_guide/indexing.html#returning-a-view-versus-a-copy\n",
      "  df_valid['TRAIN_OVERLAP'] = df_valid['LIGNAME'].apply(func)\n"
     ]
    }
   ],
   "source": [
    "df_valid['TRAIN_OVERLAP'] = df_valid['LIGNAME'].apply(func)"
   ]
  },
  {
   "cell_type": "code",
   "execution_count": 119,
   "id": "122f3bbb-0c6c-4a06-9df5-0bb60572c556",
   "metadata": {},
   "outputs": [],
   "source": [
    "df_strict = df_valid[~df_valid['TRAIN_OVERLAP']]"
   ]
  },
  {
   "cell_type": "code",
   "execution_count": 120,
   "id": "ae7f050d-b435-4fcb-969f-1c27286ae261",
   "metadata": {},
   "outputs": [
    {
     "data": {
      "text/plain": [
       "(659, 18)"
      ]
     },
     "execution_count": 120,
     "metadata": {},
     "output_type": "execute_result"
    }
   ],
   "source": [
    "df_strict.shape"
   ]
  },
  {
   "cell_type": "code",
   "execution_count": 121,
   "id": "e7024518-a85c-4984-b569-033951c3cef0",
   "metadata": {},
   "outputs": [
    {
     "data": {
      "text/plain": [
       "(61,)"
      ]
     },
     "execution_count": 121,
     "metadata": {},
     "output_type": "execute_result"
    }
   ],
   "source": [
    "df_strict['CLUSTER'].drop_duplicates().shape"
   ]
  },
  {
   "cell_type": "code",
   "execution_count": 122,
   "id": "790bcebe-8e79-4a2b-b94c-248dae15bb01",
   "metadata": {},
   "outputs": [],
   "source": [
    "df_strict = df_strict.drop(['LIGNAME','TRAIN_OVERLAP'],axis=1)"
   ]
  },
  {
   "cell_type": "code",
   "execution_count": 126,
   "id": "e1f58bdc-f326-4010-b350-37187c72f4fb",
   "metadata": {},
   "outputs": [],
   "source": [
    "df_strict.to_csv('sm_compl_valid_strict_20230211.csv',index=None)"
   ]
  },
  {
   "cell_type": "code",
   "execution_count": null,
   "id": "e7547770-2bff-4d27-a11c-1cf4b4debf79",
   "metadata": {},
   "outputs": [],
   "source": []
  }
 ],
 "metadata": {
  "kernelspec": {
   "display_name": "SE3-nvidia",
   "language": "python",
   "name": "se3-nvidia"
  },
  "language_info": {
   "codemirror_mode": {
    "name": "ipython",
    "version": 3
   },
   "file_extension": ".py",
   "mimetype": "text/x-python",
   "name": "python",
   "nbconvert_exporter": "python",
   "pygments_lexer": "ipython3",
   "version": "3.8.2"
  }
 },
 "nbformat": 4,
 "nbformat_minor": 5
}
